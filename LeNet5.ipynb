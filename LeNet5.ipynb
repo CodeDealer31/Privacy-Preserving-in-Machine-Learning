{
  "nbformat": 4,
  "nbformat_minor": 0,
  "metadata": {
    "colab": {
      "name": "LeNet5.ipynb",
      "provenance": [],
      "collapsed_sections": []
    },
    "kernelspec": {
      "name": "python3",
      "display_name": "Python 3"
    },
    "accelerator": "GPU"
  },
  "cells": [
    {
      "cell_type": "markdown",
      "metadata": {
        "id": "qphp8JUcwB9Q",
        "colab_type": "text"
      },
      "source": [
        ""
      ]
    },
    {
      "cell_type": "code",
      "metadata": {
        "id": "ocSIi2smsxuc",
        "colab_type": "code",
        "outputId": "cc67e615-b055-4c21-cfe0-cc14a4647322",
        "colab": {
          "base_uri": "https://localhost:8080/",
          "height": 123
        }
      },
      "source": [
        "import sys\n",
        "import os\n",
        "from google.colab import drive\n",
        "drive.mount('/content/gdrive')\n",
        "default_path = '/content/gdrive/My Drive/PPML/LeNet5/'\n",
        "save_dir = default_path + 'saves/'"
      ],
      "execution_count": 0,
      "outputs": [
        {
          "output_type": "stream",
          "text": [
            "Go to this URL in a browser: https://accounts.google.com/o/oauth2/auth?client_id=947318989803-6bn6qk8qdgf4n4g3pfee6491hc0brc4i.apps.googleusercontent.com&redirect_uri=urn%3Aietf%3Awg%3Aoauth%3A2.0%3Aoob&scope=email%20https%3A%2F%2Fwww.googleapis.com%2Fauth%2Fdocs.test%20https%3A%2F%2Fwww.googleapis.com%2Fauth%2Fdrive%20https%3A%2F%2Fwww.googleapis.com%2Fauth%2Fdrive.photos.readonly%20https%3A%2F%2Fwww.googleapis.com%2Fauth%2Fpeopleapi.readonly&response_type=code\n",
            "\n",
            "Enter your authorization code:\n",
            "··········\n",
            "Mounted at /content/gdrive\n"
          ],
          "name": "stdout"
        }
      ]
    },
    {
      "cell_type": "code",
      "metadata": {
        "id": "_33gR6ODfy95",
        "colab_type": "code",
        "outputId": "36822bac-220e-48c8-f743-9ac12dc8151f",
        "colab": {
          "base_uri": "https://localhost:8080/",
          "height": 34
        }
      },
      "source": [
        "# ### Implementing LeNet-5 Architecture On MNIST Dataset (GPU Implementation)\n",
        "\n",
        "import torch\n",
        "# torch.multiprocessing.set_start_method(\"spawn\")        # https://github.com/pytorch/pytorch/issues/3491#event-1326332533\n",
        "import torch.nn   \n",
        "import torch.optim \n",
        "import torch.nn.functional \n",
        "import torchvision.datasets as datasets\n",
        "import torchvision.transforms as transforms     \n",
        "\n",
        "import numpy as np   # this is torch's wrapper for numpy \n",
        "import matplotlib\n",
        "matplotlib.use('Agg')       \n",
        "get_ipython().magic('matplotlib inline')\n",
        "from matplotlib import pyplot    \n",
        "from matplotlib.pyplot import subplot     \n",
        "from sklearn.metrics import accuracy_score\n",
        "import random\n",
        "from tqdm import tqdm\n",
        "import pickle\n",
        "import time\n",
        "\n",
        "device = torch.device(\"cuda:0\" if torch.cuda.is_available() else \"cpu\")\n",
        "print('Using device:', device)\n"
      ],
      "execution_count": 0,
      "outputs": [
        {
          "output_type": "stream",
          "text": [
            "Using device: cuda:0\n"
          ],
          "name": "stdout"
        }
      ]
    },
    {
      "cell_type": "code",
      "metadata": {
        "id": "i437SsvHO3oe",
        "colab_type": "code",
        "colab": {}
      },
      "source": [
        "# pigi = 1\n",
        "# def spread_divergence(c,x,b,m,epsilon,bounds=True):\n",
        "#     ctilde=torch.zeros(len(c))\n",
        "#     xtilde=torch.zeros(x.shape)\n",
        "# #     ctilde=np.zeros(len(c))\n",
        "# #     xtilde=np.zeros(x.shape)\n",
        "#     x_pixel=torch.zeros((int(784/b**2),len(c)))\n",
        "#     for n in range(len(c)):\n",
        "#       if random.random()<pigi:\n",
        "#         ctilde[n]=c[n]\n",
        "#       else:\n",
        "#         ctilde[n]=random.randint(0,10)\n",
        "#       xtilde[n,:,:]=pixelization(x[n].view(784),b,m,epsilon,bounds)\n",
        "#     return (ctilde, xtilde)"
      ],
      "execution_count": 0,
      "outputs": []
    },
    {
      "cell_type": "code",
      "metadata": {
        "id": "EhAceTiHO3rl",
        "colab_type": "code",
        "colab": {}
      },
      "source": [
        "def Laplace_noise(x,m,epsilon,bounds=True):\n",
        "  b=1\n",
        "  if m != 0:\n",
        "    for i in range(28):\n",
        "      for j in range(28):\n",
        "        if random.random()<0.5:\n",
        "            x[i,j]+=m/(b**2*epsilon)*np.random.exponential()\n",
        "        else:\n",
        "            x[i,j]-=m/(b**2*epsilon)*np.random.exponential()\n",
        "        if bounds:\n",
        "            x[i,j]=max(0,x[i,j])\n",
        "            x[i,j]=min(1,x[i,j])\n",
        "  return x"
      ],
      "execution_count": 0,
      "outputs": []
    },
    {
      "cell_type": "code",
      "metadata": {
        "id": "ADbyLyB_0AGK",
        "colab_type": "code",
        "colab": {}
      },
      "source": [
        "def prob_xgtx(tx,m,epsilon):\n",
        "    sigma = m/epsilon\n",
        "    theta = 0.1306604762738429\n",
        "    thetaB = torch.zeros(tx.shape)\n",
        "    for i in range(28):\n",
        "      for j in range(28):\n",
        "        A = np.exp(-abs(tx[i,j]-1)/sigma)*theta\n",
        "        B = np.exp(-abs(tx[i,j])/sigma)*(1-theta)\n",
        "        thetaB[i,j] = A/(A+B)\n",
        "    return thetaB\n",
        "\n",
        "def x_sampling(S,thetaB,label):\n",
        "  for s in range(S):\n",
        "    x_rand=torch.rand(thetaB.shape)\n",
        "    x_rand=x_rand.to(device)\n",
        "    x_sample=torch.gt(thetaB, x_rand, out=None).float().cuda()\n",
        "    if s==0:\n",
        "      x_samples=x_sample.cuda()\n",
        "    else:\n",
        "      x_samples=torch.cat([x_samples,x_sample],dim=0).cuda()\n",
        "  x_samples.requires_grad_(True)\n",
        "  labels=torch.cat([label]*S,dim=0).cuda()\n",
        "  return (x_samples,labels)\n",
        "\n",
        "def sampling_weights(S,labels,outputs):\n",
        "  weights=torch.zeros(len(labels),requires_grad=False)\n",
        "  for i in range(int(len(labels)/S)):\n",
        "    w=torch.zeros(S)\n",
        "    for s in range(S):\n",
        "      prob=torch.exp(outputs[i+s*S])\n",
        "      w[s]=prob[labels[i+s*S]]/torch.sum(prob)\n",
        "    for s in range(S):\n",
        "      weights[i+s*S]=w[s]/torch.sum(w)\n",
        "  return weights"
      ],
      "execution_count": 0,
      "outputs": []
    },
    {
      "cell_type": "code",
      "metadata": {
        "id": "DeZXahofaGO6",
        "colab_type": "code",
        "outputId": "2193ca60-860f-4db6-8b58-18cb633e5ade",
        "colab": {
          "base_uri": "https://localhost:8080/",
          "height": 279
        }
      },
      "source": [
        "#load noised trainset from Google Drive pickle file\n",
        "train = datasets.MNIST(root='./data', train=True, download=True, transform=transforms.ToTensor())\n",
        "train_noise = datasets.MNIST(root='./data', train=True, download=True, transform=transforms.ToTensor())\n",
        "train_theta = datasets.MNIST(root='./data', train=True, download=True, transform=transforms.ToTensor())\n",
        "# valid = datasets.MNIST(root='./data', train=True, download=True, transform=transforms.ToTensor())\n",
        "test = datasets.MNIST(root='./data', train=False, download=True, transform=transforms.ToTensor())  \n",
        "\n",
        "# create training and validation set indexes (80-20 split)\n",
        "idx = list(range(len(train)))\n",
        "np.random.seed(1009)\n",
        "np.random.shuffle(idx)          \n",
        "train_valid_ratio = 0.8 #0.8\n",
        "train_idx = idx[ : int(train_valid_ratio * len(idx))]       \n",
        "valid_idx = idx[int(train_valid_ratio * len(idx)) : ]"
      ],
      "execution_count": 0,
      "outputs": [
        {
          "output_type": "stream",
          "text": [
            "  0%|          | 0/9912422 [00:00<?, ?it/s]"
          ],
          "name": "stderr"
        },
        {
          "output_type": "stream",
          "text": [
            "Downloading http://yann.lecun.com/exdb/mnist/train-images-idx3-ubyte.gz to ./data/MNIST/raw/train-images-idx3-ubyte.gz\n"
          ],
          "name": "stdout"
        },
        {
          "output_type": "stream",
          "text": [
            "9920512it [00:00, 26472017.21it/s]                            \n"
          ],
          "name": "stderr"
        },
        {
          "output_type": "stream",
          "text": [
            "Extracting ./data/MNIST/raw/train-images-idx3-ubyte.gz\n"
          ],
          "name": "stdout"
        },
        {
          "output_type": "stream",
          "text": [
            "32768it [00:00, 430503.03it/s]\n",
            "  1%|          | 16384/1648877 [00:00<00:11, 143170.65it/s]"
          ],
          "name": "stderr"
        },
        {
          "output_type": "stream",
          "text": [
            "Downloading http://yann.lecun.com/exdb/mnist/train-labels-idx1-ubyte.gz to ./data/MNIST/raw/train-labels-idx1-ubyte.gz\n",
            "Extracting ./data/MNIST/raw/train-labels-idx1-ubyte.gz\n",
            "Downloading http://yann.lecun.com/exdb/mnist/t10k-images-idx3-ubyte.gz to ./data/MNIST/raw/t10k-images-idx3-ubyte.gz\n"
          ],
          "name": "stdout"
        },
        {
          "output_type": "stream",
          "text": [
            "1654784it [00:00, 7480392.42it/s]                           \n",
            "8192it [00:00, 179640.92it/s]\n"
          ],
          "name": "stderr"
        },
        {
          "output_type": "stream",
          "text": [
            "Extracting ./data/MNIST/raw/t10k-images-idx3-ubyte.gz\n",
            "Downloading http://yann.lecun.com/exdb/mnist/t10k-labels-idx1-ubyte.gz to ./data/MNIST/raw/t10k-labels-idx1-ubyte.gz\n",
            "Extracting ./data/MNIST/raw/t10k-labels-idx1-ubyte.gz\n",
            "Processing...\n",
            "Done!\n"
          ],
          "name": "stdout"
        }
      ]
    },
    {
      "cell_type": "code",
      "metadata": {
        "id": "eCELTpbbF1L1",
        "colab_type": "code",
        "outputId": "aa729225-0788-45a3-d0d5-777bcae46c59",
        "colab": {
          "base_uri": "https://localhost:8080/",
          "height": 34
        }
      },
      "source": [
        "# train_noise.data = train_noise.data.float()\n",
        "# #add Laplace noise to train set\n",
        "# train_noise.data = train_noise.data.float()/255\n",
        "\n",
        "# m = 4\n",
        "# epsilon = 20\n",
        "# bounds = False\n",
        "# for i in tqdm(range(len(train.data))):\n",
        "#   train_noise.data[i]=Laplace_noise(train_noise.data[i],m,epsilon,bounds)\n",
        "# with open(save_dir + 'MNIST_trainset_noise.pickle', 'wb') as handle:\n",
        "#     pickle.dump(train_noise, handle, protocol=pickle.HIGHEST_PROTOCOL)   "
      ],
      "execution_count": 0,
      "outputs": [
        {
          "output_type": "stream",
          "text": [
            "100%|██████████| 60000/60000 [27:10<00:00, 36.67it/s]\n"
          ],
          "name": "stderr"
        }
      ]
    },
    {
      "cell_type": "code",
      "metadata": {
        "id": "GFgmQi4IGT-q",
        "colab_type": "code",
        "colab": {}
      },
      "source": [
        "with open(save_dir + 'MNIST_trainset_noise.pickle', 'rb') as handle:\n",
        "    train_noise = pickle.load(handle)"
      ],
      "execution_count": 0,
      "outputs": []
    },
    {
      "cell_type": "code",
      "metadata": {
        "id": "-YXsnoiXG26d",
        "colab_type": "code",
        "outputId": "8106786d-1678-4041-863b-fe17ca47ee77",
        "colab": {
          "base_uri": "https://localhost:8080/",
          "height": 34
        }
      },
      "source": [
        "# train_theta.data = train_theta.data.float()\n",
        "# for i in tqdm(range(len(train_noise.data))):\n",
        "#   train_theta.data[i]=prob_xgtx(train_noise.data[i],4,20)\n",
        "# with open(save_dir + 'MNIST_trainset_theta.pickle', 'wb') as handle:\n",
        "#     pickle.dump(train_theta, handle, protocol=pickle.HIGHEST_PROTOCOL)   "
      ],
      "execution_count": 0,
      "outputs": [
        {
          "output_type": "stream",
          "text": [
            " 42%|████▏     | 25393/60000 [59:58<1:20:09,  7.20it/s]"
          ],
          "name": "stderr"
        }
      ]
    },
    {
      "cell_type": "code",
      "metadata": {
        "id": "vc_mS48ABl72",
        "colab_type": "code",
        "colab": {}
      },
      "source": [
        "# train_theta = datasets.MNIST(root='./data', train=True, download=True, transform=transforms.ToTensor())\n",
        "with open(save_dir + 'MNIST_trainset_theta.pickle', 'rb') as handle:\n",
        "    train_theta = pickle.load(handle)"
      ],
      "execution_count": 0,
      "outputs": []
    },
    {
      "cell_type": "code",
      "metadata": {
        "id": "BbfO_HFaFdgM",
        "colab_type": "code",
        "outputId": "145fbffb-a567-4c07-cfb0-d387d92825d1",
        "colab": {
          "base_uri": "https://localhost:8080/",
          "height": 303
        }
      },
      "source": [
        "# sample images\n",
        "fig1 = train.data[3].numpy()  \n",
        "fig2 = train.data[2501].numpy()\n",
        "fig3 = train.data[25001].numpy()  \n",
        "fig4 = train.data[59998].numpy()\n",
        "subplot(2,2,1), pyplot.imshow(fig1)  \n",
        "subplot(2,2,2), pyplot.imshow(fig2) \n",
        "subplot(2,2,3), pyplot.imshow(fig3)\n",
        "subplot(2,2,4), pyplot.imshow(fig4)"
      ],
      "execution_count": 0,
      "outputs": [
        {
          "output_type": "execute_result",
          "data": {
            "text/plain": [
              "(<matplotlib.axes._subplots.AxesSubplot at 0x7f9f5ea55a90>,\n",
              " <matplotlib.image.AxesImage at 0x7f9f5e9b52b0>)"
            ]
          },
          "metadata": {
            "tags": []
          },
          "execution_count": 8
        },
        {
          "output_type": "display_data",
          "data": {
            "image/png": "[encoded data removed]",
            "text/plain": [
              "<Figure size 432x288 with 4 Axes>"
            ]
          },
          "metadata": {
            "tags": []
          }
        }
      ]
    },
    {
      "cell_type": "code",
      "metadata": {
        "id": "hghcomLkDUgT",
        "colab_type": "code",
        "outputId": "d2f1d552-f54b-4569-d44a-985a008e1faa",
        "colab": {
          "base_uri": "https://localhost:8080/",
          "height": 303
        }
      },
      "source": [
        "# sample images\n",
        "fig1 = train_noise.data[3].numpy()  \n",
        "fig2 = train_noise.data[2501].numpy()\n",
        "fig3 = train_noise.data[25001].numpy()  \n",
        "fig4 = train_noise.data[59998].numpy()\n",
        "subplot(2,2,1), pyplot.imshow(fig1)  \n",
        "subplot(2,2,2), pyplot.imshow(fig2) \n",
        "subplot(2,2,3), pyplot.imshow(fig3)\n",
        "subplot(2,2,4), pyplot.imshow(fig4)"
      ],
      "execution_count": 0,
      "outputs": [
        {
          "output_type": "execute_result",
          "data": {
            "text/plain": [
              "(<matplotlib.axes._subplots.AxesSubplot at 0x7f9f5c916f28>,\n",
              " <matplotlib.image.AxesImage at 0x7f9f5c86fcf8>)"
            ]
          },
          "metadata": {
            "tags": []
          },
          "execution_count": 9
        },
        {
          "output_type": "display_data",
          "data": {
            "image/png": "[encoded data removed]",
            "text/plain": [
              "<Figure size 432x288 with 4 Axes>"
            ]
          },
          "metadata": {
            "tags": []
          }
        }
      ]
    },
    {
      "cell_type": "code",
      "metadata": {
        "id": "xuhgpMM0g3oR",
        "colab_type": "code",
        "outputId": "664ffe0d-f381-41d7-de37-2069652a3af6",
        "colab": {
          "base_uri": "https://localhost:8080/",
          "height": 303
        }
      },
      "source": [
        "fig1 = train_theta.data[3].numpy()  \n",
        "fig2 = train_theta.data[2501].numpy()\n",
        "fig3 = train_theta.data[25001].numpy()  \n",
        "fig4 = train_theta.data[59998].numpy()\n",
        "subplot(2,2,1), pyplot.imshow(fig1)  \n",
        "subplot(2,2,2), pyplot.imshow(fig2) \n",
        "subplot(2,2,3), pyplot.imshow(fig3)\n",
        "subplot(2,2,4), pyplot.imshow(fig4)"
      ],
      "execution_count": 0,
      "outputs": [
        {
          "output_type": "execute_result",
          "data": {
            "text/plain": [
              "(<matplotlib.axes._subplots.AxesSubplot at 0x7f9f5c7b4a58>,\n",
              " <matplotlib.image.AxesImage at 0x7f9f5c789828>)"
            ]
          },
          "metadata": {
            "tags": []
          },
          "execution_count": 10
        },
        {
          "output_type": "display_data",
          "data": {
            "image/png": "[encoded data removed]",
            "text/plain": [
              "<Figure size 432x288 with 4 Axes>"
            ]
          },
          "metadata": {
            "tags": []
          }
        }
      ]
    },
    {
      "cell_type": "code",
      "metadata": {
        "id": "CocQqeb98O-F",
        "colab_type": "code",
        "colab": {}
      },
      "source": [
        "(x_samples,labels) = x_sampling(2,train_theta.data[3].to(device),torch.tensor([1]))"
      ],
      "execution_count": 0,
      "outputs": []
    },
    {
      "cell_type": "code",
      "metadata": {
        "id": "BEAfgIvc-ai6",
        "colab_type": "code",
        "outputId": "a139883a-dc66-49c6-9a2a-584aa2bf5134",
        "colab": {
          "base_uri": "https://localhost:8080/",
          "height": 70
        }
      },
      "source": [
        "print(x_samples[0])"
      ],
      "execution_count": 0,
      "outputs": [
        {
          "output_type": "stream",
          "text": [
            "tensor([1., 0., 0., 0., 0., 0., 0., 0., 0., 0., 0., 0., 0., 0., 0., 0., 0., 0.,\n",
            "        0., 0., 0., 0., 0., 0., 0., 0., 0., 0.], device='cuda:0',\n",
            "       grad_fn=<SelectBackward>)\n"
          ],
          "name": "stdout"
        }
      ]
    },
    {
      "cell_type": "code",
      "metadata": {
        "id": "rhOeXQZ39Kuz",
        "colab_type": "code",
        "outputId": "0f2f1bc2-3dc6-4999-8117-3f1ea1ed7fd0",
        "colab": {
          "base_uri": "https://localhost:8080/",
          "height": 184
        }
      },
      "source": [
        "fig1 = x_samples[0:28].cpu().detach().numpy() \n",
        "fig2 = x_samples[29:56].cpu().detach().numpy()\n",
        "subplot(2,2,1), pyplot.imshow(fig1)  \n",
        "subplot(2,2,2), pyplot.imshow(fig2)  \n"
      ],
      "execution_count": 0,
      "outputs": [
        {
          "output_type": "execute_result",
          "data": {
            "text/plain": [
              "(<matplotlib.axes._subplots.AxesSubplot at 0x7f9fce4800b8>,\n",
              " <matplotlib.image.AxesImage at 0x7f9f5b130cc0>)"
            ]
          },
          "metadata": {
            "tags": []
          },
          "execution_count": 12
        },
        {
          "output_type": "display_data",
          "data": {
            "image/png": "[encoded data removed]",
            "text/plain": [
              "<Figure size 432x288 with 2 Axes>"
            ]
          },
          "metadata": {
            "tags": []
          }
        }
      ]
    },
    {
      "cell_type": "code",
      "metadata": {
        "id": "i_2xPwRDFdkd",
        "colab_type": "code",
        "colab": {}
      },
      "source": [
        "# In[4]:\n",
        "\n",
        "# generate training and validation set samples\n",
        "train_set = torch.utils.data.sampler.SubsetRandomSampler(train_idx)    \n",
        "valid_set = torch.utils.data.sampler.SubsetRandomSampler(valid_idx)  \n",
        "\n",
        "# Load training and validation data based on above samples\n",
        "# Size of an individual batch during training and validation is 30\n",
        "# Both training and validation datasets are shuffled at every epoch by 'SubsetRandomSampler()'. Test set is not shuffled.\n",
        "\n",
        "theta_loader = torch.utils.data.DataLoader(train_theta, batch_size=128, sampler=train_set, num_workers=4)\n",
        "train_loader = torch.utils.data.DataLoader(train, batch_size=32, sampler=train_set, num_workers=4)\n",
        "valid_loader = torch.utils.data.DataLoader(train, batch_size=32, sampler=valid_set, num_workers=4)    \n",
        "test_loader = torch.utils.data.DataLoader(test, num_workers=4)       \n"
      ],
      "execution_count": 0,
      "outputs": []
    },
    {
      "cell_type": "code",
      "metadata": {
        "id": "N93ZIKF2FJX6",
        "colab_type": "code",
        "colab": {}
      },
      "source": [
        "# Defining the network (LeNet-5)  \n",
        "class LeNet5(torch.nn.Module):          \n",
        "     \n",
        "    def __init__(self):     \n",
        "        super(LeNet5, self).__init__()\n",
        "        # Convolution (In LeNet-5, 32x32 images are given as input. Hence padding of 2 is done below)\n",
        "        self.conv1 = torch.nn.Conv2d(in_channels=1, out_channels=6, kernel_size=5, stride=1, padding=2, bias=True)\n",
        "        # Max-pooling\n",
        "        self.max_pool_1 = torch.nn.MaxPool2d(kernel_size=2)\n",
        "        # Convolution\n",
        "        self.conv2 = torch.nn.Conv2d(in_channels=6, out_channels=16, kernel_size=5, stride=1, padding=0, bias=True)\n",
        "        # Max-pooling\n",
        "        self.max_pool_2 = torch.nn.MaxPool2d(kernel_size=2) \n",
        "        # Fully connected layer\n",
        "        self.fc1 = torch.nn.Linear(16*5*5, 120)   # convert matrix with 16*5*5 (= 400) features to a matrix of 120 features (columns)\n",
        "        self.fc2 = torch.nn.Linear(120, 84)       # convert matrix with 120 features to a matrix of 84 features (columns)\n",
        "        self.fc3 = torch.nn.Linear(84, 10)        # convert matrix with 84 features to a matrix of 10 features (columns)\n",
        "        \n",
        "    def forward(self, x):\n",
        "        # convolve, then perform ReLU non-linearity\n",
        "        x = torch.nn.functional.relu(self.conv1(x))  \n",
        "        # max-pooling with 2x2 grid \n",
        "        x = self.max_pool_1(x) \n",
        "        # convolve, then perform ReLU non-linearity\n",
        "        x = torch.nn.functional.relu(self.conv2(x))\n",
        "        # max-pooling with 2x2 grid\n",
        "        x = self.max_pool_2(x)\n",
        "        # first flatten 'max_pool_2_out' to contain 16*5*5 columns\n",
        "        # read through https://stackoverflow.com/a/42482819/7551231\n",
        "        x = x.view(-1, 16*5*5)\n",
        "        # FC-1, then perform ReLU non-linearity\n",
        "        x = torch.nn.functional.relu(self.fc1(x))\n",
        "        # FC-2, then perform ReLU non-linearity\n",
        "        x = torch.nn.functional.relu(self.fc2(x))\n",
        "        # FC-3\n",
        "        x = self.fc3(x)\n",
        "        return x\n",
        "\n",
        "def weights_init_normal(m):\n",
        "    '''Takes in a module and initializes all linear layers with weight\n",
        "       values taken from a normal distribution.'''\n",
        "\n",
        "    classname = m.__class__.__name__\n",
        "    # for every Linear layer in a model\n",
        "    if classname.find('Linear') != -1:\n",
        "        y = m.in_features\n",
        "    # m.weight.data shoud be taken from a normal distribution\n",
        "        m.weight.data.normal_(0.0,1/np.sqrt(y))\n",
        "    # m.bias.data should be 0\n",
        "        m.bias.data.fill_(0)\n"
      ],
      "execution_count": 0,
      "outputs": []
    },
    {
      "cell_type": "code",
      "metadata": {
        "id": "6HfX4klffgsK",
        "colab_type": "code",
        "outputId": "9e808a0e-dd87-4166-9985-3134ce06d226",
        "colab": {
          "base_uri": "https://localhost:8080/",
          "height": 173
        }
      },
      "source": [
        "net = LeNet5()\n",
        "net.apply(weights_init_normal)\n",
        "net.to(device)"
      ],
      "execution_count": 0,
      "outputs": [
        {
          "output_type": "execute_result",
          "data": {
            "text/plain": [
              "LeNet5(\n",
              "  (conv1): Conv2d(1, 6, kernel_size=(5, 5), stride=(1, 1), padding=(2, 2))\n",
              "  (max_pool_1): MaxPool2d(kernel_size=2, stride=2, padding=0, dilation=1, ceil_mode=False)\n",
              "  (conv2): Conv2d(6, 16, kernel_size=(5, 5), stride=(1, 1))\n",
              "  (max_pool_2): MaxPool2d(kernel_size=2, stride=2, padding=0, dilation=1, ceil_mode=False)\n",
              "  (fc1): Linear(in_features=400, out_features=120, bias=True)\n",
              "  (fc2): Linear(in_features=120, out_features=84, bias=True)\n",
              "  (fc3): Linear(in_features=84, out_features=10, bias=True)\n",
              ")"
            ]
          },
          "metadata": {
            "tags": []
          },
          "execution_count": 24
        }
      ]
    },
    {
      "cell_type": "code",
      "metadata": {
        "id": "G47M4dMcGX5N",
        "colab_type": "code",
        "outputId": "dc7c006a-83ba-4f2c-ebf0-26fde76a9fe1",
        "colab": {
          "base_uri": "https://localhost:8080/",
          "height": 543
        }
      },
      "source": [
        "loss_func = torch.nn.CrossEntropyLoss()\n",
        "optimization = torch.optim.SGD(net.parameters(), lr = 0.1, momentum=0.9) #replace this\n",
        "# In[7]:\n",
        "\n",
        "# Let training begin!\n",
        "numEpochs = 5\n",
        "training_accuracy = []     \n",
        "validation_accuracy = []\n",
        "\n",
        "for epoch in range(numEpochs):\n",
        "    # training set -- perform model training\n",
        "    epoch_training_loss = 0.0\n",
        "    num_batches = 0\n",
        "    for batch_num, (samples, labels) in enumerate(theta_loader):        # 'enumerate' is a super helpful function\n",
        "        samples, labels = samples.to(device), labels.to(device)\n",
        "        # Make gradients zero for parameters 'W', 'b'\n",
        "        optimization.zero_grad()    \n",
        "\n",
        "        forward_output = net(samples)\n",
        "        loss = loss_func(forward_output,labels)\n",
        "        \n",
        "        loss.backward()\n",
        "        optimization.step()     #replace with written rule\n",
        "\n",
        "        # calculating loss \n",
        "        epoch_training_loss += loss.data\n",
        "        num_batches += 1\n",
        "        \n",
        "    print(\"epoch: \", epoch, \", loss: \", epoch_training_loss/num_batches)      \n",
        "    \n",
        "    # calculate training set accuracy\n",
        "    accuracy = 0.0 \n",
        "    num_batches = 0\n",
        "    for batch_num, training_batch in enumerate(train_loader):        # 'enumerate' is a super helpful function        \n",
        "        num_batches += 1\n",
        "        inputs, actual_val = training_batch\n",
        "        # perform classification\n",
        "        predicted_val = net(torch.autograd.Variable(inputs.cuda()))\n",
        "        # convert 'predicted_val' tensor to numpy array and use 'numpy.argmax()' function    \n",
        "        predicted_val = predicted_val.cpu().data.numpy()    # convert cuda() type to cpu(), then convert it to numpy\n",
        "        predicted_val = np.argmax(predicted_val, axis = 1)  # retrieved max_values along every row    \n",
        "        # accuracy   \n",
        "        accuracy += accuracy_score(actual_val.numpy(), predicted_val)\n",
        "    print('train ',accuracy/num_batches)\n",
        "    training_accuracy.append(accuracy/num_batches)  \n",
        "      \n",
        "    # calculate validation set accuracy \n",
        "    accuracy = 0.0 \n",
        "    num_batches = 0\n",
        "    for batch_num, validation_batch in enumerate(valid_loader):        # 'enumerate' is a super helpful function        \n",
        "        num_batches += 1\n",
        "        inputs, actual_val = validation_batch\n",
        "        # perform classification\n",
        "        predicted_val = net(torch.autograd.Variable(inputs.cuda()))    \n",
        "        # convert 'predicted_val' tensor to numpy array and use 'numpy.argmax()' function    \n",
        "        predicted_val = predicted_val.cpu().data.numpy()    # convert cuda() type to cpu(), then convert it to numpy\n",
        "        predicted_val = np.argmax(predicted_val, axis = 1)  # retrieved max_values along every row    \n",
        "        # accuracy        \n",
        "        accuracy += accuracy_score(actual_val.numpy(), predicted_val)\n",
        "    print(\"validation \",accuracy/num_batches)\n",
        "    validation_accuracy.append(accuracy/num_batches)\n",
        "    \n",
        "epochs = list(range(numEpochs))\n",
        "\n",
        "# plotting training and validation accuracies\n",
        "fig1 = pyplot.figure()\n",
        "pyplot.plot(epochs, training_accuracy, 'r')\n",
        "pyplot.plot(epochs, validation_accuracy, 'g')\n",
        "pyplot.xlabel(\"Epochs\")\n",
        "pyplot.ylabel(\"Accuracy\") \n",
        "pyplot.show(fig1)"
      ],
      "execution_count": 0,
      "outputs": [
        {
          "output_type": "stream",
          "text": [
            "epoch:  0 , loss:  tensor(2.2825, device='cuda:0')\n",
            "train  0.10489583333333333\n",
            "validation  0.1025\n",
            "epoch:  1 , loss:  tensor(2.1248, device='cuda:0')\n",
            "train  0.022375\n",
            "validation  0.021416666666666667\n",
            "epoch:  2 , loss:  tensor(2.0036, device='cuda:0')\n",
            "train  0.076375\n",
            "validation  0.07583333333333334\n",
            "epoch:  3 , loss:  tensor(1.9665, device='cuda:0')\n",
            "train  0.06475\n",
            "validation  0.06391666666666666\n",
            "epoch:  4 , loss:  tensor(1.9491, device='cuda:0')\n",
            "train  0.10258333333333333\n",
            "validation  0.09958333333333333\n"
          ],
          "name": "stdout"
        },
        {
          "output_type": "display_data",
          "data": {
            "image/png": "[encoded data removed]",
            "text/plain": [
              "<Figure size 432x288 with 1 Axes>"
            ]
          },
          "metadata": {
            "tags": []
          }
        }
      ]
    },
    {
      "cell_type": "code",
      "metadata": {
        "id": "VM8T5ge4GYBt",
        "colab_type": "code",
        "colab": {}
      },
      "source": [
        ""
      ],
      "execution_count": 0,
      "outputs": []
    },
    {
      "cell_type": "code",
      "metadata": {
        "id": "xisR9XiPFRR-",
        "colab_type": "code",
        "colab": {}
      },
      "source": [
        "# In[6]:\n",
        "\n",
        "# set up loss function -- 'SVM Loss' a.k.a 'Cross-Entropy Loss'\n",
        "\n",
        "loss_func = torch.nn.CrossEntropyLoss()#reduction='sum'\n",
        "\n",
        "# def loss_func(outputs,labels,weights):\n",
        "# #     loss=torch.zeros(1,requires_grad=True)\n",
        "#     loss=-weights[0]*torch.nn.functional.log_softmax(outputs[0])[labels[0]]\n",
        "#     for i in range(1,len(outputs)):\n",
        "#       loss-=weights[i]*torch.nn.functional.log_softmax(outputs[i])[labels[i]]\n",
        "#     return loss\n",
        "\n",
        "  \n",
        "  \n",
        "  \n",
        "# SGD used for optimization, momentum update used as parameter update  \n",
        "optimization = torch.optim.SGD(net.parameters(), lr = 0.0001, momentum=0.5,nesterov=True) #replace this\n",
        "# optimization=torch.optim.Adam(net.parameters(), lr=0.01, betas=(0.9, 0.999), eps=1e-08, weight_decay=0, amsgrad=False)"
      ],
      "execution_count": 0,
      "outputs": []
    },
    {
      "cell_type": "code",
      "metadata": {
        "id": "w14s8SQLFTsc",
        "colab_type": "code",
        "outputId": "cd5b28a4-03ac-42df-c155-3cc8276c6ae0",
        "colab": {
          "base_uri": "https://localhost:8080/",
          "height": 1000
        }
      },
      "source": [
        "# In[7]:\n",
        "\n",
        "# Let training begin!\n",
        "numEpochs = 200  \n",
        "training_accuracy = []     \n",
        "validation_accuracy = []\n",
        "S=32\n",
        "\n",
        "for epoch in range(numEpochs):\n",
        "    epoch_one = time.time()\n",
        "    # training set -- perform model training\n",
        "    epoch_training_loss = 0.0\n",
        "    num_batches = 0\n",
        "    for batch_num, (thetaB, labels) in enumerate(theta_loader):        # 'enumerate' is a super helpful function\n",
        "        thetaB, labels = thetaB.to(device), labels.to(device)\n",
        "#         print(thetaB)\n",
        "#         thetaB.requires_grad_(True)\n",
        "        # split training data into inputs and labels\n",
        "        (x_samples,labels)=x_sampling(S, thetaB, labels)\n",
        "        \n",
        "        # Make gradients zero for parameters 'W', 'b'\n",
        "        optimization.zero_grad()         \n",
        "        \n",
        "#         # forward, backward pass with parameter update\n",
        "        forward_output = net(x_samples)\n",
        "#         weights=sampling_weights(S, labels, forward_output).cuda()\n",
        "        loss = loss_func(forward_output,labels)\n",
        "\n",
        "#         forward_output = net(x_samples)\n",
        "#         loss = loss_func(forward_output,labels)\n",
        "        \n",
        "        loss.backward()\n",
        "        optimization.step()     #replace with written rule\n",
        "\n",
        "        # calculating loss \n",
        "        epoch_training_loss += loss.data\n",
        "        num_batches += 1\n",
        "    epoch_two = time.time()\n",
        "    print(\"epoch: \", epoch, \", loss: \", epoch_training_loss/num_batches,\" , {0} seconds\".format(epoch_two - epoch_one))            \n",
        "    \n",
        "    if epoch%10==0:\n",
        "      # calculate training set accuracy\n",
        "      accuracy = 0.0 \n",
        "      num_batches = 0\n",
        "      for batch_num, training_batch in enumerate(train_loader):        # 'enumerate' is a super helpful function        \n",
        "          num_batches += 1\n",
        "          inputs, actual_val = training_batch\n",
        "          # perform classification\n",
        "          predicted_val = net(torch.autograd.Variable(inputs.cuda()))\n",
        "          # convert 'predicted_val' tensor to numpy array and use 'numpy.argmax()' function    \n",
        "          predicted_val = predicted_val.cpu().data.numpy()    # convert cuda() type to cpu(), then convert it to numpy\n",
        "          predicted_val = np.argmax(predicted_val, axis = 1)  # retrieved max_values along every row    \n",
        "          # accuracy   \n",
        "          accuracy += accuracy_score(actual_val.numpy(), predicted_val)\n",
        "      epoch_three = time.time()\n",
        "      print('train ',accuracy/num_batches,\" , {0} seconds\".format(epoch_three - epoch_two))\n",
        "      training_accuracy.append(accuracy/num_batches)  \n",
        "\n",
        "      # calculate validation set accuracy \n",
        "      accuracy = 0.0 \n",
        "      num_batches = 0\n",
        "      for batch_num, validation_batch in enumerate(valid_loader):        # 'enumerate' is a super helpful function        \n",
        "          num_batches += 1\n",
        "          inputs, actual_val = validation_batch\n",
        "          # perform classification\n",
        "          predicted_val = net(torch.autograd.Variable(inputs.cuda()))    \n",
        "          # convert 'predicted_val' tensor to numpy array and use 'numpy.argmax()' function    \n",
        "          predicted_val = predicted_val.cpu().data.numpy()    # convert cuda() type to cpu(), then convert it to numpy\n",
        "          predicted_val = np.argmax(predicted_val, axis = 1)  # retrieved max_values along every row    \n",
        "          # accuracy        \n",
        "          accuracy += accuracy_score(actual_val.numpy(), predicted_val)\n",
        "      epoch_four = time.time()\n",
        "      print(\"validation \",accuracy/num_batches,\" , {0} seconds\".format(epoch_four - epoch_three))\n",
        "      validation_accuracy.append(accuracy/num_batches)\n"
      ],
      "execution_count": 0,
      "outputs": [
        {
          "output_type": "stream",
          "text": [
            "epoch:  0 , loss:  tensor(2.3085, device='cuda:0')  , 25.585217237472534 seconds\n",
            "train  0.09154166666666666  , 6.8525612354278564 seconds\n",
            "validation  0.09083333333333334  , 1.7802000045776367 seconds\n",
            "epoch:  1 , loss:  tensor(2.3072, device='cuda:0')  , 25.805394172668457 seconds\n",
            "epoch:  2 , loss:  tensor(2.3062, device='cuda:0')  , 25.659866094589233 seconds\n",
            "epoch:  3 , loss:  tensor(2.3055, device='cuda:0')  , 25.6698260307312 seconds\n",
            "epoch:  4 , loss:  tensor(2.3049, device='cuda:0')  , 25.504146337509155 seconds\n",
            "epoch:  5 , loss:  tensor(2.3044, device='cuda:0')  , 25.575047254562378 seconds\n",
            "epoch:  6 , loss:  tensor(2.3040, device='cuda:0')  , 25.480453729629517 seconds\n",
            "epoch:  7 , loss:  tensor(2.3037, device='cuda:0')  , 25.580931663513184 seconds\n",
            "epoch:  8 , loss:  tensor(2.3034, device='cuda:0')  , 25.553130388259888 seconds\n",
            "epoch:  9 , loss:  tensor(2.3031, device='cuda:0')  , 25.388654232025146 seconds\n",
            "epoch:  10 , loss:  tensor(2.3029, device='cuda:0')  , 25.420491933822632 seconds\n",
            "train  0.05597916666666667  , 6.700463533401489 seconds\n",
            "validation  0.052833333333333336  , 1.7948973178863525 seconds\n",
            "epoch:  11 , loss:  tensor(2.3027, device='cuda:0')  , 25.55273175239563 seconds\n",
            "epoch:  12 , loss:  tensor(2.3025, device='cuda:0')  , 25.493289709091187 seconds\n",
            "epoch:  13 , loss:  tensor(2.3024, device='cuda:0')  , 25.455790996551514 seconds\n",
            "epoch:  14 , loss:  tensor(2.3023, device='cuda:0')  , 25.533639669418335 seconds\n",
            "epoch:  15 , loss:  tensor(2.3022, device='cuda:0')  , 25.478586673736572 seconds\n",
            "epoch:  16 , loss:  tensor(2.3021, device='cuda:0')  , 25.509624242782593 seconds\n",
            "epoch:  17 , loss:  tensor(2.3020, device='cuda:0')  , 25.573647022247314 seconds\n",
            "epoch:  18 , loss:  tensor(2.3019, device='cuda:0')  , 25.551729440689087 seconds\n",
            "epoch:  19 , loss:  tensor(2.3019, device='cuda:0')  , 25.64007544517517 seconds\n",
            "epoch:  20 , loss:  tensor(2.3018, device='cuda:0')  , 25.647510528564453 seconds\n",
            "train  0.05175  , 6.806100368499756 seconds\n",
            "validation  0.05025  , 1.798762321472168 seconds\n",
            "epoch:  21 , loss:  tensor(2.3017, device='cuda:0')  , 25.562758684158325 seconds\n",
            "epoch:  22 , loss:  tensor(2.3017, device='cuda:0')  , 25.508833646774292 seconds\n",
            "epoch:  23 , loss:  tensor(2.3016, device='cuda:0')  , 25.467182159423828 seconds\n",
            "epoch:  24 , loss:  tensor(2.3015, device='cuda:0')  , 25.482503414154053 seconds\n",
            "epoch:  25 , loss:  tensor(2.3015, device='cuda:0')  , 25.44397473335266 seconds\n",
            "epoch:  26 , loss:  tensor(2.3014, device='cuda:0')  , 25.700530290603638 seconds\n",
            "epoch:  27 , loss:  tensor(2.3015, device='cuda:0')  , 25.512478590011597 seconds\n",
            "epoch:  28 , loss:  tensor(2.3014, device='cuda:0')  , 25.469847202301025 seconds\n",
            "epoch:  29 , loss:  tensor(2.3014, device='cuda:0')  , 25.421589851379395 seconds\n",
            "epoch:  30 , loss:  tensor(2.3013, device='cuda:0')  , 25.42766833305359 seconds\n",
            "train  0.052395833333333336  , 6.8741843700408936 seconds\n",
            "validation  0.05275  , 1.8636603355407715 seconds\n",
            "epoch:  31 , loss:  tensor(2.3013, device='cuda:0')  , 25.51563286781311 seconds\n",
            "epoch:  32 , loss:  tensor(2.3013, device='cuda:0')  , 25.35862946510315 seconds\n",
            "epoch:  33 , loss:  tensor(2.3012, device='cuda:0')  , 25.351490020751953 seconds\n",
            "epoch:  34 , loss:  tensor(2.3012, device='cuda:0')  , 25.27831721305847 seconds\n",
            "epoch:  35 , loss:  tensor(2.3012, device='cuda:0')  , 25.39091444015503 seconds\n",
            "epoch:  36 , loss:  tensor(2.3012, device='cuda:0')  , 25.337305068969727 seconds\n",
            "epoch:  37 , loss:  tensor(2.3012, device='cuda:0')  , 25.27891993522644 seconds\n",
            "epoch:  38 , loss:  tensor(2.3011, device='cuda:0')  , 25.557230472564697 seconds\n",
            "epoch:  39 , loss:  tensor(2.3012, device='cuda:0')  , 25.366316080093384 seconds\n",
            "epoch:  40 , loss:  tensor(2.3011, device='cuda:0')  , 25.374061822891235 seconds\n",
            "train  0.05222916666666667  , 6.70777440071106 seconds\n",
            "validation  0.05316666666666667  , 1.753084421157837 seconds\n",
            "epoch:  41 , loss:  tensor(2.3011, device='cuda:0')  , 25.411077737808228 seconds\n",
            "epoch:  42 , loss:  tensor(2.3011, device='cuda:0')  , 25.388012647628784 seconds\n",
            "epoch:  43 , loss:  tensor(2.3011, device='cuda:0')  , 25.327348232269287 seconds\n",
            "epoch:  44 , loss:  tensor(2.3011, device='cuda:0')  , 25.338859796524048 seconds\n",
            "epoch:  45 , loss:  tensor(2.3011, device='cuda:0')  , 25.40658974647522 seconds\n",
            "epoch:  46 , loss:  tensor(2.3011, device='cuda:0')  , 25.360440015792847 seconds\n",
            "epoch:  47 , loss:  tensor(2.3011, device='cuda:0')  , 25.43440866470337 seconds\n",
            "epoch:  48 , loss:  tensor(2.3011, device='cuda:0')  , 25.512467861175537 seconds\n",
            "epoch:  49 , loss:  tensor(2.3011, device='cuda:0')  , 25.506828784942627 seconds\n",
            "epoch:  50 , loss:  tensor(2.3010, device='cuda:0')  , 25.468074798583984 seconds\n",
            "train  0.051354166666666666  , 6.6397693157196045 seconds\n",
            "validation  0.052  , 1.796215295791626 seconds\n",
            "epoch:  51 , loss:  tensor(2.3010, device='cuda:0')  , 25.49748420715332 seconds\n",
            "epoch:  52 , loss:  tensor(2.3010, device='cuda:0')  , 25.34109401702881 seconds\n",
            "epoch:  53 , loss:  tensor(2.3010, device='cuda:0')  , 25.24658465385437 seconds\n",
            "epoch:  54 , loss:  tensor(2.3010, device='cuda:0')  , 25.54599118232727 seconds\n",
            "epoch:  55 , loss:  tensor(2.3010, device='cuda:0')  , 25.34345316886902 seconds\n",
            "epoch:  56 , loss:  tensor(2.3010, device='cuda:0')  , 25.451810598373413 seconds\n",
            "epoch:  57 , loss:  tensor(2.3010, device='cuda:0')  , 25.45523452758789 seconds\n",
            "epoch:  58 , loss:  tensor(2.3010, device='cuda:0')  , 25.438498973846436 seconds\n",
            "epoch:  59 , loss:  tensor(2.3009, device='cuda:0')  , 25.495393753051758 seconds\n",
            "epoch:  60 , loss:  tensor(2.3009, device='cuda:0')  , 25.496045351028442 seconds\n",
            "train  0.05  , 6.8106513023376465 seconds\n",
            "validation  0.051416666666666666  , 1.8088250160217285 seconds\n",
            "epoch:  61 , loss:  tensor(2.3010, device='cuda:0')  , 25.5487003326416 seconds\n",
            "epoch:  62 , loss:  tensor(2.3009, device='cuda:0')  , 25.590863943099976 seconds\n",
            "epoch:  63 , loss:  tensor(2.3009, device='cuda:0')  , 25.467852115631104 seconds\n",
            "epoch:  64 , loss:  tensor(2.3009, device='cuda:0')  , 25.494001150131226 seconds\n",
            "epoch:  65 , loss:  tensor(2.3009, device='cuda:0')  , 25.4528968334198 seconds\n",
            "epoch:  66 , loss:  tensor(2.3009, device='cuda:0')  , 25.630388021469116 seconds\n",
            "epoch:  67 , loss:  tensor(2.3009, device='cuda:0')  , 25.491302967071533 seconds\n",
            "epoch:  68 , loss:  tensor(2.3009, device='cuda:0')  , 25.549450159072876 seconds\n",
            "epoch:  69 , loss:  tensor(2.3009, device='cuda:0')  , 25.571519374847412 seconds\n",
            "epoch:  70 , loss:  tensor(2.3009, device='cuda:0')  , 25.52718210220337 seconds\n",
            "train  0.048875  , 6.771856307983398 seconds\n",
            "validation  0.051083333333333335  , 1.8107824325561523 seconds\n",
            "epoch:  71 , loss:  tensor(2.3009, device='cuda:0')  , 25.60010600090027 seconds\n",
            "epoch:  72 , loss:  tensor(2.3008, device='cuda:0')  , 25.722089290618896 seconds\n",
            "epoch:  73 , loss:  tensor(2.3008, device='cuda:0')  , 25.488452434539795 seconds\n",
            "epoch:  74 , loss:  tensor(2.3008, device='cuda:0')  , 25.4803147315979 seconds\n",
            "epoch:  75 , loss:  tensor(2.3009, device='cuda:0')  , 25.533367156982422 seconds\n",
            "epoch:  76 , loss:  tensor(2.3009, device='cuda:0')  , 25.578922271728516 seconds\n",
            "epoch:  77 , loss:  tensor(2.3008, device='cuda:0')  , 25.513144731521606 seconds\n",
            "epoch:  78 , loss:  tensor(2.3009, device='cuda:0')  , 25.587918519973755 seconds\n",
            "epoch:  79 , loss:  tensor(2.3008, device='cuda:0')  , 25.416990518569946 seconds\n",
            "epoch:  80 , loss:  tensor(2.3008, device='cuda:0')  , 25.53150463104248 seconds\n",
            "train  0.04810416666666667  , 6.825518369674683 seconds\n",
            "validation  0.04925  , 1.7787036895751953 seconds\n",
            "epoch:  81 , loss:  tensor(2.3008, device='cuda:0')  , 25.631065607070923 seconds\n",
            "epoch:  82 , loss:  tensor(2.3008, device='cuda:0')  , 25.515130758285522 seconds\n",
            "epoch:  83 , loss:  tensor(2.3008, device='cuda:0')  , 25.212804317474365 seconds\n",
            "epoch:  84 , loss:  tensor(2.3008, device='cuda:0')  , 25.154423475265503 seconds\n",
            "epoch:  85 , loss:  tensor(2.3008, device='cuda:0')  , 25.158697843551636 seconds\n",
            "epoch:  86 , loss:  tensor(2.3008, device='cuda:0')  , 25.229299545288086 seconds\n",
            "epoch:  87 , loss:  tensor(2.3008, device='cuda:0')  , 25.22174048423767 seconds\n",
            "epoch:  88 , loss:  tensor(2.3008, device='cuda:0')  , 25.083038806915283 seconds\n",
            "epoch:  89 , loss:  tensor(2.3008, device='cuda:0')  , 25.187307357788086 seconds\n",
            "epoch:  90 , loss:  tensor(2.3007, device='cuda:0')  , 25.189496755599976 seconds\n",
            "train  0.04710416666666667  , 6.617837429046631 seconds\n",
            "validation  0.0485  , 1.7537283897399902 seconds\n",
            "epoch:  91 , loss:  tensor(2.3008, device='cuda:0')  , 25.201333045959473 seconds\n",
            "epoch:  92 , loss:  tensor(2.3008, device='cuda:0')  , 25.072466373443604 seconds\n",
            "epoch:  93 , loss:  tensor(2.3007, device='cuda:0')  , 25.14409112930298 seconds\n",
            "epoch:  94 , loss:  tensor(2.3007, device='cuda:0')  , 25.09837293624878 seconds\n",
            "epoch:  95 , loss:  tensor(2.3007, device='cuda:0')  , 25.02742052078247 seconds\n",
            "epoch:  96 , loss:  tensor(2.3007, device='cuda:0')  , 25.11255955696106 seconds\n",
            "epoch:  97 , loss:  tensor(2.3007, device='cuda:0')  , 25.087912797927856 seconds\n",
            "epoch:  98 , loss:  tensor(2.3007, device='cuda:0')  , 25.07644510269165 seconds\n",
            "epoch:  99 , loss:  tensor(2.3007, device='cuda:0')  , 25.031448364257812 seconds\n",
            "epoch:  100 , loss:  tensor(2.3007, device='cuda:0')  , 25.157403230667114 seconds\n",
            "train  0.0461875  , 6.521282911300659 seconds\n",
            "validation  0.04766666666666667  , 1.7350118160247803 seconds\n",
            "epoch:  101 , loss:  tensor(2.3007, device='cuda:0')  , 25.262320280075073 seconds\n",
            "epoch:  102 , loss:  tensor(2.3007, device='cuda:0')  , 25.065714359283447 seconds\n",
            "epoch:  103 , loss:  tensor(2.3007, device='cuda:0')  , 24.981303453445435 seconds\n",
            "epoch:  104 , loss:  tensor(2.3007, device='cuda:0')  , 24.911799430847168 seconds\n",
            "epoch:  105 , loss:  tensor(2.3007, device='cuda:0')  , 24.999593019485474 seconds\n",
            "epoch:  106 , loss:  tensor(2.3007, device='cuda:0')  , 25.004095792770386 seconds\n",
            "epoch:  107 , loss:  tensor(2.3006, device='cuda:0')  , 25.00827956199646 seconds\n",
            "epoch:  108 , loss:  tensor(2.3006, device='cuda:0')  , 25.082619428634644 seconds\n",
            "epoch:  109 , loss:  tensor(2.3006, device='cuda:0')  , 24.937263011932373 seconds\n",
            "epoch:  110 , loss:  tensor(2.3006, device='cuda:0')  , 24.893993139266968 seconds\n",
            "train  0.045375  , 6.43042778968811 seconds\n",
            "validation  0.04633333333333333  , 1.7241501808166504 seconds\n",
            "epoch:  111 , loss:  tensor(2.3006, device='cuda:0')  , 25.035152435302734 seconds\n",
            "epoch:  112 , loss:  tensor(2.3006, device='cuda:0')  , 24.972513675689697 seconds\n",
            "epoch:  113 , loss:  tensor(2.3006, device='cuda:0')  , 24.92301344871521 seconds\n",
            "epoch:  114 , loss:  tensor(2.3006, device='cuda:0')  , 24.903652667999268 seconds\n",
            "epoch:  115 , loss:  tensor(2.3006, device='cuda:0')  , 24.896653413772583 seconds\n",
            "epoch:  116 , loss:  tensor(2.3006, device='cuda:0')  , 24.960870265960693 seconds\n",
            "epoch:  117 , loss:  tensor(2.3006, device='cuda:0')  , 24.862743139266968 seconds\n",
            "epoch:  118 , loss:  tensor(2.3006, device='cuda:0')  , 24.875975370407104 seconds\n",
            "epoch:  119 , loss:  tensor(2.3006, device='cuda:0')  , 24.86999249458313 seconds\n",
            "epoch:  120 , loss:  tensor(2.3006, device='cuda:0')  , 24.828258275985718 seconds\n",
            "train  0.0443125  , 6.40894627571106 seconds\n",
            "validation  0.04541666666666667  , 1.7000524997711182 seconds\n",
            "epoch:  121 , loss:  tensor(2.3005, device='cuda:0')  , 24.979366540908813 seconds\n",
            "epoch:  122 , loss:  tensor(2.3006, device='cuda:0')  , 24.878074645996094 seconds\n",
            "epoch:  123 , loss:  tensor(2.3005, device='cuda:0')  , 24.75326108932495 seconds\n",
            "epoch:  124 , loss:  tensor(2.3006, device='cuda:0')  , 24.82417058944702 seconds\n",
            "epoch:  125 , loss:  tensor(2.3005, device='cuda:0')  , 24.897701025009155 seconds\n",
            "epoch:  126 , loss:  tensor(2.3006, device='cuda:0')  , 24.93383526802063 seconds\n",
            "epoch:  127 , loss:  tensor(2.3005, device='cuda:0')  , 24.85443377494812 seconds\n",
            "epoch:  128 , loss:  tensor(2.3005, device='cuda:0')  , 24.873257637023926 seconds\n",
            "epoch:  129 , loss:  tensor(2.3005, device='cuda:0')  , 24.80194354057312 seconds\n",
            "epoch:  130 , loss:  tensor(2.3005, device='cuda:0')  , 24.79581332206726 seconds\n",
            "train  0.0430625  , 6.4351396560668945 seconds\n",
            "validation  0.045083333333333336  , 1.6921360492706299 seconds\n",
            "epoch:  131 , loss:  tensor(2.3005, device='cuda:0')  , 24.9619197845459 seconds\n",
            "epoch:  132 , loss:  tensor(2.3005, device='cuda:0')  , 24.84289574623108 seconds\n",
            "epoch:  133 , loss:  tensor(2.3005, device='cuda:0')  , 24.764986276626587 seconds\n",
            "epoch:  134 , loss:  tensor(2.3005, device='cuda:0')  , 24.85683798789978 seconds\n",
            "epoch:  135 , loss:  tensor(2.3005, device='cuda:0')  , 24.897046327590942 seconds\n",
            "epoch:  136 , loss:  tensor(2.3005, device='cuda:0')  , 24.874979972839355 seconds\n",
            "epoch:  137 , loss:  tensor(2.3004, device='cuda:0')  , 24.98934817314148 seconds\n",
            "epoch:  138 , loss:  tensor(2.3004, device='cuda:0')  , 25.083760261535645 seconds\n",
            "epoch:  139 , loss:  tensor(2.3004, device='cuda:0')  , 25.2857768535614 seconds\n",
            "epoch:  140 , loss:  tensor(2.3004, device='cuda:0')  , 24.930668830871582 seconds\n",
            "train  0.04177083333333333  , 6.563661813735962 seconds\n",
            "validation  0.043583333333333335  , 1.7134358882904053 seconds\n",
            "epoch:  141 , loss:  tensor(2.3004, device='cuda:0')  , 25.02612543106079 seconds\n",
            "epoch:  142 , loss:  tensor(2.3004, device='cuda:0')  , 24.934544324874878 seconds\n",
            "epoch:  143 , loss:  tensor(2.3004, device='cuda:0')  , 24.929761171340942 seconds\n",
            "epoch:  144 , loss:  tensor(2.3004, device='cuda:0')  , 24.945786952972412 seconds\n",
            "epoch:  145 , loss:  tensor(2.3004, device='cuda:0')  , 24.924884796142578 seconds\n",
            "epoch:  146 , loss:  tensor(2.3004, device='cuda:0')  , 24.916584968566895 seconds\n",
            "epoch:  147 , loss:  tensor(2.3004, device='cuda:0')  , 24.9696261882782 seconds\n",
            "epoch:  148 , loss:  tensor(2.3004, device='cuda:0')  , 24.95009732246399 seconds\n",
            "epoch:  149 , loss:  tensor(2.3003, device='cuda:0')  , 24.934244632720947 seconds\n",
            "epoch:  150 , loss:  tensor(2.3004, device='cuda:0')  , 25.096596240997314 seconds\n",
            "train  0.0410625  , 6.511173486709595 seconds\n",
            "validation  0.042916666666666665  , 1.7141129970550537 seconds\n",
            "epoch:  151 , loss:  tensor(2.3004, device='cuda:0')  , 25.051539659500122 seconds\n",
            "epoch:  152 , loss:  tensor(2.3004, device='cuda:0')  , 24.932066679000854 seconds\n",
            "epoch:  153 , loss:  tensor(2.3004, device='cuda:0')  , 24.91135835647583 seconds\n",
            "epoch:  154 , loss:  tensor(2.3004, device='cuda:0')  , 24.890336513519287 seconds\n",
            "epoch:  155 , loss:  tensor(2.3004, device='cuda:0')  , 24.854553937911987 seconds\n",
            "epoch:  156 , loss:  tensor(2.3003, device='cuda:0')  , 24.917468786239624 seconds\n",
            "epoch:  157 , loss:  tensor(2.3003, device='cuda:0')  , 24.867886304855347 seconds\n",
            "epoch:  158 , loss:  tensor(2.3003, device='cuda:0')  , 25.02411389350891 seconds\n",
            "epoch:  159 , loss:  tensor(2.3003, device='cuda:0')  , 24.866525888442993 seconds\n",
            "epoch:  160 , loss:  tensor(2.3003, device='cuda:0')  , 24.8426992893219 seconds\n",
            "train  0.04016666666666667  , 6.483996868133545 seconds\n",
            "validation  0.042083333333333334  , 1.7029123306274414 seconds\n",
            "epoch:  161 , loss:  tensor(2.3003, device='cuda:0')  , 24.925337076187134 seconds\n",
            "epoch:  162 , loss:  tensor(2.3003, device='cuda:0')  , 25.027082204818726 seconds\n",
            "epoch:  163 , loss:  tensor(2.3003, device='cuda:0')  , 24.797195196151733 seconds\n",
            "epoch:  164 , loss:  tensor(2.3003, device='cuda:0')  , 24.788722276687622 seconds\n",
            "epoch:  165 , loss:  tensor(2.3003, device='cuda:0')  , 24.861915826797485 seconds\n",
            "epoch:  166 , loss:  tensor(2.3003, device='cuda:0')  , 24.820459842681885 seconds\n",
            "epoch:  167 , loss:  tensor(2.3002, device='cuda:0')  , 24.849741220474243 seconds\n",
            "epoch:  168 , loss:  tensor(2.3003, device='cuda:0')  , 24.84052324295044 seconds\n",
            "epoch:  169 , loss:  tensor(2.3002, device='cuda:0')  , 24.850760459899902 seconds\n",
            "epoch:  170 , loss:  tensor(2.3003, device='cuda:0')  , 24.812577486038208 seconds\n",
            "train  0.03897916666666667  , 6.415888547897339 seconds\n",
            "validation  0.041166666666666664  , 1.70353364944458 seconds\n",
            "epoch:  171 , loss:  tensor(2.3002, device='cuda:0')  , 24.92568063735962 seconds\n",
            "epoch:  172 , loss:  tensor(2.3002, device='cuda:0')  , 24.917152881622314 seconds\n",
            "epoch:  173 , loss:  tensor(2.3002, device='cuda:0')  , 24.78891110420227 seconds\n",
            "epoch:  174 , loss:  tensor(2.3002, device='cuda:0')  , 24.9129319190979 seconds\n",
            "epoch:  175 , loss:  tensor(2.3002, device='cuda:0')  , 24.916263580322266 seconds\n",
            "epoch:  176 , loss:  tensor(2.3002, device='cuda:0')  , 24.841578006744385 seconds\n",
            "epoch:  177 , loss:  tensor(2.3002, device='cuda:0')  , 24.81091022491455 seconds\n",
            "epoch:  178 , loss:  tensor(2.3002, device='cuda:0')  , 24.84760618209839 seconds\n",
            "epoch:  179 , loss:  tensor(2.3002, device='cuda:0')  , 24.796944856643677 seconds\n",
            "epoch:  180 , loss:  tensor(2.3001, device='cuda:0')  , 24.850109577178955 seconds\n",
            "train  0.03810416666666667  , 6.454588413238525 seconds\n",
            "validation  0.04041666666666666  , 1.703207015991211 seconds\n",
            "epoch:  181 , loss:  tensor(2.3002, device='cuda:0')  , 24.92548656463623 seconds\n",
            "epoch:  182 , loss:  tensor(2.3001, device='cuda:0')  , 24.87168288230896 seconds\n",
            "epoch:  183 , loss:  tensor(2.3001, device='cuda:0')  , 24.784260749816895 seconds\n",
            "epoch:  184 , loss:  tensor(2.3001, device='cuda:0')  , 24.897254943847656 seconds\n",
            "epoch:  185 , loss:  tensor(2.3001, device='cuda:0')  , 24.81525993347168 seconds\n",
            "epoch:  186 , loss:  tensor(2.3001, device='cuda:0')  , 24.873613595962524 seconds\n",
            "epoch:  187 , loss:  tensor(2.3001, device='cuda:0')  , 24.86547875404358 seconds\n",
            "epoch:  188 , loss:  tensor(2.3001, device='cuda:0')  , 24.80332899093628 seconds\n",
            "epoch:  189 , loss:  tensor(2.3001, device='cuda:0')  , 24.80224061012268 seconds\n",
            "epoch:  190 , loss:  tensor(2.3001, device='cuda:0')  , 24.86714220046997 seconds\n",
            "train  0.03697916666666667  , 6.500777959823608 seconds\n",
            "validation  0.0395  , 1.7132322788238525 seconds\n",
            "epoch:  191 , loss:  tensor(2.3001, device='cuda:0')  , 24.898714542388916 seconds\n",
            "epoch:  192 , loss:  tensor(2.3001, device='cuda:0')  , 24.801560163497925 seconds\n",
            "epoch:  193 , loss:  tensor(2.3000, device='cuda:0')  , 24.778645038604736 seconds\n",
            "epoch:  194 , loss:  tensor(2.3000, device='cuda:0')  , 24.833678483963013 seconds\n",
            "epoch:  195 , loss:  tensor(2.3000, device='cuda:0')  , 24.75555992126465 seconds\n",
            "epoch:  196 , loss:  tensor(2.3000, device='cuda:0')  , 24.85709547996521 seconds\n",
            "epoch:  197 , loss:  tensor(2.3000, device='cuda:0')  , 24.85400915145874 seconds\n",
            "epoch:  198 , loss:  tensor(2.3000, device='cuda:0')  , 24.862995862960815 seconds\n",
            "epoch:  199 , loss:  tensor(2.3000, device='cuda:0')  , 24.771552562713623 seconds\n"
          ],
          "name": "stdout"
        }
      ]
    },
    {
      "cell_type": "code",
      "metadata": {
        "id": "_IbCyA68Jv1T",
        "colab_type": "code",
        "outputId": "192bda51-045d-41cd-f58c-0e0ca088ac44",
        "colab": {
          "base_uri": "https://localhost:8080/",
          "height": 34
        }
      },
      "source": [
        "10%10"
      ],
      "execution_count": 0,
      "outputs": [
        {
          "output_type": "execute_result",
          "data": {
            "text/plain": [
              "0"
            ]
          },
          "metadata": {
            "tags": []
          },
          "execution_count": 93
        }
      ]
    },
    {
      "cell_type": "code",
      "metadata": {
        "id": "cL5uIpQr5Upz",
        "colab_type": "code",
        "colab": {}
      },
      "source": [
        "accuracy = 0.0 \n",
        "num_batches = 0\n",
        "for batch_num, validation_batch in enumerate(valid_loader):        # 'enumerate' is a super helpful function        \n",
        "    num_batches += 1\n",
        "    inputs, actual_val = validation_batch\n",
        "    # perform classification\n",
        "    predicted_val = net(torch.autograd.Variable(inputs.cuda()))    \n",
        "    # convert 'predicted_val' tensor to numpy array and use 'numpy.argmax()' function    \n",
        "    predicted_val = predicted_val.cpu().data.numpy()    # convert cuda() type to cpu(), then convert it to numpy\n",
        "    predicted_val = np.argmax(predicted_val, axis = 1)  # retrieved max_values along every row    \n",
        "    # accuracy        \n",
        "    accuracy += accuracy_score(actual_val.numpy(), predicted_val)\n",
        "validation_accuracy.append(accuracy/num_batches)"
      ],
      "execution_count": 0,
      "outputs": []
    },
    {
      "cell_type": "code",
      "metadata": {
        "id": "d16B8DkP5bIC",
        "colab_type": "code",
        "outputId": "a354401d-8665-4db5-b877-86cb56e31872",
        "colab": {
          "base_uri": "https://localhost:8080/",
          "height": 34
        }
      },
      "source": [
        "print(validation_accuracy)"
      ],
      "execution_count": 0,
      "outputs": [
        {
          "output_type": "stream",
          "text": [
            "[0.11692592592592378]\n"
          ],
          "name": "stdout"
        }
      ]
    },
    {
      "cell_type": "code",
      "metadata": {
        "id": "qbEy7choFVv_",
        "colab_type": "code",
        "colab": {}
      },
      "source": [
        "\n",
        "epochs = list(range(numEpochs))\n",
        "\n",
        "# plotting training and validation accuracies\n",
        "fig1 = pyplot.figure()\n",
        "pyplot.plot(epochs, training_accuracy, 'r')\n",
        "pyplot.plot(epochs, validation_accuracy, 'g')\n",
        "pyplot.xlabel(\"Epochs\")\n",
        "pyplot.ylabel(\"Accuracy\") \n",
        "pyplot.show(fig1)\n"
      ],
      "execution_count": 0,
      "outputs": []
    },
    {
      "cell_type": "code",
      "metadata": {
        "id": "1ypKz387FbwP",
        "colab_type": "code",
        "colab": {}
      },
      "source": [
        ""
      ],
      "execution_count": 0,
      "outputs": []
    },
    {
      "cell_type": "code",
      "metadata": {
        "id": "47xu6kzoFYEK",
        "colab_type": "code",
        "colab": {}
      },
      "source": [
        "# In[9]:\n",
        "\n",
        "# test the model on test dataset\n",
        "correct = 0\n",
        "total = 0\n",
        "for test_data in test_loader:\n",
        "    total += 1\n",
        "    inputs, actual_val = test_data \n",
        "    # perform classification\n",
        "    predicted_val = net(torch.autograd.Variable(inputs.cuda()))   \n",
        "    # convert 'predicted_val' GPU tensor to CPU tensor and extract the column with max_score\n",
        "    predicted_val = predicted_val.cpu().data\n",
        "    max_score, idx = torch.max(predicted_val, 1)\n",
        "    # compare it with actual value and estimate accuracy\n",
        "    correct += (idx == actual_val).sum()\n",
        "       \n",
        "print(\"Classifier Accuracy: \", correct/total * 100)"
      ],
      "execution_count": 0,
      "outputs": []
    }
  ]
}