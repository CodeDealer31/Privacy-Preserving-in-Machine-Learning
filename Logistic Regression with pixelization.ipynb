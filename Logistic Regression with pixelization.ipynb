{
 "cells": [
  {
   "cell_type": "code",
   "execution_count": 2,
   "metadata": {},
   "outputs": [],
   "source": [
    "using MLDatasets\n",
    "using Statistics\n",
    "using PyPlot\n",
    "using Distributions\n",
    "using ProgressMeter\n",
    "using Random"
   ]
  },
  {
   "cell_type": "code",
   "execution_count": 145,
   "metadata": {},
   "outputs": [
    {
     "data": {
      "text/plain": [
       "1-element Array{Float64,1}:\n",
       " 3.941989538608417"
      ]
     },
     "execution_count": 145,
     "metadata": {},
     "output_type": "execute_result"
    }
   ],
   "source": [
    "train_size =5900*2*0.9\n",
    "lambda =0.01\n",
    "epsilon = 3000\n",
    "\n",
    "# rand(Gamma(784,2*784/(epsilon*train_size*lambda)),1)"
   ]
  },
  {
   "cell_type": "code",
   "execution_count": 3,
   "metadata": {},
   "outputs": [],
   "source": [
    "# load full training set\n",
    "train_x, train_y = MNIST.traindata()\n",
    "\n",
    "# load full test set\n",
    "test_x,  test_y  = MNIST.testdata()\n",
    "\n",
    "xtrain0 = zeros(784,12000)\n",
    "xtrain1 = zeros(784,12000)\n",
    "xlabel =zeros(12000)\n",
    "global counter0=0\n",
    "global counter1=0\n",
    "for i=1:size(train_x,3)\n",
    "    if train_y[i]==7\n",
    "        global counter0=counter0+1\n",
    "        xtrain0[:,counter0]=vec(1.0*train_x[:,:,i])\n",
    "    end\n",
    "    if train_y[i]==9\n",
    "        global counter1=counter1+1\n",
    "        xtrain1[:,counter1]=vec(1.0*train_x[:,:,i])\n",
    "    end            \n",
    "end\n",
    "\n",
    "xtest0 = zeros(784,12000)\n",
    "xtest1 = zeros(784,12000)\n",
    "xtestlabel =zeros(12000)\n",
    "global counter0=0\n",
    "global counter1=0\n",
    "for i=1:size(test_x,3)\n",
    "    if test_y[i]==7\n",
    "        global counter0=counter0+1\n",
    "        xtest0[:,counter0]=vec(1.0*test_x[:,:,i])\n",
    "    end\n",
    "    if test_y[i]==9\n",
    "        global counter1=counter1+1\n",
    "        xtest1[:,counter1]=vec(1.0*test_x[:,:,i])\n",
    "    end            \n",
    "end\n",
    "\n",
    "Ntrain=9000; Ntest=1800\n",
    "\n",
    "x=[xtrain0[:,1:Int(Ntrain/2)] xtrain1[:,1:Int(Ntrain/2)]]\n",
    "c=ones(Int,Ntrain)\n",
    "for i=1:Int(Ntrain/2)\n",
    "    c[i]=0\n",
    "end\n",
    "\n",
    "xtest=[xtest0[:,1:Int(Ntest/2)] xtest1[:,1:Int(Ntest/2)]]\n",
    "ctest=ones(Int,Ntest)\n",
    "for i=1:Int(Ntest/2)\n",
    "    ctest[i]=0\n",
    "end"
   ]
  },
  {
   "cell_type": "code",
   "execution_count": 4,
   "metadata": {},
   "outputs": [
    {
     "data": {
      "text/plain": [
       "ME (generic function with 1 method)"
      ]
     },
     "execution_count": 4,
     "metadata": {},
     "output_type": "execute_result"
    }
   ],
   "source": [
    "function plot_image(x)\n",
    "    xx=reshape(x,28,28)\n",
    "    xxx=zeros(28,28)\n",
    "    for i=1:28\n",
    "        for j=1:28\n",
    "            xxx[29-i,j]=xx[j,i]\n",
    "        end\n",
    "    end\n",
    "    pcolormesh(xxx,cmap=\"gray\")\n",
    "    axis(\"equal\")\n",
    "    gca()[:set_axis_off]()\n",
    "end\n",
    "\n",
    "function prob_cgtc(tc)\n",
    "    qcgtc = zeros(2,1)\n",
    "    if tc==0\n",
    "        qcgtc[1] = p0g0\n",
    "        qcgtc[2] = p0g1\n",
    "    else\n",
    "        qcgtc[1] = p1g0\n",
    "        qcgtc[2] = p1g1\n",
    "    end\n",
    "    qcgtc=qcgtc./sum(qcgtc)\n",
    "end\n",
    "\n",
    "function prob_xgtx(tx)\n",
    "    mean_xgtx = zeros(length(tx),1)\n",
    "    var_xgtx = zeros(length(tx),1)\n",
    "    for i=1:length(tx)\n",
    "        a = 1/spread_var[i] + 1/prior_var[i]\n",
    "        b = tx[i]/spread_var[i] + prior_mean[i]/prior_var[i]\n",
    "        mean_xgtx[i]=b/a\n",
    "        var_xgtx[i]=1/a        \n",
    "    end\n",
    "    return (mean_xgtx,var_xgtx)\n",
    "end\n",
    "\n",
    "function prob_xgtx!(tx)\n",
    "    for i=1:length(tx)\n",
    "        a = 1/spread_var[i] + 1/prior_var[i]\n",
    "        b = tx[i]/spread_var[i] + prior_mean[i]/prior_var[i]\n",
    "        mean_xgtx[i]=b/a\n",
    "        var_xgtx[i]=1/a        \n",
    "    end\n",
    "#    return (mean_xgtx,var_xgtx)    \n",
    "end\n",
    "\n",
    "function prob_xgtx_binomial(tx,b,m,epsilon)\n",
    "    sigma = m/(b^2*epsilon)\n",
    "    theta = 0.11940392323596105\n",
    "    thetaB = zeros(length(tx))\n",
    "    for i=1:length(tx)\n",
    "        A = exp(-abs(tx[i]-1)/sigma)*theta\n",
    "        B = exp(-abs(tx[i])/sigma)*(1-theta)\n",
    "        thetaB[i] = A/(A+B)\n",
    "    end    \n",
    "    return thetaB\n",
    "end\n",
    "\n",
    "sigmoid(x) = 1.0 ./ (1.0 .+exp.(-x))\n",
    "\n",
    "function grad_theta(theta,c,x)\n",
    "    g=zeros(size(x))\n",
    "    cbar=2*c-1\n",
    "    g = cbar*(1-sigmoid(cbar.*sum(theta.*x))).*x\n",
    "end\n",
    "\n",
    "function loglik(b,theta,c,x,bounds=true)\n",
    "    L=0.0\n",
    "    for n=1:size(x,2)\n",
    "        if b == 1\n",
    "            L = L+log(sigmoid( (2*c[n]-1).*sum(theta.*x[:,n])))    \n",
    "        else\n",
    "            L = L+log(sigmoid( (2*c[n]-1).*sum(theta.*pixelization(x[:,n],b,0,1,bounds)[2])))\n",
    "        end\n",
    "    end\n",
    "    return L\n",
    "end\n",
    "\n",
    "function truncate(tx)\n",
    "    x_truncated=zeros(length(tx))\n",
    "    for i=1:length(tx)\n",
    "        x_truncated[i] = tx[i]\n",
    "        if tx[i] > 1\n",
    "            x_truncated[i] = 1\n",
    "        end\n",
    "        if tx[i] < 0\n",
    "            x_truncated[i] = 0\n",
    "        end\n",
    "    end\n",
    "    return x_truncated\n",
    "end\n",
    "\n",
    "function MSE(image1,image2)\n",
    "    if length(image1)!=length(image2)\n",
    "        println(\"Error: two images need to have same number of pixels!\")\n",
    "    end\n",
    "    MSE=0\n",
    "    for i=1:length(image1)\n",
    "        MSE+=(image1[i]-image2[i])^2\n",
    "    end\n",
    "    return MSE/length(image1)\n",
    "end\n",
    "\n",
    "function ME(image1,image2)\n",
    "    if length(image1)!=length(image2)\n",
    "        println(\"Error: two images need to have same number of pixels!\")\n",
    "    end\n",
    "    ME=0\n",
    "    for i=1:length(image1)\n",
    "        ME+=abs(image1[i]-image2[i])\n",
    "    end\n",
    "    return ME/length(image1)\n",
    "end\n",
    "# function label_flip(c,p0g0,p1g1)\n",
    "#     ctilde=zeros(Int,size(c))\n",
    "#     for n=1:size(c)[1]\n",
    "#         if c[n]==0\n",
    "#             if rand()<p0g0\n",
    "#                 ctilde[n]=0\n",
    "#             else\n",
    "#                 ctilde[n]=1\n",
    "#             end\n",
    "#         end\n",
    "#         if c[n]==1\n",
    "#             if rand()<p1g1\n",
    "#                 ctilde[n]=1\n",
    "#             else\n",
    "#                 ctilde[n]=0\n",
    "#             end\n",
    "#         end\n",
    "#     end\n",
    "#     return ctilde\n",
    "# end"
   ]
  },
  {
   "cell_type": "code",
   "execution_count": 4,
   "metadata": {},
   "outputs": [
    {
     "data": {
      "text/plain": [
       "pixelization (generic function with 2 methods)"
      ]
     },
     "execution_count": 4,
     "metadata": {},
     "output_type": "execute_result"
    }
   ],
   "source": [
    "#pixelization\n",
    "#b=1,2,4,7,14\n",
    "function pixelization(x,b,m,epsilon,bounds=true)\n",
    "    d = convert(Int64,28/b)\n",
    "    Pb = zeros(d,d)\n",
    "    x_tilde = zeros(784)\n",
    "    x_pixel = zeros(convert(Int64,784/b^2))\n",
    "    for i=1:d\n",
    "        for j=1:d\n",
    "            for k=1:b^2\n",
    "                l = 1+(k-1)÷b*28+(k-1)%b+(j-1)*b+(i-1)*28*b\n",
    "                Pb[i,j]+=x[l]/(b^2)\n",
    "            end\n",
    "            #add scaled laplace distribution with truncation\n",
    "            if m != 0\n",
    "                if rand()<0.5\n",
    "                    Pb[i,j]+=m/(b^2*epsilon)*randexp()\n",
    "                else\n",
    "                    Pb[i,j]-=m/(b^2*epsilon)*randexp()\n",
    "                end\n",
    "                if bounds\n",
    "                    Pb[i,j]=max(0,Pb[i,j])\n",
    "                    Pb[i,j]=min(1,Pb[i,j])\n",
    "                end            \n",
    "            end\n",
    "            for k=1:b^2\n",
    "                l = 1+(k-1)÷b*28+(k-1)%b+(j-1)*b+(i-1)*28*b\n",
    "                x_tilde[l]=Pb[i,j]\n",
    "            end\n",
    "            x_pixel[convert(Int64,j+(i-1)*d)]=Pb[i,j]\n",
    "        end\n",
    "    end\n",
    "    return (x_tilde,x_pixel)    \n",
    "end"
   ]
  },
  {
   "cell_type": "code",
   "execution_count": 5,
   "metadata": {},
   "outputs": [
    {
     "data": {
      "text/plain": [
       "spread_divergence (generic function with 2 methods)"
      ]
     },
     "execution_count": 5,
     "metadata": {},
     "output_type": "execute_result"
    }
   ],
   "source": [
    "p0g0=0.8; p1g0=1-p0g0\n",
    "p1g1=0.8; p0g1=1-p1g1\n",
    "\n",
    "# SPREAD DIVERGENCE\n",
    "\n",
    "#prior_mean=mean(x,dims=2)\n",
    "#prior_var=std(x,dims=2)\n",
    "#spread_std=std(x,dims=2) .+ 0.01\n",
    "#spread_var=spread_std.^2\n",
    "\n",
    "# generate the noisy training data\n",
    "function spread_divergence(c,x,b,m,epsilon,bounds=true)\n",
    "    ctilde=zeros(Int,size(c))\n",
    "    xtilde=zeros(size(x))\n",
    "    x_pixel=zeros(convert(Int64,784/b^2),size(x)[2])\n",
    "    for n=1:size(x)[2]\n",
    "        if c[n]==0\n",
    "            if rand()<p0g0\n",
    "                ctilde[n]=0\n",
    "            else\n",
    "                ctilde[n]=1\n",
    "            end\n",
    "        end\n",
    "        if c[n]==1\n",
    "            if rand()<p1g1\n",
    "                ctilde[n]=1\n",
    "            else\n",
    "                ctilde[n]=0\n",
    "            end\n",
    "        end\n",
    "        (xtilde[:,n],x_pixel[:,n])=pixelization(x[:,n],b,m,epsilon,bounds)\n",
    "    end\n",
    "    return (ctilde, xtilde, x_pixel)\n",
    "end"
   ]
  },
  {
   "cell_type": "markdown",
   "metadata": {},
   "source": [
    "# Some statistics of MNIST dataset"
   ]
  },
  {
   "cell_type": "markdown",
   "metadata": {},
   "source": [
    "## 7and9"
   ]
  },
  {
   "cell_type": "code",
   "execution_count": 102,
   "metadata": {
    "scrolled": true
   },
   "outputs": [
    {
     "ename": "DimensionMismatch",
     "evalue": "DimensionMismatch(\"parent has 47040000 elements, which is incompatible with size (35280000,)\")",
     "output_type": "error",
     "traceback": [
      "DimensionMismatch(\"parent has 47040000 elements, which is incompatible with size (35280000,)\")",
      "",
      "Stacktrace:",
      " [1] _throw_dmrs(::Int64, ::String, ::Tuple{Int64}) at .\\reshapedarray.jl:180",
      " [2] _reshape at .\\reshapedarray.jl:175 [inlined]",
      " [3] reshape at .\\reshapedarray.jl:112 [inlined]",
      " [4] reshape(::Base.ReinterpretArray{FixedPointNumbers.Normed{UInt8,8},3,UInt8,Array{UInt8,3}}, ::Int64) at .\\reshapedarray.jl:115",
      " [5] top-level scope at In[102]:1"
     ]
    }
   ],
   "source": [
    "x_concat = reshape(x,9000*728)"
   ]
  },
  {
   "cell_type": "code",
   "execution_count": 1,
   "metadata": {},
   "outputs": [
    {
     "ename": "UndefVarError",
     "evalue": "UndefVarError: x_concat not defined",
     "output_type": "error",
     "traceback": [
      "UndefVarError: x_concat not defined",
      "",
      "Stacktrace:",
      " [1] top-level scope at .\\In[1]:3"
     ]
    }
   ],
   "source": [
    "counter = 0\n",
    "for n=1:7056000\n",
    "    if x_concat[n]<0.8\n",
    "        if x_concat[n]>0.2\n",
    "            counter += 1\n",
    "        end\n",
    "    end\n",
    "end\n",
    "counter/7056000"
   ]
  },
  {
   "cell_type": "code",
   "execution_count": 22,
   "metadata": {},
   "outputs": [
    {
     "data": {
      "image/png": "[encoded data removed]",
      "text/plain": [
       "Figure(PyObject <Figure size 640x480 with 1 Axes>)"
      ]
     },
     "metadata": {},
     "output_type": "display_data"
    },
    {
     "data": {
      "text/plain": [
       "([5.8237e6, 15637.0, 10828.0, 14688.0, 9051.0, 13598.0, 7632.0, 13030.0, 8768.0, 11321.0  …  11886.0, 10093.0, 12951.0, 7443.0, 14001.0, 10637.0, 15056.0, 10826.0, 106492.0, 360028.0], [0.0, 0.01, 0.02, 0.03, 0.04, 0.05, 0.06, 0.07, 0.08, 0.09  …  0.91, 0.92, 0.93, 0.94, 0.95, 0.96, 0.97, 0.98, 0.99, 1.0], PyCall.PyObject[PyObject <matplotlib.patches.Rectangle object at 0x0000000229D11198>, PyObject <matplotlib.patches.Rectangle object at 0x0000000229D11828>, PyObject <matplotlib.patches.Rectangle object at 0x0000000229D2DE10>, PyObject <matplotlib.patches.Rectangle object at 0x0000000229D538D0>, PyObject <matplotlib.patches.Rectangle object at 0x0000000229D6E208>, PyObject <matplotlib.patches.Rectangle object at 0x0000000229D7CAC8>, PyObject <matplotlib.patches.Rectangle object at 0x0000000229D7C748>, PyObject <matplotlib.patches.Rectangle object at 0x0000000229D89128>, PyObject <matplotlib.patches.Rectangle object at 0x0000000229DA6EF0>, PyObject <matplotlib.patches.Rectangle object at 0x0000000229DA6908>  …  PyObject <matplotlib.patches.Rectangle object at 0x000000022A229EB8>, PyObject <matplotlib.patches.Rectangle object at 0x000000022A229940>, PyObject <matplotlib.patches.Rectangle object at 0x000000022A246240>, PyObject <matplotlib.patches.Rectangle object at 0x000000022A260668>, PyObject <matplotlib.patches.Rectangle object at 0x000000022A260780>, PyObject <matplotlib.patches.Rectangle object at 0x000000022A26E048>, PyObject <matplotlib.patches.Rectangle object at 0x000000022A27BC18>, PyObject <matplotlib.patches.Rectangle object at 0x000000022A27BBA8>, PyObject <matplotlib.patches.Rectangle object at 0x000000022A286320>, PyObject <matplotlib.patches.Rectangle object at 0x000000022A295BE0>])"
      ]
     },
     "execution_count": 22,
     "metadata": {},
     "output_type": "execute_result"
    }
   ],
   "source": [
    "nbins = 100\n",
    "h = plt.hist(x_concat,nbins)"
   ]
  },
  {
   "cell_type": "code",
   "execution_count": 23,
   "metadata": {},
   "outputs": [
    {
     "name": "stdout",
     "output_type": "stream",
     "text": [
      "0.11940392323596105\n"
     ]
    }
   ],
   "source": [
    "mu = mean(x_concat)\n",
    "println(mu)"
   ]
  },
  {
   "cell_type": "markdown",
   "metadata": {},
   "source": [
    "approximate this to be Binomial distribution, prob(1) = 0.119, prob(0) = 0.881"
   ]
  },
  {
   "cell_type": "code",
   "execution_count": 59,
   "metadata": {},
   "outputs": [
    {
     "name": "stdout",
     "output_type": "stream",
     "text": [
      "0.08778888427126882\n"
     ]
    }
   ],
   "source": [
    "sigma2 = var(x_concat)\n",
    "println(sigma2)"
   ]
  },
  {
   "cell_type": "code",
   "execution_count": 61,
   "metadata": {},
   "outputs": [
    {
     "name": "stdout",
     "output_type": "stream",
     "text": [
      "alpha = 0.023608712197909328 ,beta = 0.17411269894244977\n"
     ]
    }
   ],
   "source": [
    "alpha = ((1-mu)/sigma2-1/mu)*mu^2\n",
    "beta = alpha*(1/mu-1)\n",
    "println(\"alpha = \",alpha,\" ,beta = \",beta)"
   ]
  },
  {
   "cell_type": "code",
   "execution_count": 132,
   "metadata": {},
   "outputs": [
    {
     "data": {
      "image/png": "[encoded data removed]",
      "text/plain": [
       "Figure(PyObject <Figure size 640x480 with 1 Axes>)"
      ]
     },
     "metadata": {},
     "output_type": "display_data"
    },
    {
     "data": {
      "text/plain": [
       "([79427.0, 1349.0, 780.0, 564.0, 438.0, 360.0, 336.0, 278.0, 254.0, 226.0  …  167.0, 190.0, 208.0, 234.0, 238.0, 283.0, 356.0, 468.0, 714.0, 5374.0], [2.39465e-193, 0.01, 0.02, 0.03, 0.04, 0.05, 0.06, 0.07, 0.08, 0.09  …  0.91, 0.92, 0.93, 0.94, 0.95, 0.96, 0.97, 0.98, 0.99, 1.0], PyCall.PyObject[PyObject <matplotlib.patches.Rectangle object at 0x00000002321424A8>, PyObject <matplotlib.patches.Rectangle object at 0x0000000232126550>, PyObject <matplotlib.patches.Rectangle object at 0x000000023214F400>, PyObject <matplotlib.patches.Rectangle object at 0x000000023215D978>, PyObject <matplotlib.patches.Rectangle object at 0x000000023215D780>, PyObject <matplotlib.patches.Rectangle object at 0x000000023216C0F0>, PyObject <matplotlib.patches.Rectangle object at 0x0000000232177908>, PyObject <matplotlib.patches.Rectangle object at 0x00000002321779B0>, PyObject <matplotlib.patches.Rectangle object at 0x0000000232185860>, PyObject <matplotlib.patches.Rectangle object at 0x00000002321931D0>  …  PyObject <matplotlib.patches.Rectangle object at 0x00000002326761D0>, PyObject <matplotlib.patches.Rectangle object at 0x000000023269F588>, PyObject <matplotlib.patches.Rectangle object at 0x000000023269FFD0>, PyObject <matplotlib.patches.Rectangle object at 0x00000002326AD630>, PyObject <matplotlib.patches.Rectangle object at 0x000000023269C208>, PyObject <matplotlib.patches.Rectangle object at 0x00000002326C8A58>, PyObject <matplotlib.patches.Rectangle object at 0x00000002326C8E80>, PyObject <matplotlib.patches.Rectangle object at 0x00000002326D54E0>, PyObject <matplotlib.patches.Rectangle object at 0x00000002326FC908>, PyObject <matplotlib.patches.Rectangle object at 0x00000002326FCFD0>])"
      ]
     },
     "execution_count": 132,
     "metadata": {},
     "output_type": "execute_result"
    }
   ],
   "source": [
    "samples = 100000\n",
    "dummy = zeros(samples)\n",
    "for n=1:samples\n",
    "    dummy[n]=rand(Beta(alpha, beta))\n",
    "end\n",
    "h = plt.hist(dummy,nbins)"
   ]
  },
  {
   "cell_type": "code",
   "execution_count": 63,
   "metadata": {},
   "outputs": [
    {
     "data": {
      "text/plain": [
       "0.08765651335510295"
      ]
     },
     "execution_count": 63,
     "metadata": {},
     "output_type": "execute_result"
    }
   ],
   "source": [
    "var(dummy)"
   ]
  },
  {
   "cell_type": "code",
   "execution_count": 134,
   "metadata": {},
   "outputs": [
    {
     "data": {
      "text/plain": [
       "0.01479"
      ]
     },
     "execution_count": 134,
     "metadata": {},
     "output_type": "execute_result"
    }
   ],
   "source": [
    "counter = 0\n",
    "for n=1:samples\n",
    "    if dummy[n]<0.6\n",
    "        if dummy[n]>0.4\n",
    "            counter += 1\n",
    "        end\n",
    "    end\n",
    "end\n",
    "counter/samples"
   ]
  },
  {
   "cell_type": "markdown",
   "metadata": {},
   "source": [
    "## all digits"
   ]
  },
  {
   "cell_type": "code",
   "execution_count": 104,
   "metadata": {},
   "outputs": [],
   "source": [
    "x_all = zeros(784,size(train_x,3))\n",
    "for i=1:size(train_x,3)\n",
    "    x_all[:,i]=vec(1.0*train_x[:,:,i])\n",
    "end"
   ]
  },
  {
   "cell_type": "code",
   "execution_count": 108,
   "metadata": {},
   "outputs": [
    {
     "data": {
      "text/plain": [
       "47040000-element Array{Float64,1}:\n",
       " 0.0\n",
       " 0.0\n",
       " 0.0\n",
       " 0.0\n",
       " 0.0\n",
       " 0.0\n",
       " 0.0\n",
       " 0.0\n",
       " 0.0\n",
       " 0.0\n",
       " 0.0\n",
       " 0.0\n",
       " 0.0\n",
       " ⋮  \n",
       " 0.0\n",
       " 0.0\n",
       " 0.0\n",
       " 0.0\n",
       " 0.0\n",
       " 0.0\n",
       " 0.0\n",
       " 0.0\n",
       " 0.0\n",
       " 0.0\n",
       " 0.0\n",
       " 0.0"
      ]
     },
     "execution_count": 108,
     "metadata": {},
     "output_type": "execute_result"
    }
   ],
   "source": [
    "x_all_concat = reshape(x_all,10*6000*784)"
   ]
  },
  {
   "cell_type": "code",
   "execution_count": 114,
   "metadata": {},
   "outputs": [
    {
     "data": {
      "image/png": "[encoded data removed]",
      "text/plain": [
       "Figure(PyObject <Figure size 640x480 with 1 Axes>)"
      ]
     },
     "metadata": {},
     "output_type": "display_data"
    },
    {
     "data": {
      "text/plain": [
       "([3.88479e7, 571880.0, 514157.0, 438029.0, 446644.0, 518761.0, 454060.0, 518723.0, 611860.0, 4.11803e6], [0.0, 0.1, 0.2, 0.3, 0.4, 0.5, 0.6, 0.7, 0.8, 0.9, 1.0], PyCall.PyObject[PyObject <matplotlib.patches.Rectangle object at 0x0000000004FA27F0>, PyObject <matplotlib.patches.Rectangle object at 0x0000000004FA25C0>, PyObject <matplotlib.patches.Rectangle object at 0x0000000004FA2D68>, PyObject <matplotlib.patches.Rectangle object at 0x0000000004FB30B8>, PyObject <matplotlib.patches.Rectangle object at 0x0000000004FB33C8>, PyObject <matplotlib.patches.Rectangle object at 0x0000000004FB36D8>, PyObject <matplotlib.patches.Rectangle object at 0x0000000004FB39E8>, PyObject <matplotlib.patches.Rectangle object at 0x0000000004FB3CF8>, PyObject <matplotlib.patches.Rectangle object at 0x0000000004FB3FD0>, PyObject <matplotlib.patches.Rectangle object at 0x0000000004FAC358>])"
      ]
     },
     "execution_count": 114,
     "metadata": {},
     "output_type": "execute_result"
    }
   ],
   "source": [
    "nbins = 10\n",
    "h = plt.hist(x_all_concat,nbins)"
   ]
  },
  {
   "cell_type": "code",
   "execution_count": 113,
   "metadata": {},
   "outputs": [
    {
     "data": {
      "text/plain": [
       "1.0"
      ]
     },
     "execution_count": 113,
     "metadata": {},
     "output_type": "execute_result"
    }
   ],
   "source": [
    "counter = 0\n",
    "for n=1:7056000\n",
    "    if x_all_concat[n]<1.1\n",
    "        if x_all_concat[n]>-0.1\n",
    "            counter += 1\n",
    "        end\n",
    "    end\n",
    "end\n",
    "counter/7056000"
   ]
  },
  {
   "cell_type": "code",
   "execution_count": 116,
   "metadata": {},
   "outputs": [
    {
     "name": "stdout",
     "output_type": "stream",
     "text": [
      "0.1306604762738429\n"
     ]
    }
   ],
   "source": [
    "mu = mean(x_all_concat)\n",
    "println(mu)"
   ]
  },
  {
   "cell_type": "markdown",
   "metadata": {},
   "source": [
    "# Standard Logistic Regression\n"
   ]
  },
  {
   "cell_type": "markdown",
   "metadata": {},
   "source": [
    "## no flip, no Laplace noise, no pixelization"
   ]
  },
  {
   "cell_type": "code",
   "execution_count": 8,
   "metadata": {},
   "outputs": [
    {
     "name": "stderr",
     "output_type": "stream",
     "text": [
      "\u001b[32mStandard training100%|██████████████████████████████████| Time: 0:01:11\u001b[39m\n"
     ]
    },
    {
     "name": "stdout",
     "output_type": "stream",
     "text": [
      "train accuracy = 0.959\n",
      "test accuracy = 0.9605555555555556\n",
      "[-5335.27, -4701.75, -4241.76, -3895.06, -3625.35, -3409.75, -3233.52, -3086.6, -2962.1, -2855.11, -2762.08, -2680.34, -2607.9, -2543.2, -2485.0, -2432.34, -2384.42, -2340.6, -2300.34, -2263.22, -2228.85, -2196.92, -2167.17, -2139.37, -2113.31, -2088.84, -2065.8, -2044.06, -2023.5, -2004.03, -1985.55, -1967.99, -1951.27, -1935.33, -1920.11, -1905.56, -1891.64, -1878.29, -1865.49, -1853.2, -1841.38, -1830.0, -1819.04, -1808.48, -1798.29, -1788.45, -1778.94, -1769.74, -1760.84, -1752.22, -1743.86, -1735.76, -1727.9, -1720.26, -1712.85, -1705.64, -1698.64, -1691.82, -1685.18, -1678.72, -1672.42, -1666.28, -1660.3, -1654.46, -1648.76, -1643.19, -1637.76, -1632.45, -1627.26, -1622.18, -1617.22, -1612.36, -1607.61, -1602.96, -1598.4, -1593.93, -1589.56, -1585.27, -1581.07, -1576.95, -1572.91, -1568.94, -1565.05, -1561.23, -1557.48, -1553.79, -1550.18, -1546.62, -1543.13, -1539.69, -1536.32, -1533.0, -1529.74, -1526.52, -1523.37, -1520.26, -1517.2, -1514.19, -1511.22, -1508.3, -1505.43, -1502.6, -1499.81, -1497.06, -1494.35, -1491.68, -1489.05, -1486.46, -1483.9, -1481.38, -1478.89, -1476.44, -1474.02, -1471.63, -1469.28, -1466.95, -1464.66, -1462.39, -1460.16, -1457.95, -1455.77, -1453.62, -1451.49, -1449.39, -1447.32, -1445.27, -1443.24, -1441.24, -1439.26, -1437.31, -1435.38, -1433.47, -1431.58, -1429.71, -1427.87, -1426.04, -1424.24, -1422.45, -1420.69, -1418.94, -1417.21, -1415.5, -1413.81, -1412.14, -1410.48, -1408.84, -1407.22, -1405.61, -1404.02, -1402.45, -1400.89, -1399.35, -1397.82, -1396.31, -1394.81, -1393.33, -1391.86, -1390.4, -1388.96, -1387.53, -1386.12, -1384.72, -1383.33, -1381.95, -1380.59, -1379.24, -1377.9, -1376.57, -1375.26, -1373.95, -1372.66, -1371.38, -1370.11, -1368.85, -1367.6, -1366.37, -1365.14, -1363.92, -1362.71, -1361.52, -1360.33, -1359.15, -1357.99, -1356.83, -1355.68, -1354.54, -1353.41, -1352.29, -1351.17, -1350.07, -1348.98, -1347.89, -1346.81, -1345.74, -1344.68, -1343.62, -1342.58, -1341.54, -1340.51, -1339.49, -1338.47, -1337.46, -1336.46, -1335.47, -1334.48, -1333.5, -1332.53, -1331.57, -1330.61, -1329.66, -1328.71, -1327.77, -1326.84, -1325.91, -1325.0, -1324.08, -1323.18, -1322.28, -1321.38, -1320.49, -1319.61, -1318.73, -1317.86, -1317.0, -1316.14, -1315.28, -1314.44, -1313.59, -1312.76, -1311.92, -1311.1, -1310.27, -1309.46, -1308.65, -1307.84, -1307.04, -1306.24, -1305.45, -1304.66, -1303.88, -1303.11, -1302.33, -1301.57, -1300.8, -1300.04, -1299.29, -1298.54, -1297.79, -1297.05, -1296.32, -1295.59, -1294.86, -1294.13, -1293.41, -1292.7, -1291.99, -1291.28, -1290.57, -1289.88, -1289.18, -1288.49, -1287.8, -1287.12, -1286.43, -1285.76, -1285.08, -1284.42, -1283.75, -1283.09, -1282.43, -1281.77, -1281.12, -1280.47, -1279.83, -1279.19, -1278.55, -1277.91, -1277.28, -1276.65, -1276.03, -1275.41, -1274.79, -1274.17, -1273.56, -1272.95, -1272.35, -1271.74, -1271.14, -1270.54, -1269.95, -1269.36, -1268.77, -1268.19, -1267.6, -1267.02, -1266.45, -1265.87, -1265.3, -1264.73, -1264.16, -1263.6, -1263.04, -1262.48, -1261.93, -1261.37, -1260.82, -1260.28, -1259.73, -1259.19, -1258.65, -1258.11, -1257.57, -1257.04, -1256.51, -1255.98, -1255.46, -1254.93, -1254.41, -1253.89, -1253.38, -1252.86, -1252.35, -1251.84, -1251.33, -1250.83, -1250.33, -1249.82, -1249.33, -1248.83, -1248.34, -1247.84, -1247.35, -1246.86, -1246.38, -1245.89, -1245.41, -1244.93, -1244.45, -1243.98, -1243.5, -1243.03, -1242.56, -1242.09, -1241.63, -1241.16, -1240.7, -1240.24, -1239.78, -1239.32, -1238.87, -1238.41, -1237.96, -1237.51, -1237.06, -1236.62, -1236.17, -1235.73, -1235.29, -1234.85, -1234.41, -1233.98, -1233.54, -1233.11, -1232.68, -1232.25, -1231.82, -1231.4, -1230.97, -1230.55, -1230.13, -1229.71, -1229.29, -1228.87, -1228.46, -1228.04, -1227.63, -1227.22, -1226.81, -1226.4, -1226.0, -1225.59, -1225.19, -1224.79, -1224.39, -1223.99, -1223.59, -1223.2, -1222.8, -1222.41, -1222.02, -1221.63, -1221.24, -1220.85, -1220.46, -1220.08, -1219.69, -1219.31, -1218.93, -1218.55, -1218.17, -1217.8, -1217.42, -1217.05, -1216.67, -1216.3, -1215.93, -1215.56, -1215.19, -1214.82, -1214.46, -1214.09, -1213.73, -1213.37, -1213.01, -1212.65, -1212.29, -1211.93, -1211.58, -1211.22, -1210.87, -1210.51, -1210.16, -1209.81, -1209.46, -1209.11, -1208.77, -1208.42, -1208.07, -1207.73, -1207.39, -1207.05, -1206.7, -1206.37, -1206.03, -1205.69, -1205.35, -1205.02, -1204.68, -1204.35, -1204.02, -1203.69, -1203.35, -1203.03, -1202.7, -1202.37, -1202.04, -1201.72, -1201.39, -1201.07, -1200.75, -1200.43, -1200.11, -1199.79, -1199.47, -1199.15, -1198.83, -1198.52, -1198.2, -1197.89, -1197.57, -1197.26, -1196.95, -1196.64, -1196.33, -1196.02, -1195.71, -1195.41, -1195.1, -1194.8, -1194.49, -1194.19, -1193.89, -1193.58, -1193.28, -1192.98, -1192.68, -1192.38, -1192.09, -1191.79, -1191.49, -1191.2, -1190.91, -1190.61, -1190.32, -1190.03, -1189.74, -1189.45, -1189.16, -1188.87, -1188.58, -1188.29, -1188.01, -1187.72, -1187.44, -1187.15, -1186.87, -1186.59, -1186.3, -1186.02, -1185.74, -1185.46, -1185.18, -1184.91, -1184.63, -1184.35, -1184.08, -1183.8, -1183.53, -1183.25, -1182.98, -1182.71, -1182.44, -1182.16, -1181.89, -1181.62, -1181.36, -1181.09, -1180.82, -1180.55, -1180.29, -1180.02, -1179.76, -1179.49, -1179.23, -1178.96, -1178.7, -1178.44, -1178.18, -1177.92, -1177.66, -1177.4, -1177.14, -1176.88, -1176.63, -1176.37, -1176.11, -1175.86, -1175.6, -1175.35, -1175.1, -1174.84, -1174.59, -1174.34, -1174.09, -1173.84, -1173.59, -1173.34, -1173.09, -1172.84, -1172.6, -1172.35, -1172.1, -1171.86, -1171.61, -1171.37, -1171.12, -1170.88, -1170.64, -1170.39, -1170.15, -1169.91, -1169.67, -1169.43, -1169.19, -1168.95, -1168.71, -1168.48, -1168.24, -1168.0, -1167.76, -1167.53, -1167.29, -1167.06, -1166.82, -1166.59, -1166.36, -1166.13, -1165.89, -1165.66, -1165.43, -1165.2, -1164.97, -1164.74, -1164.51, -1164.28, -1164.05, -1163.83, -1163.6, -1163.37, -1163.15, -1162.92, -1162.7, -1162.47, -1162.25, -1162.02, -1161.8, -1161.58, -1161.36, -1161.13, -1160.91, -1160.69, -1160.47, -1160.25, -1160.03, -1159.81, -1159.6, -1159.38, -1159.16, -1158.94, -1158.73, -1158.51, -1158.29, -1158.08, -1157.86, -1157.65, -1157.44, -1157.22, -1157.01, -1156.8, -1156.58, -1156.37, -1156.16, -1155.95, -1155.74, -1155.53, -1155.32, -1155.11, -1154.9, -1154.69, -1154.49, -1154.28, -1154.07, -1153.86, -1153.66, -1153.45, -1153.25, -1153.04, -1152.84, -1152.63, -1152.43, -1152.23, -1152.02, -1151.82, -1151.62, -1151.42, -1151.21, -1151.01, -1150.81, -1150.61, -1150.41, -1150.21, -1150.01, -1149.82, -1149.62, -1149.42, -1149.22, -1149.02, -1148.83, -1148.63, -1148.44, -1148.24, -1148.04, -1147.85, -1147.65, -1147.46, -1147.27, -1147.07, -1146.88, -1146.69, -1146.5, -1146.3, -1146.11, -1145.92, -1145.73, -1145.54, -1145.35, -1145.16, -1144.97, -1144.78, -1144.59, -1144.4, -1144.21, -1144.03, -1143.84, -1143.65, -1143.47, -1143.28, -1143.09, -1142.91, -1142.72, -1142.54, -1142.35, -1142.17, -1141.98, -1141.8, -1141.62, -1141.43, -1141.25, -1141.07, -1140.89, -1140.7, -1140.52, -1140.34, -1140.16, -1139.98, -1139.8, -1139.62, -1139.44, -1139.26, -1139.08, -1138.9, -1138.73, -1138.55, -1138.37, -1138.19, -1138.02, -1137.84, -1137.66, -1137.49, -1137.31, -1137.13, -1136.96, -1136.78, -1136.61, -1136.44, -1136.26, -1136.09, -1135.91, -1135.74, -1135.57, -1135.4, -1135.22, -1135.05, -1134.88, -1134.71, -1134.54, -1134.37, -1134.2, -1134.03, -1133.86, -1133.69, -1133.52, -1133.35, -1133.18, -1133.01, -1132.84, -1132.67, -1132.51, -1132.34, -1132.17, -1132.01, -1131.84, -1131.67, -1131.51, -1131.34, -1131.18, -1131.01, -1130.85, -1130.68, -1130.52, -1130.35, -1130.19, -1130.02, -1129.86, -1129.7, -1129.54, -1129.37, -1129.21, -1129.05, -1128.89, -1128.73, -1128.56, -1128.4, -1128.24, -1128.08, -1127.92, -1127.76, -1127.6, -1127.44, -1127.28, -1127.12, -1126.97, -1126.81, -1126.65, -1126.49, -1126.33, -1126.18, -1126.02, -1125.86, -1125.7, -1125.55, -1125.39, -1125.24, -1125.08, -1124.92, -1124.77, -1124.61, -1124.46, -1124.3, -1124.15, -1124.0, -1123.84, -1123.69, -1123.54, -1123.38, -1123.23, -1123.08, -1122.92, -1122.77, -1122.62, -1122.47, -1122.32, -1122.17, -1122.01, -1121.86, -1121.71, -1121.56, -1121.41, -1121.26, -1121.11, -1120.96, -1120.81, -1120.66, -1120.52, -1120.37, -1120.22, -1120.07, -1119.92, -1119.78, -1119.63, -1119.48, -1119.33, -1119.19, -1119.04, -1118.89, -1118.75, -1118.6, -1118.46, -1118.31, -1118.16, -1118.02, -1117.87, -1117.73, -1117.58, -1117.44, -1117.3, -1117.15, -1117.01, -1116.87, -1116.72, -1116.58, -1116.44, -1116.29, -1116.15, -1116.01, -1115.87, -1115.72, -1115.58, -1115.44, -1115.3, -1115.16, -1115.02, -1114.88, -1114.74, -1114.6, -1114.46, -1114.32, -1114.18, -1114.04, -1113.9, -1113.76, -1113.62, -1113.48, -1113.34, -1113.21, -1113.07, -1112.93, -1112.79, -1112.65, -1112.52, -1112.38, -1112.24, -1112.11, -1111.97, -1111.83, -1111.7, -1111.56, -1111.42, -1111.29, -1111.15, -1111.02, -1110.88, -1110.75, -1110.61, -1110.48, -1110.34, -1110.21, -1110.08, -1109.94, -1109.81, -1109.68, -1109.54, -1109.41, -1109.28, -1109.14, -1109.01, -1108.88, -1108.75, -1108.61, -1108.48, -1108.35, -1108.22, -1108.09, -1107.96, -1107.83, -1107.69, -1107.56, -1107.43, -1107.3, -1107.17, -1107.04, -1106.91, -1106.78, -1106.65, -1106.53, -1106.4, -1106.27, -1106.14, -1106.01, -1105.88, -1105.75, -1105.63, -1105.5, -1105.37, -1105.24, -1105.11, -1104.99, -1104.86, -1104.73, -1104.61, -1104.48, -1104.35, -1104.23, -1104.1, -1103.97, -1103.85, -1103.72, -1103.6, -1103.47, -1103.35, -1103.22, -1103.1, -1102.97, -1102.85, -1102.72, -1102.6, -1102.48, -1102.35, -1102.23, -1102.1, -1101.98, -1101.86, -1101.73, -1101.61, -1101.49, -1101.37, -1101.24, -1101.12, -1101.0, -1100.88, -1100.76, -1100.63, -1100.51, -1100.39, -1100.27, -1100.15, -1100.03, -1099.91, -1099.79, -1099.66, -1099.54, -1099.42, -1099.3, -1099.18, -1099.06, -1098.94, -1098.83, -1098.71, -1098.59, -1098.47, -1098.35, -1098.23, -1098.11, -1097.99, -1097.87, -1097.76, -1097.64, -1097.52, -1097.4, -1097."
     ]
    },
    {
     "data": {
      "image/png": "[encoded data removed]",
      "text/plain": [
       "Figure(PyObject <Figure size 640x480 with 1 Axes>)"
      ]
     },
     "metadata": {},
     "output_type": "display_data"
    },
    {
     "name": "stdout",
     "output_type": "stream",
     "text": [
      "28]"
     ]
    }
   ],
   "source": [
    "# Do Standard Logistic Regresssion\n",
    "\n",
    "global theta=zeros(784)\n",
    "learning_rate=0.2\n",
    "Nloops=1000\n",
    "LL=zeros(Nloops)\n",
    "\n",
    "@showprogress 1 \"Standard training\"  for loop=1:Nloops \n",
    "    grad=zeros(784)\n",
    "    for n=1:Ntrain\n",
    "        grad=grad + grad_theta(theta,c[n],x[:,n])\n",
    "    end\n",
    "    global theta = theta+learning_rate*grad/Ntrain\n",
    "    LL[loop]=loglik(1,theta,c,x)\n",
    "end\n",
    "\n",
    "plot(LL)\n",
    "\n",
    "# check training data accuracy\n",
    "\n",
    "cpred=zeros(Int,Ntrain)\n",
    "for n=1:Ntrain\n",
    "    if sigmoid(sum(theta.*x[:,n])) >0.5\n",
    "        cpred[n]=1\n",
    "    end    \n",
    "end\n",
    "\n",
    "train_accuracy = mean(cpred.==c)\n",
    "println(\"train accuracy = $(train_accuracy)\")\n",
    "\n",
    "ctestpred=zeros(Int,Ntest)\n",
    "for n=1:Ntest\n",
    "    if sigmoid(sum(theta.*xtest[:,n])) >0.5\n",
    "        ctestpred[n]=1\n",
    "    end    \n",
    "end\n",
    "\n",
    "test_accuracy = mean(ctestpred.==ctest)\n",
    "println(\"test accuracy = $(test_accuracy)\")\n",
    "\n",
    "print(LL)\n",
    "\n"
   ]
  },
  {
   "cell_type": "markdown",
   "metadata": {},
   "source": [
    "## flip=0.2, no Laplace noise, no pixelization"
   ]
  },
  {
   "cell_type": "code",
   "execution_count": 48,
   "metadata": {},
   "outputs": [
    {
     "name": "stderr",
     "output_type": "stream",
     "text": [
      "\u001b[32mStandard training100%|██████████████████████████████████| Time: 0:01:19\u001b[39m\n"
     ]
    },
    {
     "name": "stdout",
     "output_type": "stream",
     "text": [
      "flip accuracy = 0.778\n",
      "train accuracy = 0.9498888888888889\n",
      "test accuracy = 0.9533333333333334\n",
      "[-5895.44, -5656.91, -5487.48, -5364.25, -5272.62, -5203.06, -5149.39, -5107.34, -5073.99, -5047.2, -5025.43, -5007.51, -4992.59, -4980.04, -4969.35, -4960.17, -4952.19, -4945.21, -4939.03, -4933.53, -4928.59, -4924.11, -4920.04, -4916.3, -4912.85, -4909.65, -4906.66, -4903.87, -4901.23, -4898.74, -4896.38, -4894.14, -4891.99, -4889.94, -4887.98, -4886.09, -4884.26, -4882.51, -4880.81, -4879.17, -4877.58, -4876.03, -4874.53, -4873.07, -4871.65, -4870.27, -4868.93, -4867.61, -4866.33, -4865.08, -4863.86, -4862.66, -4861.49, -4860.35, -4859.23, -4858.13, -4857.06, -4856.01, -4854.98, -4853.96, -4852.97, -4852.0, -4851.04, -4850.1, -4849.18, -4848.28, -4847.39, -4846.52, -4845.66, -4844.81, -4843.98, -4843.16, -4842.36, -4841.57, -4840.79, -4840.02, -4839.27, -4838.53, -4837.79, -4837.07, -4836.36, -4835.66, -4834.97, -4834.29, -4833.62, -4832.96, -4832.3, -4831.66, -4831.02, -4830.4, -4829.78, -4829.17, -4828.57, -4827.97, -4827.38, -4826.8, -4826.23, -4825.66, -4825.1, -4824.55, -4824.0, -4823.46, -4822.93, -4822.4, -4821.88, -4821.36, -4820.85, -4820.35, -4819.85, -4819.36, -4818.87, -4818.38, -4817.91, -4817.43, -4816.96, -4816.5, -4816.04, -4815.59, -4815.13, -4814.69, -4814.25, -4813.81, -4813.38, -4812.95, -4812.52, -4812.1, -4811.68, -4811.27, -4810.86, -4810.45, -4810.05, -4809.65, -4809.26, -4808.86, -4808.47, -4808.09, -4807.71, -4807.33, -4806.95, -4806.58, -4806.21, -4805.84, -4805.47, -4805.11, -4804.75, -4804.4, -4804.04, -4803.69, -4803.34, -4803.0, -4802.66, -4802.31, -4801.98, -4801.64, -4801.31, -4800.98, -4800.65, -4800.32, -4800.0, -4799.68, -4799.36, -4799.04, -4798.72, -4798.41, -4798.1, -4797.79, -4797.48, -4797.18, -4796.87, -4796.57, -4796.27, -4795.98, -4795.68, -4795.39, -4795.09, -4794.8, -4794.51, -4794.23, -4793.94, -4793.66, -4793.38, -4793.1, -4792.82, -4792.54, -4792.27, -4791.99, -4791.72, -4791.45, -4791.18, -4790.91, -4790.64, -4790.38, -4790.12, -4789.85, -4789.59, -4789.33, -4789.08, -4788.82, -4788.56, -4788.31, -4788.06, -4787.81, -4787.56, -4787.31, -4787.06, -4786.81, -4786.57, -4786.32, -4786.08, -4785.84, -4785.6, -4785.36, -4785.12, -4784.88, -4784.65, -4784.41, -4784.18, -4783.95, -4783.72, -4783.49, -4783.26, -4783.03, -4782.8, -4782.57, -4782.35, -4782.12, -4781.9, -4781.68, -4781.46, -4781.24, -4781.02, -4780.8, -4780.58, -4780.36, -4780.15, -4779.93, -4779.72, -4779.51, -4779.29, -4779.08, -4778.87, -4778.66, -4778.45, -4778.25, -4778.04, -4777.83, -4777.63, -4777.42, -4777.22, -4777.02, -4776.81, -4776.61, -4776.41, -4776.21, -4776.01, -4775.81, -4775.62, -4775.42, -4775.22, -4775.03, -4774.83, -4774.64, -4774.45, -4774.25, -4774.06, -4773.87, -4773.68, -4773.49, -4773.3, -4773.11, -4772.93, -4772.74, -4772.55, -4772.37, -4772.18, -4772.0, -4771.82, -4771.63, -4771.45, -4771.27, -4771.09, -4770.91, -4770.73, -4770.55, -4770.37, -4770.19, -4770.01, -4769.84, -4769.66, -4769.48, -4769.31, -4769.13, -4768.96, -4768.79, -4768.61, -4768.44, -4768.27, -4768.1, -4767.93, -4767.76, -4767.59, -4767.42, -4767.25, -4767.08, -4766.92, -4766.75, -4766.58, -4766.42, -4766.25, -4766.09, -4765.92, -4765.76, -4765.59, -4765.43, -4765.27, -4765.11, -4764.95, -4764.79, -4764.62, -4764.46, -4764.31, -4764.15, -4763.99, -4763.83, -4763.67, -4763.52, -4763.36, -4763.2, -4763.05, -4762.89, -4762.74, -4762.58, -4762.43, -4762.27, -4762.12, -4761.97, -4761.82, -4761.66, -4761.51, -4761.36, -4761.21, -4761.06, -4760.91, -4760.76, -4760.61, -4760.47, -4760.32, -4760.17, -4760.02, -4759.88, -4759.73, -4759.58, -4759.44, -4759.29, -4759.15, -4759.0, -4758.86, -4758.71, -4758.57, -4758.43, -4758.29, -4758.14, -4758.0, -4757.86, -4757.72, -4757.58, -4757.44, -4757.3, -4757.16, -4757.02, -4756.88, -4756.74, -4756.6, -4756.47, -4756.33, -4756.19, -4756.05, -4755.92, -4755.78, -4755.64, -4755.51, -4755.37, -4755.24, -4755.1, -4754.97, -4754.84, -4754.7, -4754.57, -4754.44, -4754.3, -4754.17, -4754.04, -4753.91, -4753.78, -4753.65, -4753.52, -4753.39, -4753.26, -4753.13, -4753.0, -4752.87, -4752.74, -4752.61, -4752.48, -4752.35, -4752.23, -4752.1, -4751.97, -4751.84, -4751.72, -4751.59, -4751.47, -4751.34, -4751.22, -4751.09, -4750.97, -4750.84, -4750.72, -4750.59, -4750.47, -4750.35, -4750.22, -4750.1, -4749.98, -4749.86, -4749.73, -4749.61, -4749.49, -4749.37, -4749.25, -4749.13, -4749.01, -4748.89, -4748.77, -4748.65, -4748.53, -4748.41, -4748.29, -4748.17, -4748.05, -4747.93, -4747.82, -4747.7, -4747.58, -4747.47, -4747.35, -4747.23, -4747.12, -4747.0, -4746.88, -4746.77, -4746.65, -4746.54, -4746.42, -4746.31, -4746.19, -4746.08, -4745.97, -4745.85, -4745.74, -4745.62, -4745.51, -4745.4, -4745.29, -4745.17, -4745.06, -4744.95, -4744.84, -4744.73, -4744.62, -4744.5, -4744.39, -4744.28, -4744.17, -4744.06, -4743.95, -4743.84, -4743.73, -4743.62, -4743.52, -4743.41, -4743.3, -4743.19, -4743.08, -4742.97, -4742.87, -4742.76, -4742.65, -4742.54, -4742.44, -4742.33, -4742.22, -4742.12, -4742.01, -4741.9, -4741.8, -4741.69, -4741.59, -4741.48, -4741.38, -4741.27, -4741.17, -4741.06, -4740.96, -4740.86, -4740.75, -4740.65, -4740.55, -4740.44, -4740.34, -4740.24, -4740.13, -4740.03, -4739.93, -4739.83, -4739.72, -4739.62, -4739.52, -4739.42, -4739.32, -4739.22, -4739.12, -4739.02, -4738.92, -4738.82, -4738.72, -4738.62, -4738.52, -4738.42, -4738.32, -4738.22, -4738.12, -4738.02, -4737.92, -4737.82, -4737.72, -4737.63, -4737.53, -4737.43, -4737.33, -4737.24, -4737.14, -4737.04, -4736.94, -4736.85, -4736.75, -4736.65, -4736.56, -4736.46, -4736.37, -4736.27, -4736.17, -4736.08, -4735.98, -4735.89, -4735.79, -4735.7, -4735.6, -4735.51, -4735.41, -4735.32, -4735.23, -4735.13, -4735.04, -4734.95, -4734.85, -4734.76, -4734.67, -4734.57, -4734.48, -4734.39, -4734.29, -4734.2, -4734.11, -4734.02, -4733.93, -4733.83, -4733.74, -4733.65, -4733.56, -4733.47, -4733.38, -4733.29, -4733.2, -4733.11, -4733.01, -4732.92, -4732.83, -4732.74, -4732.65, -4732.56, -4732.48, -4732.39, -4732.3, -4732.21, -4732.12, -4732.03, -4731.94, -4731.85, -4731.76, -4731.67, -4731.59, -4731.5, -4731.41, -4731.32, -4731.24, -4731.15, -4731.06, -4730.97, -4730.89, -4730.8, -4730.71, -4730.63, -4730.54, -4730.45, -4730.37, -4730.28, -4730.19, -4730.11, -4730.02, -4729.94, -4729.85, -4729.77, -4729.68, -4729.6, -4729.51, -4729.43, -4729.34, -4729.26, -4729.17, -4729.09, -4729.0, -4728.92, -4728.83, -4728.75, -4728.67, -4728.58, -4728.5, -4728.42, -4728.33, -4728.25, -4728.17, -4728.08, -4728.0, -4727.92, -4727.84, -4727.75, -4727.67, -4727.59, -4727.51, -4727.42, -4727.34, -4727.26, -4727.18, -4727.1, -4727.02, -4726.94, -4726.85, -4726.77, -4726.69, -4726.61, -4726.53, -4726.45, -4726.37, -4726.29, -4726.21, -4726.13, -4726.05, -4725.97, -4725.89, -4725.81, -4725.73, -4725.65, -4725.57, -4725.49, -4725.41, -4725.33, -4725.25, -4725.18, -4725.1, -4725.02, -4724.94, -4724.86, -4724.78, -4724.71, -4724.63, -4724.55, -4724.47, -4724.39, -4724.32, -4724.24, -4724.16, -4724.08, -4724.01, -4723.93, -4723.85, -4723.78, -4723.7, -4723.62, -4723.55, -4723.47, -4723.39, -4723.32, -4723.24, -4723.16, -4723.09, -4723.01, -4722.94, -4722.86, -4722.79, -4722.71, -4722.63, -4722.56, -4722.48, -4722.41, -4722.33, -4722.26, -4722.18, -4722.11, -4722.04, -4721.96, -4721.89, -4721.81, -4721.74, -4721.66, -4721.59, -4721.52, -4721.44, -4721.37, -4721.29, -4721.22, -4721.15, -4721.07, -4721.0, -4720.93, -4720.85, -4720.78, -4720.71, -4720.64, -4720.56, -4720.49, -4720.42, -4720.35, -4720.27, -4720.2, -4720.13, -4720.06, -4719.99, -4719.91, -4719.84, -4719.77, -4719.7, -4719.63, -4719.56, -4719.48, -4719.41, -4719.34, -4719.27, -4719.2, -4719.13, -4719.06, -4718.99, -4718.92, -4718.85, -4718.78, -4718.71, -4718.63, -4718.56, -4718.49, -4718.42, -4718.35, -4718.28, -4718.22, -4718.15, -4718.08, -4718.01, -4717.94, -4717.87, -4717.8, -4717.73, -4717.66, -4717.59, -4717.52, -4717.45, -4717.38, -4717.32, -4717.25, -4717.18, -4717.11, -4717.04, -4716.97, -4716.91, -4716.84, -4716.77, -4716.7, -4716.63, -4716.57, -4716.5, -4716.43, -4716.36, -4716.3, -4716.23, -4716.16, -4716.09, -4716.03, -4715.96, -4715.89, -4715.83, -4715.76, -4715.69, -4715.62, -4715.56, -4715.49, -4715.43, -4715.36, -4715.29, -4715.23, -4715.16, -4715.09, -4715.03, -4714.96, -4714.9, -4714.83, -4714.77, -4714.7, -4714.63, -4714.57, -4714.5, -4714.44, -4714.37, -4714.31, -4714.24, -4714.18, -4714.11, -4714.05, -4713.98, -4713.92, -4713.85, -4713.79, -4713.72, -4713.66, -4713.6, -4713.53, -4713.47, -4713.4, -4713.34, -4713.27, -4713.21, -4713.15, -4713.08, -4713.02, -4712.96, -4712.89, -4712.83, -4712.77, -4712.7, -4712.64, -4712.58, -4712.51, -4712.45, -4712.39, -4712.32, -4712.26, -4712.2, -4712.14, -4712.07, -4712.01, -4711.95, -4711.88, -4711.82, -4711.76, -4711.7, -4711.64, -4711.57, -4711.51, -4711.45, -4711.39, -4711.33, -4711.26, -4711.2, -4711.14, -4711.08, -4711.02, -4710.96, -4710.89, -4710.83, -4710.77, -4710.71, -4710.65, -4710.59, -4710.53, -4710.47, -4710.41, -4710.35, -4710.28, -4710.22, -4710.16, -4710.1, -4710.04, -4709.98, -4709.92, -4709.86, -4709.8, -4709.74, -4709.68, -4709.62, -4709.56, -4709.5, -4709.44, -4709.38, -4709.32, -4709.26, -4709.2, -4709.14, -4709.08, -4709.02, -4708.96, -4708.91, -4708.85, -4708.79, -4708.73, -4708.67, -4708.61, -4708.55, -4708.49, -4708.43, -4708.37, -4708.32, -4708.26, -4708.2, -4708.14, -4708.08, -4708.02, -4707.96, -4707.91, -4707.85, -4707.79, -4707.73, -4707.67, -4707.62, -4707.56, -4707.5, -4707.44, -4707.39, -4707.33, -4707.27, -4707.21, -4707.15, -4707.1, -4707.04, -4706.98, -4706.93, -4706.87, -4706.81, -4706.75, -4706.7, -4706.64, -4706.58, -4706.53, -4706.47, -4706.41, -4706.36, -4706.3, -4706.24, -4706.19, -4706.13, -4706.07, -4706.02, -4705.96, -4705.9, -4705.85, -4705.79, -4705.74, -4705.68, -4705.62, -4705.57, -4705.51, -4705.46, -4705.4, -4705.35, -4705.29, -4705"
     ]
    },
    {
     "data": {
      "image/png": "[encoded data removed]",
      "text/plain": [
       "Figure(PyObject <Figure size 640x480 with 1 Axes>)"
      ]
     },
     "metadata": {},
     "output_type": "display_data"
    },
    {
     "name": "stdout",
     "output_type": "stream",
     "text": [
      ".23, -4705.18, -4705.12, -4705.07, -4705.01, -4704.96, -4704.9, -4704.85, -4704.79, -4704.74, -4704.68, -4704.63, -4704.57, -4704.52, -4704.46, -4704.41, -4704.35, -4704.3, -4704.24]"
     ]
    }
   ],
   "source": [
    "# Do Standard Logistic Regresssion\n",
    "\n",
    "global theta=zeros(784)\n",
    "learning_rate=0.2\n",
    "Nloops=1000\n",
    "LL=zeros(Nloops)\n",
    "# ctilde=zeros(Int,size(c))\n",
    "(ctilde, xtilde, x_pixel)=spread_divergence(c,x,1,0,1,true)\n",
    "\n",
    "@showprogress 1 \"Standard training\"  for loop=1:Nloops \n",
    "    grad=zeros(784)\n",
    "    for n=1:Ntrain\n",
    "        grad=grad + grad_theta(theta,ctilde[n],x[:,n])\n",
    "    end\n",
    "    global theta = theta+learning_rate*grad/Ntrain\n",
    "    LL[loop]=loglik(1,theta,ctilde,x)\n",
    "end\n",
    "\n",
    "plot(LL)\n",
    "\n",
    "# check training data accuracy\n",
    "\n",
    "cpred=zeros(Int,Ntrain)\n",
    "for n=1:Ntrain\n",
    "    if sigmoid(sum(theta.*x[:,n])) >0.5\n",
    "        cpred[n]=1\n",
    "    end    \n",
    "end\n",
    "\n",
    "flip_accuracy = mean(cpred.==ctilde)\n",
    "println(\"accuracy on noised training set= $(flip_accuracy)\")\n",
    "\n",
    "train_accuracy = mean(cpred.==c)\n",
    "println(\"accuracy on denoised training set = $(train_accuracy)\")\n",
    "\n",
    "ctestpred=zeros(Int,Ntest)\n",
    "for n=1:Ntest\n",
    "    if sigmoid(sum(theta.*xtest[:,n])) >0.5\n",
    "        ctestpred[n]=1\n",
    "    end    \n",
    "end\n",
    "\n",
    "test_accuracy = mean(ctestpred.==ctest)\n",
    "println(\"test accuracy = $(test_accuracy)\")\n",
    "\n",
    "print(LL)"
   ]
  },
  {
   "cell_type": "markdown",
   "metadata": {},
   "source": [
    "## flip=0.2, Laplace noise, no pixelization"
   ]
  },
  {
   "cell_type": "markdown",
   "metadata": {},
   "source": [
    "In Spread Divergence paper, for S=2 importance sampling, Gaussian noise variance = 0.1, test accuracy is 0.944\n",
    "Here, with standard logistic regression, \n",
    "\n",
    "We have two choices, whether place [0,1] bounds on noised image: m=4,b=1 for all following cases"
   ]
  },
  {
   "cell_type": "markdown",
   "metadata": {},
   "source": [
    "With [0,1] bounds, \n",
    "\n",
    "e = 10, with low Laplace noise variance = 2*(m/b^2*eplison)^2=2*(4/10)^2=0.32, test accuracy is 0.946: higher noise variance, simpler method, yet slightli higher test accuracy. It makes the proposed method in original paper not very useful. I will try to improve the Bayesian method to beat this benchmark.\n",
    "e = 3, test accuracy = 0.931\n",
    "e = 2, test accuracy = 0.924\n",
    "e = 1, even with high Laplace noise variance = 2*(m/b^2*eplison)^2=2*(4)^2=32, test accuracy is still as high as 0.898\n",
    "e = 0.5, test accuracy = 0.802"
   ]
  },
  {
   "cell_type": "markdown",
   "metadata": {},
   "source": [
    "Without [0,1] bounds, \n",
    "\n",
    "e = 1, regression fail to learn on noise variance = 32 (test accuracy = 0.5)\n",
    "e = 2, test accuracy = 0.53\n",
    "e = 3,test accuracy = 0.929\n",
    "e = 10,noise variance = 0.32, test accuracy = 0.943"
   ]
  },
  {
   "cell_type": "code",
   "execution_count": 122,
   "metadata": {},
   "outputs": [
    {
     "name": "stderr",
     "output_type": "stream",
     "text": [
      "\u001b[32mStandard training100%|██████████████████████████████████| Time: 0:01:04\u001b[39m\n"
     ]
    },
    {
     "name": "stdout",
     "output_type": "stream",
     "text": [
      "accuracy on noised training set = 0.5311111111111111\n",
      "train accuracy = 0.8025555555555556\n",
      "test accuracy = 0.8022222222222222\n",
      "[-6236.34, -6686.89, -22325.7, -56699.6, -24212.7, -55119.3, -25727.1, -53749.7, -27037.2, -52512.8, -28218.4, -51366.3, -29311.5, -50284.6, -30341.3, -49251.2, -31323.8, -48254.7, -32270.1, -47287.2, -33188.0, -46342.6, -34083.2, -45416.8, -34959.8, -44506.4, -35821.1, -43609.0, -36669.4, -42722.8, -37506.3, -41846.5, -38333.1, -40979.1, -39150.6, -40120.1, -39959.3, -39269.2, -40759.2, -38426.6, -41550.2, -37592.4, -42331.8, -36767.4, -43103.3, -35952.2, -43863.6, -35148.2, -44611.4, -34356.6, -45345.1, -33579.3, -46062.7, -32818.1, -46761.9, -32075.6, -47440.2, -31354.1, -48094.8, -30656.7, -48722.7, -29986.4, -49320.9, -29346.2, -49886.2, -28739.4, -50415.7, -28169.0, -50906.6, -27637.6, -51356.8, -27147.4, -51764.7, -26700.0, -52129.3, -26296.2, -52450.8, -25936.1, -52729.9, -25618.7, -52968.2, -25342.5, -53167.9, -25105.0, -53331.8, -24903.5, -53463.2, -24734.8, -53565.3, -24595.5, -53641.4, -24482.2, -53694.8, -24391.8, -53728.6, -24321.0, -53745.5, -24267.2, -53748.0, -24227.8, -53738.2, -24200.7, -53718.1, -24184.0, -53689.3, -24175.9, -53653.2, -24175.3, -53610.8, -24180.9, -53563.3, -24191.7, -53511.2, -24207.1, -53455.4, -24226.2, -53396.4, -24248.5, -53334.5, -24273.7, -53270.2, -24301.4, -53203.8, -24331.2, -53135.5, -24362.9, -53065.5, -24396.3, -52993.9, -24431.2, -52921.0, -24467.6, -52846.8, -24505.3, -52771.4, -24544.2, -52694.8, -24584.3, -52617.2, -24625.4, -52538.6, -24667.6, -52459.0, -24710.8, -52378.4, -24754.9, -52296.9, -24799.9, -52214.6, -24845.9, -52131.3, -24892.8, -52047.2, -24940.5, -51962.3, -24989.1, -51876.6, -25038.5, -51790.0, -25088.8, -51702.6, -25139.9, -51614.5, -25191.8, -51525.5, -25244.4, -51435.8, -25297.9, -51345.3, -25352.2, -51254.1, -25407.2, -51162.1, -25463.0, -51069.3, -25519.5, -50975.9, -25576.8, -50881.7, -25634.9, -50786.8, -25693.6, -50691.1, -25753.1, -50594.8, -25813.4, -50497.8, -25874.3, -50400.0, -25935.9, -50301.6, -25998.2, -50202.6, -26061.2, -50102.8, -26124.9, -50002.4, -26189.3, -49901.4, -26254.3, -49799.7, -26320.0, -49697.3, -26386.3, -49594.3, -26453.2, -49490.8, -26520.8, -49386.6, -26589.0, -49281.8, -26657.8, -49176.4, -26727.2, -49070.4, -26797.2, -48963.9, -26867.8, -48856.7, -26938.9, -48749.1, -27010.6, -48640.8, -27082.9, -48532.1, -27155.7, -48422.8, -27229.0, -48313.0, -27302.8, -48202.7, -27377.2, -48091.9, -27452.0, -47980.6, -27527.3, -47868.8, -27603.1, -47756.5, -27679.3, -47643.8, -27756.0, -47530.7, -27833.2, -47417.1, -27910.7, -47303.1, -27988.7, -47188.7, -28067.0, -47073.9, -28145.7, -46958.7, -28224.8, -46843.2, -28304.3, -46727.3, -28384.0, -46611.0, -28464.1, -46494.5, -28544.5, -46377.6, -28625.1, -46260.4, -28706.0, -46143.0, -28787.2, -46025.3, -28868.6, -45907.3, -28950.2, -45789.2, -29031.9, -45670.8, -29113.8, -45552.2, -29195.9, -45433.5, -29278.1, -45314.6, -29360.4, -45195.6, -29442.7, -45076.4, -29525.1, -44957.2, -29607.5, -44838.0, -29689.8, -44718.7, -29772.2, -44599.3, -29854.5, -44480.0, -29936.6, -44360.7, -30018.7, -44241.5, -30100.6, -44122.4, -30182.3, -44003.4, -30263.8, -43884.5, -30345.0, -43765.8, -30426.0, -43647.3, -30506.6, -43529.0, -30586.9, -43411.0, -30666.8, -43293.2, -30746.3, -43175.8, -30825.4, -43058.7, -30903.9, -42942.0, -30982.0, -42825.7, -31059.4, -42709.8, -31136.4, -42594.4, -31212.6, -42479.4, -31288.3, -42365.0, -31363.2, -42251.1, -31437.4, -42137.8, -31510.9, -42025.1, -31583.6, -41913.0, -31655.5, -41801.5, -31726.5, -41690.8, -31796.6, -41580.7, -31865.9, -41471.4, -31934.2, -41362.9, -32001.5, -41255.1, -32067.8, -41148.1, -32133.1, -41042.0, -32197.3, -40936.7, -32260.4, -40832.3, -32322.4, -40728.8, -32383.3, -40626.3, -32443.0, -40524.6, -32501.5, -40424.0, -32558.8, -40324.3, -32614.9, -40225.6, -32669.7, -40127.9, -32723.2, -40031.2, -32775.5, -39935.6, -32826.4, -39841.0, -32876.0, -39747.5, -32924.3, -39655.0, -32971.2, -39563.6, -33016.8, -39473.3, -33061.0, -39384.0, -33103.9, -39295.8, -33145.4, -39208.8, -33185.6, -39122.7, -33224.3, -39037.8, -33261.7, -38953.9, -33297.8, -38871.1, -33332.5, -38789.3, -33365.9, -38708.6, -33397.9, -38628.9, -33428.7, -38550.2, -33458.1, -38472.6, -33486.2, -38395.9, -33513.1, -38320.2, -33538.6, -38245.5, -33563.0, -38171.7, -33586.1, -38098.9, -33608.0, -38027.0, -33628.7, -37956.0, -33648.2, -37885.8, -33666.5, -37816.6, -33683.8, -37748.1, -33699.9, -37680.5, -33714.9, -37613.8, -33728.9, -37547.8, -33741.8, -37482.6, -33753.6, -37418.1, -33764.5, -37354.4, -33774.3, -37291.4, -33783.2, -37229.1, -33791.2, -37167.5, -33798.2, -37106.6, -33804.3, -37046.3, -33809.6, -36986.7, -33813.9, -36927.6, -33817.4, -36869.2, -33820.1, -36811.4, -33822.0, -36754.1, -33823.1, -36697.5, -33823.5, -36641.3, -33823.0, -36585.7, -33821.9, -36530.6, -33820.0, -36476.0, -33817.5, -36422.0, -33814.2, -36368.3, -33810.3, -36315.2, -33805.8, -36262.5, -33800.6, -36210.3, -33794.8, -36158.5, -33788.4, -36107.2, -33781.4, -36056.2, -33773.9, -36005.7, -33765.8, -35955.6, -33757.1, -35905.8, -33748.0, -35856.5, -33738.3, -35807.5, -33728.1, -35758.9, -33717.4, -35710.6, -33706.2, -35662.7, -33694.6, -35615.2, -33682.5, -35567.9, -33670.0, -35521.1, -33657.0, -35474.5, -33643.6, -35428.3, -33629.8, -35382.4, -33615.6, -35336.8, -33601.1, -35291.5, -33586.1, -35246.5, -33570.7, -35201.8, -33555.0, -35157.4, -33539.0, -35113.3, -33522.6, -35069.5, -33505.9, -35025.9, -33488.8, -34982.7, -33471.4, -34939.7, -33453.8, -34896.9, -33435.8, -34854.5, -33417.5, -34812.3, -33399.0, -34770.3, -33380.2, -34728.6, -33361.1, -34687.2, -33341.7, -34646.0, -33322.1, -34605.0, -33302.3, -34564.3, -33282.2, -34523.8, -33262.0, -34483.6, -33241.4, -34443.6, -33220.7, -34403.8, -33199.8, -34364.2, -33178.7, -34324.9, -33157.4, -34285.8, -33135.9, -34246.9, -33114.2, -34208.2, -33092.3, -34169.8, -33070.3, -34131.5, -33048.2, -34093.5, -33025.9, -34055.7, -33003.4, -34018.1, -32980.8, -33980.7, -32958.1, -33943.4, -32935.3, -33906.4, -32912.3, -33869.6, -32889.3, -33833.0, -32866.1, -33796.6, -32842.8, -33760.3, -32819.5, -33724.3, -32796.0, -33688.4, -32772.5, -33652.8, -32748.9, -33617.3, -32725.2, -33582.0, -32701.5, -33546.9, -32677.7, -33512.0, -32653.8, -33477.3, -32629.9, -33442.7, -32606.0, -33408.3, -32582.0, -33374.1, -32557.9, -33340.1, -32533.9, -33306.2, -32509.8, -33272.6, -32485.7, -33239.1, -32461.6, -33205.8, -32437.4, -33172.6, -32413.3, -33139.6, -32389.1, -33106.8, -32365.0, -33074.2, -32340.8, -33041.7, -32316.7, -33009.4, -32292.6, -32977.3, -32268.4, -32945.3, -32244.3, -32913.5, -32220.3, -32881.9, -32196.2, -32850.5, -32172.2, -32819.2, -32148.2, -32788.1, -32124.2, -32757.1, -32100.3, -32726.3, -32076.5, -32695.7, -32052.6, -32665.2, -32028.8, -32634.9, -32005.1, -32604.8, -31981.4, -32574.8, -31957.8, -32545.0, -31934.2, -32515.4, -31910.7, -32485.9, -31887.2, -32456.6, -31863.8, -32427.4, -31840.5, -32398.4, -31817.3, -32369.6, -31794.1, -32340.9, -31771.0, -32312.4, -31747.9, -32284.1, -31725.0, -32255.9, -31702.1, -32227.8, -31679.3, -32200.0, -31656.6, -32172.3, -31634.0, -32144.7, -31611.4, -32117.3, -31589.0, -32090.1, -31566.6, -32063.1, -31544.3, -32036.2, -31522.1, -32009.4, -31500.0, -31982.8, -31478.0, -31956.4, -31456.1, -31930.1, -31434.3, -31904.0, -31412.6, -31878.1, -31391.0, -31852.3, -31369.5, -31826.7, -31348.1, -31801.2, -31326.8, -31775.9, -31305.6, -31750.7, -31284.5, -31725.7, -31263.5, -31700.9, -31242.7, -31676.2, -31221.9, -31651.6, -31201.2, -31627.3, -31180.7, -31603.0, -31160.2, -31579.0, -31139.9, -31555.1, -31119.6, -31531.3, -31099.5, -31507.7, -31079.5, -31484.3, -31059.6, -31461.0, -31039.8, -31437.8, -31020.2, -31414.8, -31000.6, -31392.0, -30981.2, -31369.3, -30961.8, -31346.8, -30942.6, -31324.4, -30923.5, -31302.2, -30904.5, -31280.1, -30885.7, -31258.2, -30866.9, -31236.5, -30848.3, -31214.8, -30829.8, -31193.4, -30811.4, -31172.0, -30793.1, -31150.9, -30774.9, -31129.8, -30756.8, -31109.0, -30738.9, -31088.2, -30721.1, -31067.7, -30703.3, -31047.2, -30685.7, -31026.9, -30668.3, -31006.8, -30650.9, -30986.8, -30633.7, -30966.9, -30616.5, -30947.2, -30599.5, -30927.6, -30582.6, -30908.2, -30565.8, -30888.9, -30549.2, -30869.8, -30532.6, -30850.8, -30516.2, -30831.9, -30499.8, -30813.2, -30483.6, -30794.6, -30467.5, -30776.1, -30451.5, -30757.8, -30435.7, -30739.6, -30419.9, -30721.6, -30404.3, -30703.7, -30388.7, -30685.9, -30373.3, -30668.3, -30358.0, -30650.8, -30342.8, -30633.4, -30327.7, -30616.2, -30312.8, -30599.1, -30297.9, -30582.1, -30283.1, -30565.3, -30268.5, -30548.6, -30254.0, -30532.0, -30239.5, -30515.6, -30225.2, -30499.2, -30211.0, -30483.0, -30196.9, -30467.0, -30182.9, -30451.0, -30169.0, -30435.2, -30155.2, -30419.5, -30141.5, -30403.9, -30128.0, -30388.5, -30114.5, -30373.2, -30101.1, -30358.0, -30087.9, -30342.9, -30074.7, -30327.9, -30061.6, -30313.1, -30048.7, -30298.3, -30035.8, -30283.7, -30023.1, -30269.2, -30010.4, -30254.9, -29997.9, -30240.6, -29985.4, -30226.5, -29973.0, -30212.4, -29960.8, -30198.5, -29948.6, -30184.7, -29936.5, -30171.0, -29924.6, -30157.4, -29912.7, -30143.9, -29900.9, -30130.6, -29889.2, -30117.3, -29877.6, -30104.2, -29866.1, -30091.1, -29854.7, -30078.2, -29843.4, -30065.4, -29832.2, -30052.7, -29821.1, -30040.0, -29810.0, -30027.5, -29799.1, -30015.1, -29788.2, -30002.8, -29777.4, -29990.6, -29766.7, -29978.5, -29756.1, -29966.5, -29745.6, -29954.6, -29735.2, -29942.8, -29724.8, -29931.1, -29714.6, -29919.5, -29704.4, -29907.9, -29694.3, -29896.5, -29684.3, -29885.2, -29674.4, -29874.0, -29664.5, -29862.8, -29654."
     ]
    },
    {
     "data": {
      "image/png": "[encoded data removed]",
      "text/plain": [
       "Figure(PyObject <Figure size 640x480 with 1 Axes>)"
      ]
     },
     "metadata": {},
     "output_type": "display_data"
    },
    {
     "name": "stdout",
     "output_type": "stream",
     "text": [
      "8, -29851.8, -29645.1, -29840.8, -29635.5, -29829.9, -29626.0, -29819.2, -29616.5, -29808.5, -29607.2, -29797.9, -29597.9, -29787.4, -29588.7, -29777.0, -29579.5, -29766.6, -29570.5, -29756.4, -29561.5, -29746.2, -29552.6, -29736.1, -29543.7, -29726.2, -29535.0, -29716.2, -29526.3, -29706.4, -29517.7, -29696.7, -29509.1, -29687.0, -29500.7, -29677.4, -29492.3, -29667.9, -29483.9, -29658.5, -29475.7, -29649.2, -29467.5, -29639.9, -29459.3, -29630.7, -29451.3, -29621.6, -29443.3, -29612.6, -29435.4, -29603.6, -29427.5, -29594.7, -29419.7]"
     ]
    }
   ],
   "source": [
    "# Do Standard Logistic Regresssion\n",
    "\n",
    "global theta=zeros(784)\n",
    "learning_rate=0.2\n",
    "Nloops=1000\n",
    "LL=zeros(Nloops)\n",
    "b=1\n",
    "(ctilde, xtilde, x_pixel)=spread_divergence(c,x,b,4,0.5,true)\n",
    "\n",
    "\n",
    "\n",
    "@showprogress 1 \"Standard training\"  for loop=1:Nloops \n",
    "    grad=zeros(784)\n",
    "    for n=1:Ntrain\n",
    "        grad=grad + grad_theta(theta,ctilde[n],xtilde[:,n])\n",
    "    end\n",
    "    global theta = theta+learning_rate*grad/Ntrain\n",
    "    LL[loop]=loglik(b,theta,ctilde,xtilde)\n",
    "end\n",
    "\n",
    "plot(LL)\n",
    "\n",
    "# check training data accuracy\n",
    "\n",
    "cpred=zeros(Int,Ntrain)\n",
    "for n=1:Ntrain\n",
    "    if sigmoid(sum(theta.*xtilde[:,n])) >0.5\n",
    "        cpred[n]=1\n",
    "    end    \n",
    "end\n",
    "\n",
    "flip_accuracy = mean(cpred.==ctilde)\n",
    "println(\"accuracy on noised training set = $(flip_accuracy)\")\n",
    "\n",
    "ctrainpred=zeros(Int,Ntrain)\n",
    "for n=1:Ntrain\n",
    "    if sigmoid(sum(theta.*x[:,n])) >0.5\n",
    "        ctrainpred[n]=1\n",
    "    end    \n",
    "end\n",
    "\n",
    "train_accuracy = mean(ctrainpred.==c)\n",
    "println(\"train accuracy = $(train_accuracy)\")\n",
    "\n",
    "ctestpred=zeros(Int,Ntest)\n",
    "for n=1:Ntest\n",
    "    if sigmoid(sum(theta.*xtest[:,n])) >0.5\n",
    "        ctestpred[n]=1\n",
    "    end    \n",
    "end\n",
    "\n",
    "test_accuracy = mean(ctestpred.==ctest)\n",
    "println(\"test accuracy = $(test_accuracy)\")\n",
    "\n",
    "print(LL)"
   ]
  },
  {
   "cell_type": "code",
   "execution_count": 123,
   "metadata": {},
   "outputs": [
    {
     "name": "stdout",
     "output_type": "stream",
     "text": [
      "[0.147117, 1.0, 0.0, 1.0, 1.0, 0.176969, 1.0, 0.0, 1.0, 0.0, 0.0, 1.0, 0.0, 1.0, 0.0, 0.38802, 1.0, 0.0, 1.0, 0.0, 0.0, 1.0, 1.0, 1.0, 0.0, 1.0, 0.0, 0.0, 0.0, 1.0, 1.0, 1.0, 1.0, 0.0, 1.0, 0.0, 0.0, 1.0, 0.0, 0.0, 0.0, 0.0, 0.0, 1.0, 0.0, 1.0, 0.0, 0.0, 0.0, 0.0, 1.0, 0.825642, 1.0, 0.0, 0.0, 1.0, 0.0, 0.0, 1.0, 0.0, 1.0, 0.0, 1.0, 0.0, 1.0, 1.0, 1.0, 0.0, 1.0, 1.0, 0.0, 1.0, 1.0, 1.0, 1.0, 0.0, 0.0, 0.0, 0.0, 0.0, 0.0, 0.0, 0.0, 0.0, 0.0, 1.0, 0.0, 1.0, 0.0, 1.0, 0.0, 0.0, 1.0, 0.0, 1.0, 0.0, 0.517253, 1.0, 0.0, 0.0, 1.0, 1.0, 1.0, 1.0, 0.0, 1.0, 1.0, 1.0, 1.0, 1.0, 0.0, 1.0, 0.0, 0.308818, 1.0, 1.0, 0.169554, 1.0, 1.0, 1.0, 0.0, 1.0, 0.0, 0.0, 1.0, 0.0, 1.0, 0.0, 1.0, 0.0, 0.375336, 1.0, 0.0, 0.0, 0.0, 1.0, 1.0, 1.0, 0.0, 1.0, 0.0, 0.0, 1.0, 1.0, 0.872857, 0.707717, 0.0, 1.0, 0.0, 1.0, 1.0, 1.0, 0.0, 1.0, 1.0, 0.0, 1.0, 1.0, 0.0, 1.0, 0.0, 1.0, 0.17266, 1.0, 0.0, 0.0, 0.0, 1.0, 1.0, 0.0, 0.123777, 0.0, 0.0, 0.0, 0.0, 0.0, 0.0, 1.0, 1.0, 0.0, 1.0, 1.0, 0.0, 1.0, 1.0, 1.0, 0.0, 1.0, 0.0, 0.0, 0.0, 0.0, 1.0, 0.0, 1.0, 1.0, 0.0, 0.0, 1.0, 1.0, 1.0, 0.0, 0.0, 0.0, 0.0, 1.0, 0.0, 0.0, 0.0, 0.0, 0.0, 0.0, 0.0, 0.0, 0.0, 0.0, 0.0, 0.0, 1.0, 0.0, 0.0, 0.0, 1.0, 0.0, 0.0, 0.0, 0.0, 0.0, 1.0, 1.0, 0.0, 0.0, 1.0, 0.0877599, 1.0, 0.0, 1.0, 1.0, 1.0, 0.214358, 1.0, 1.0, 1.0, 0.0, 1.0, 1.0, 0.0, 1.0, 0.0, 0.0, 0.0, 1.0, 1.0, 0.0, 0.0, 0.0, 0.0, 1.0, 1.0, 0.0, 0.0, 0.0, 1.0, 1.0, 0.0, 1.0, 0.0, 1.0, 0.0, 1.0, 0.268458, 0.0, 0.0, 1.0, 0.41263, 0.0, 0.0, 0.0, 0.0, 1.0, 1.0, 0.0, 1.0, 0.0, 1.0, 1.0, 1.0, 1.0, 0.0, 0.0, 1.0, 1.0, 1.0, 1.0, 0.0, 0.0, 1.0, 0.0, 1.0, 1.0, 1.0, 0.124841, 1.0, 0.26104, 0.0, 0.0, 0.0, 0.0, 0.0, 1.0, 1.0, 0.0, 1.0, 0.0, 1.0, 0.0, 0.0, 1.0, 1.0, 0.0, 0.0, 1.0, 0.0, 0.0, 0.0, 0.0, 1.0, 1.0, 0.0, 0.0, 1.0, 0.0, 0.0, 1.0, 0.0, 1.0, 1.0, 0.0, 1.0, 0.0, 0.0, 1.0, 0.0, 0.0, 1.0, 1.0, 0.0, 1.0, 1.0, 1.0, 1.0, 1.0, 1.0, 0.0, 1.0, 0.0, 1.0, 0.0, 1.0, 0.0, 0.168891, 0.0, 0.0, 0.812031, 0.0, 1.0, 0.0, 0.315476, 0.0, 0.0, 0.938088, 1.0, 0.0, 1.0, 1.0, 1.0, 1.0, 0.0, 0.0, 0.0, 1.0, 1.0, 0.0, 1.0, 1.0, 0.0, 0.0, 1.0, 1.0, 0.0, 0.0, 1.0, 1.0, 0.0, 0.0, 0.0, 0.0, 1.0, 1.0, 0.0, 1.0, 0.0, 0.16983, 1.0, 0.0, 0.0, 0.0, 1.0, 1.0, 0.0, 1.0, 1.0, 1.0, 1.0, 1.0, 1.0, 0.0, 1.0, 0.0, 0.0, 0.0, 1.0, 0.0, 0.0, 0.0, 0.0, 0.0, 0.0, 1.0, 1.0, 1.0, 1.0, 1.0, 1.0, 1.0, 0.0, 1.0, 0.0, 0.0, 0.0, 1.0, 0.0, 1.0, 0.0, 0.0, 0.0, 1.0, 0.217225, 1.0, 0.0, 0.0, 1.0, 1.0, 1.0, 1.0, 0.0, 1.0, 0.0, 0.0, 0.0, 1.0, 0.0, 1.0, 0.0, 1.0, 1.0, 0.0, 1.0, 0.168643, 0.0, 1.0, 1.0, 0.0, 1.0, 0.0, 0.0, 1.0, 0.0, 1.0, 1.0, 1.0, 0.0, 0.0, 0.0, 1.0, 1.0, 0.0, 1.0, 1.0, 1.0, 1.0, 1.0, 1.0, 0.0, 0.451906, 0.0, 0.496916, 0.0933127, 0.0, 0.0, 1.0, 0.0, 0.0, 0.0, 1.0, 0.638461, 1.0, 0.0, 1.0, 1.0, 0.0, 0.0, 1.0, 0.0, 1.0, 0.0, 0.0, 0.0, 1.0, 1.0, 0.0, 1.0, 1.0, 1.0, 0.0, 0.0, 0.0, 1.0, 0.0, 0.609027, 1.0, 0.0, 0.0, 0.0, 0.0, 0.0, 0.0, 0.0, 0.0, 1.0, 0.876169, 0.0, 0.0, 1.0, 0.0, 0.0579167, 1.0, 1.0, 0.0, 0.865418, 0.0, 0.0, 0.0, 0.0, 1.0, 0.0, 1.0, 0.0, 1.0, 1.0, 1.0, 0.0, 1.0, 1.0, 0.0, 0.0, 0.0, 0.0, 1.0, 0.145432, 1.0, 1.0, 0.0, 1.0, 0.0, 0.0, 0.0, 0.0, 1.0, 1.0, 1.0, 0.0, 1.0, 0.0, 1.0, 1.0, 0.0, 0.0, 1.0, 0.0, 1.0, 0.0, 0.0, 0.0, 0.0, 1.0, 0.0, 0.0, 0.0, 0.0, 1.0, 1.0, 0.0, 0.0, 0.0, 0.0, 0.0, 0.785425, 1.0, 0.0, 0.0, 1.0, 1.0, 1.0, 1.0, 1.0, 0.0, 1.0, 0.0, 1.0, 1.0, 1.0, 0.0, 0.817702, 0.036188, 1.0, 0.0, 1.0, 0.0, 1.0, 0.0, 0.0, 0.0, 1.0, 0.0, 0.0421327, 0.0, 1.0, 0.0, 1.0, 0.0, 0.190634, 0.0, 0.0, 0.0, 0.0, 0.0, 1.0, 0.0, 1.0, 1.0, 1.0, 0.0, 1.0, 1.0, 0.0, 1.0, 0.0, 0.0, 0.0, 1.0, 1.0, 1.0, 0.0, 1.0, 0.709824, 1.0, 1.0, 1.0, 1.0, 1.0, 1.0, 1.0, 0.0, 1.0, 0.0, 1.0, 0.0, 1.0, 1.0, 0.0, 0.0, 0.0, 1.0, 1.0, 0.0, 0.0, 1.0, 1.0, 1.0, 1.0, 0.727512, 0.0, 1.0, 1.0, 0.0, 1.0, 1.0, 1.0, 1.0, 1.0, 0.0, 0.0, 0.0, 0.0, 0.0, 1.0, 0.0, 1.0, 1.0, 0.0, 1.0, 0.0, 1.0, 0.0, 1.0, 0.0, 1.0, 1.0, 1.0, 0.0, 1.0, 0.0, 1.0, 0.0, 0.0, 1.0, 0.0, 1.0, 1.0, 1.0, 1.0, 1.0, 1.0, 0.0, 1.0, 1.0, 0.0, 0.0, 1.0, 0.0, 1.0, 1.0, 0.0, 1.0, 1.0, 0.0, 1.0, 0.0, 1.0, 0.226408, 0.0, 1.0, 0.967325, 1.0, 0.0, 0.0, 0.904775, 1.0, 1.0, 0.0, 1.0, 0.0, 1.0, 1.0, 1.0, 1.0, 0.0, 1.0, 1.0, 0.0, 1.0, 0.0, 0.0, 0.0, 1.0, 0.0, 1.0, 0.0, 1.0, 1.0, 0.847647, 1.0, 1.0]"
     ]
    }
   ],
   "source": [
    "print(xtilde[:,1])"
   ]
  },
  {
   "cell_type": "markdown",
   "metadata": {},
   "source": [
    "## flip=0.2, Laplace noise, pixelization"
   ]
  },
  {
   "cell_type": "code",
   "execution_count": null,
   "metadata": {},
   "outputs": [],
   "source": [
    "# Do Standard Logistic Regresssion\n",
    "\n",
    "global theta=zeros(784)\n",
    "learning_rate=0.2\n",
    "Nloops=1000\n",
    "LL=zeros(Nloops)\n",
    "b=1\n",
    "(ctilde, xtilde, x_pixel)=spread_divergence(c,x,b,4,10,true)\n",
    "\n",
    "@showprogress 1 \"Standard training\"  for loop=1:Nloops \n",
    "    grad=zeros(784)\n",
    "    for n=1:Ntrain\n",
    "        grad=grad + grad_theta(theta,ctilde[n],xtilde[:,n])\n",
    "    end\n",
    "    global theta = theta+learning_rate*grad/Ntrain\n",
    "    LL[loop]=loglik(b,theta,ctilde,xtilde)\n",
    "end\n",
    "\n",
    "plot(LL)\n",
    "\n",
    "# check training data accuracy\n",
    "\n",
    "cpred=zeros(Int,Ntrain)\n",
    "for n=1:Ntrain\n",
    "    if sigmoid(sum(theta.*xtilde[:,n])) >0.5\n",
    "        cpred[n]=1\n",
    "    end    \n",
    "end\n",
    "\n",
    "flip_accuracy = mean(cpred.==ctilde)\n",
    "println(\"accuracy on noised training set = $(flip_accuracy)\")\n",
    "\n",
    "ctrainpred=zeros(Int,Ntrain)\n",
    "for n=1:Ntrain\n",
    "    if sigmoid(sum(theta.*x[:,n])) >0.5\n",
    "        ctrainpred[n]=1\n",
    "    end    \n",
    "end\n",
    "\n",
    "train_accuracy = mean(cpred.==c)\n",
    "println(\"train accuracy = $(train_accuracy)\")\n",
    "\n",
    "ctestpred=zeros(Int,Ntest)\n",
    "for n=1:Ntest\n",
    "    if sigmoid(sum(theta.*xtest[:,n])) >0.5\n",
    "        ctestpred[n]=1\n",
    "    end    \n",
    "end\n",
    "\n",
    "test_accuracy = mean(ctestpred.==ctest)\n",
    "println(\"test accuracy = $(test_accuracy)\")\n",
    "\n",
    "print(LL)"
   ]
  },
  {
   "cell_type": "markdown",
   "metadata": {},
   "source": [
    "# Ising Model"
   ]
  },
  {
   "cell_type": "code",
   "execution_count": 55,
   "metadata": {},
   "outputs": [
    {
     "data": {
      "text/plain": [
       "8.32"
      ]
     },
     "execution_count": 55,
     "metadata": {},
     "output_type": "execute_result"
    }
   ],
   "source": [
    "round(8.315; digits=2)"
   ]
  },
  {
   "cell_type": "markdown",
   "metadata": {},
   "source": [
    "# Bayesian Logistic Regression"
   ]
  },
  {
   "cell_type": "code",
   "execution_count": 101,
   "metadata": {},
   "outputs": [
    {
     "name": "stdout",
     "output_type": "stream",
     "text": [
      "b = 1, epsilon = 1\n",
      "test accuracy = 0.5033333333333333\n",
      "loop=50 Apparent LL=-15751.5 Train LL=-5716.68 Test LL=-1145.01 Test Accuracy=0.503\n",
      "test accuracy = 0.6561111111111111\n",
      "loop=100 Apparent LL=-15532.73 Train LL=-4688.0 Test LL=-951.49 Test Accuracy=0.656\n",
      "test accuracy = 0.7555555555555555\n",
      "loop=150 Apparent LL=-15358.37 Train LL=-3999.65 Test LL=-822.81 Test Accuracy=0.756\n",
      "test accuracy = 0.8061111111111111\n",
      "loop=200 Apparent LL=-15193.3 Train LL=-3554.13 Test LL=-740.22 Test Accuracy=0.806\n",
      "test accuracy = 0.8288888888888889\n",
      "loop=250 Apparent LL=-15004.79 Train LL=-3270.29 Test LL=-688.3 Test Accuracy=0.829\n",
      "test accuracy = 0.8427777777777777\n",
      "loop=300 Apparent LL=-14774.15 Train LL=-3090.94 Test LL=-656.13 Test Accuracy=0.843\n",
      "test accuracy = 0.8444444444444444\n",
      "loop=350 Apparent LL=-14501.52 Train LL=-2978.36 Test LL=-636.49 Test Accuracy=0.844\n",
      "test accuracy = 0.8527777777777777\n",
      "loop=400 Apparent LL=-14200.86 Train LL=-2908.24 Test LL=-624.71 Test Accuracy=0.853\n",
      "test accuracy = 0.8588888888888889\n",
      "loop=450 Apparent LL=-13891.37 Train LL=-2865.03 Test LL=-617.84 Test Accuracy=0.859\n",
      "test accuracy = 0.8633333333333333\n",
      "loop=500 Apparent LL=-13590.95 Train LL=-2838.87 Test LL=-614.01 Test Accuracy=0.863\n",
      "test accuracy = 0.8638888888888889\n",
      "loop=550 Apparent LL=-13312.81 Train LL=-2823.59 Test LL=-612.09 Test Accuracy=0.864\n",
      "test accuracy = 0.8666666666666667\n",
      "loop=600 Apparent LL=-13064.72 Train LL=-2815.36 Test LL=-611.36 Test Accuracy=0.867\n",
      "test accuracy = 0.8672222222222222\n",
      "loop=650 Apparent LL=-12849.61 Train LL=-2811.77 Test LL=-611.42 Test Accuracy=0.867\n",
      "test accuracy = 0.8705555555555555\n",
      "loop=700 Apparent LL=-12666.94 Train LL=-2811.3 Test LL=-611.99 Test Accuracy=0.871\n",
      "test accuracy = 0.8711111111111111\n",
      "loop=750 Apparent LL=-12514.1 Train LL=-2812.96 Test LL=-612.9 Test Accuracy=0.871\n",
      "test accuracy = 0.8722222222222222\n",
      "loop=800 Apparent LL=-12387.42 Train LL=-2816.08 Test LL=-614.04 Test Accuracy=0.872\n",
      "test accuracy = 0.8727777777777778\n",
      "loop=850 Apparent LL=-12283.0 Train LL=-2820.21 Test LL=-615.34 Test Accuracy=0.873\n",
      "test accuracy = 0.8727777777777778\n",
      "loop=900 Apparent LL=-12197.11 Train LL=-2825.01 Test LL=-616.73 Test Accuracy=0.873\n",
      "test accuracy = 0.8722222222222222\n",
      "loop=950 Apparent LL=-12126.43 Train LL=-2830.26 Test LL=-618.18 Test Accuracy=0.872\n",
      "test accuracy = 0.8716666666666667\n",
      "loop=1000 Apparent LL=-12068.1 Train LL=-2835.76 Test LL=-619.65 Test Accuracy=0.872\n",
      "test accuracy = 0.8716666666666667\n",
      "loop=1050 Apparent LL=-12019.76 Train LL=-2841.4 Test LL=-621.12 Test Accuracy=0.872\n",
      "test accuracy = 0.8716666666666667\n",
      "loop=1100 Apparent LL=-11979.48 Train LL=-2847.06 Test LL=-622.58 Test Accuracy=0.872\n",
      "test accuracy = 0.8711111111111111\n",
      "loop=1150 Apparent LL=-11945.7 Train LL=-2852.68 Test LL=-624.01 Test Accuracy=0.871\n",
      "test accuracy = 0.87\n",
      "loop=1200 Apparent LL=-11917.17 Train LL=-2858.2 Test LL=-625.4 Test Accuracy=0.87\n",
      "test accuracy = 0.8688888888888889\n",
      "loop=1250 Apparent LL=-11892.91 Train LL=-2863.58 Test LL=-626.74 Test Accuracy=0.869\n",
      "test accuracy = 0.8688888888888889\n",
      "loop=1300 Apparent LL=-11872.12 Train LL=-2868.79 Test LL=-628.04 Test Accuracy=0.869\n",
      "test accuracy = 0.8688888888888889\n",
      "loop=1350 Apparent LL=-11854.19 Train LL=-2873.81 Test LL=-629.28 Test Accuracy=0.869\n",
      "test accuracy = 0.8688888888888889\n",
      "loop=1400 Apparent LL=-11838.6 Train LL=-2878.62 Test LL=-630.46 Test Accuracy=0.869\n",
      "test accuracy = 0.8677777777777778\n",
      "loop=1450 Apparent LL=-11824.98 Train LL=-2883.23 Test LL=-631.59 Test Accuracy=0.868\n",
      "test accuracy = 0.8677777777777778\n",
      "loop=1500 Apparent LL=-11812.99 Train LL=-2887.62 Test LL=-632.67 Test Accuracy=0.868\n",
      "accuracy on noised training set = 0.6096666666666667\n",
      "train accuracy = 0.8716666666666667\n",
      "test accuracy = 0.8677777777777778\n",
      "Apparent Log-likelihood, [-15751.5, -15532.7, -15358.4, -15193.3, -15004.8, -14774.1, -14501.5, -14200.9, -13891.4, -13590.9, -13312.8, -13064.7, -12849.6, -12666.9, -12514.1, -12387.4, -12283.0, -12197.1, -12126.4, -12068.1, -12019.8, -11979.5, -11945.7, -11917.2, -11892.9, -11872.1, -11854.2, -11838.6, -11825.0, -11813.0]Train Log-likelihood, [-5716.68, -4688.0, -3999.65, -3554.13, -3270.29, -3090.94, -2978.36, -2908.24, -2865.03, -2838.87, -2823.59, -2815.36, -2811.77, -2811.3, -2812.96, -2816.08, -2820.21, -2825.01, -2830.26, -2835.76, -2841.4, -2847.06, -2852.68, -2858.2, -2863.58, -2868.79, -2873.81, -2878.62, -2883.23, -2887.62]Test Log-likelihood, [-1145.01, -951.489, -822.811, -740.216, -688.299, -656.133, -636.491, -624.714, -617.841, -614.012, -612.086, -611.364, -611.419, -611.988, -612.901, -614.044, -615.34, -616.732, -618.179, -619.651, -621.124, -622.582, -624.01, -625.399, -626.743, -628.037, -629.278, -630.464, -631.594, -632.668"
     ]
    },
    {
     "name": "stderr",
     "output_type": "stream",
     "text": [
      "\r",
      "\u001b[32mProgress:  43%|██████████████████                       |  ETA: 0:00:00\u001b[39m"
     ]
    },
    {
     "name": "stdout",
     "output_type": "stream",
     "text": [
      "]"
     ]
    },
    {
     "name": "stderr",
     "output_type": "stream",
     "text": [
      "\u001b[32mProgress: 100%|█████████████████████████████████████████| Time: 0:00:00\u001b[39m\n"
     ]
    },
    {
     "name": "stdout",
     "output_type": "stream",
     "text": [
      "loop=50 Train LL=-2741.75 Test LL=-597.55 Test Accuracy=0.874\n",
      "loop=100 Train LL=-2643.33 Test LL=-573.25 Test Accuracy=0.882\n",
      "loop=150 Train LL=-2576.09 Test LL=-556.23 Test Accuracy=0.883\n",
      "loop=200 Train LL=-2531.52 Test LL=-544.69 Test Accuracy=0.887\n",
      "loop=250 Train LL=-2498.85 Test LL=-536.06 Test Accuracy=0.887\n",
      "loop=300 Train LL=-2475.04 Test LL=-529.67 Test Accuracy=0.887\n",
      "loop=350 Train LL=-2458.17 Test LL=-525.07 Test Accuracy=0.888\n",
      "loop=400 Train LL=-2445.39 Test LL=-521.55 Test Accuracy=0.888\n",
      "loop=450 Train LL=-2436.21 Test LL=-519.0 Test Accuracy=0.888\n",
      "loop=500 Train LL=-2429.05 Test LL=-516.99 Test Accuracy=0.888\n",
      "loop=550 Train LL=-2423.29 Test LL=-515.38 Test Accuracy=0.889\n",
      "loop=600 Train LL=-2419.95 Test LL=-514.43 Test Accuracy=0.889\n",
      "loop=650 Train LL=-2416.44 Test LL=-513.42 Test Accuracy=0.889\n",
      "loop=700 Train LL=-2413.42 Test LL=-512.56 Test Accuracy=0.889\n",
      "loop=750 Train LL=-2411.81 Test LL=-512.1 Test Accuracy=0.889\n",
      "loop=800 Train LL=-2410.12 Test LL=-511.62 Test Accuracy=0.888\n",
      "loop=850 Train LL=-2408.06 Test LL=-511.03 Test Accuracy=0.888\n",
      "loop=900 Train LL=-2406.69 Test LL=-510.64 Test Accuracy=0.889\n",
      "loop=950 Train LL=-2405.1 Test LL=-510.17 Test Accuracy=0.889\n",
      "loop=1000 Train LL=-2404.54 Test LL=-510.0 Test Accuracy=0.889\n",
      "4650.031605 seconds (52.55 G allocations: 2.070 TiB, 4.33% gc time)\n",
      "spread training accuracy = 0.8907777777777778\n",
      "spread test accuracy = 0.8888888888888888\n",
      "Train Log-likelihood, [-2741.75, -2643.33, -2576.09, -2531.52, -2498.85, -2475.04, -2458.17, -2445.39, -2436.21, -2429.05, -2423.29, -2419.95, -2416.44, -2413.42, -2411.81, -2410.12, -2408.06, -2406.69, -2405.1, -2404.54]Test Log-likelihood, [-597.554, -573.251, -556.229, -544.689, -536.064, -529.671, -525.071, -521.554, -519.0, -516.991, -515.376, -514.429, -513.423, -512.564, -512.105, -511.616, -511.033, -510.64, -510.173, -510.003]"
     ]
    }
   ],
   "source": [
    "m=4\n",
    "S=2 # number of spread samples per training datapoint\n",
    "update = 50\n",
    "# for b in (14,7,4,2,1)\n",
    "for b in (1)\n",
    "    X = convert(Int64,784/b^2)\n",
    "#     for epsilon in (1,3,5,7,10,20)\n",
    "    for epsilon in (1)\n",
    "        println(\"b = \", b, \", epsilon = \", epsilon)\n",
    "        #############################################################\n",
    "        (ctilde, xtilde, x_pixel)=spread_divergence(c,x,b,m,epsilon,false)\n",
    "        thetaS=zeros(X)\n",
    "        learning_rate=0.1\n",
    "        Nloops=1500\n",
    "        LL_apparent=zeros(Nloops÷update)\n",
    "        LL_train=zeros(Nloops÷update)\n",
    "        LL_test=zeros(Nloops÷update)\n",
    "#         @showprogress 1 \"Standard Logistic Regression training\"  \n",
    "        for loop=1:Nloops \n",
    "            grad=zeros(X)\n",
    "            x_truncate=zeros(X,Ntrain)\n",
    "            for n=1:Ntrain\n",
    "                x_truncate[:,n]=truncate(x_pixel[:,n])\n",
    "                grad=grad + grad_theta(thetaS,ctilde[n],x_truncate[:,n])\n",
    "            end\n",
    "            thetaS = thetaS+learning_rate*grad/Ntrain\n",
    "            if loop%update==0\n",
    "                LL_apparent[loop÷update]=loglik(b,thetaS,ctilde,x_truncate)\n",
    "                LL_train[loop÷update]=loglik(b,thetaS,c,x)\n",
    "                LL_test[loop÷update]=loglik(b,thetaS,ctest,xtest)\n",
    "                ctestpred=zeros(Int,Ntest)\n",
    "                for n=1:Ntest\n",
    "                    if sigmoid(sum(thetaS.*xtest[:,n])) >0.5\n",
    "                        ctestpred[n]=1\n",
    "                    end    \n",
    "                end\n",
    "                test_accuracy = mean(ctestpred.==ctest)\n",
    "                println(\"test accuracy = $(test_accuracy)\") \n",
    "                println(\"loop=\", loop,\" Apparent LL=\", \n",
    "                    round(LL_apparent[loop÷update]; digits=2),\" Train LL=\", \n",
    "                    round(LL_train[loop÷update]; digits=2),\" Test LL=\", \n",
    "                    round(LL_test[loop÷update]; digits=2), \" Test Accuracy=\",\n",
    "                    round(test_accuracy; digits=3))\n",
    "            end \n",
    "        end\n",
    "        # check training data accuracy\n",
    "        cpred=zeros(Int,Ntrain)\n",
    "        for n=1:Ntrain\n",
    "            if sigmoid(sum(thetaS.*xtilde[:,n])) >0.5\n",
    "                cpred[n]=1\n",
    "            end    \n",
    "        end\n",
    "        flip_accuracy = mean(cpred.==ctilde)\n",
    "        println(\"accuracy on noised training set = $(flip_accuracy)\")\n",
    "        ctrainpred=zeros(Int,Ntrain)\n",
    "        for n=1:Ntrain\n",
    "            if sigmoid(sum(thetaS.*x[:,n])) >0.5\n",
    "                ctrainpred[n]=1\n",
    "            end    \n",
    "        end\n",
    "        train_accuracy = mean(ctrainpred.==c)\n",
    "        println(\"train accuracy = $(train_accuracy)\")\n",
    "        ctestpred=zeros(Int,Ntest)\n",
    "        for n=1:Ntest\n",
    "            if sigmoid(sum(thetaS.*xtest[:,n])) >0.5\n",
    "                ctestpred[n]=1\n",
    "            end    \n",
    "        end\n",
    "        test_accuracy = mean(ctestpred.==ctest)\n",
    "        println(\"test accuracy = $(test_accuracy)\")\n",
    "        print(\"Apparent Log-likelihood, \", LL_apparent)\n",
    "        print(\"Train Log-likelihood, \", LL_train) \n",
    "        print(\"Test Log-likelihood, \", LL_test) \n",
    "#         plot(LL_apparent)\n",
    "#         plot(LL_real)\n",
    "        ############################################################\n",
    "        learning_rate=0.005\n",
    "        Nloops=1000\n",
    "        LLS_train=zeros(Nloops÷update)\n",
    "        LLS_test=zeros(Nloops÷update)\n",
    "        thetaB=zeros(size(x_pixel))\n",
    "        #TODO:\n",
    "        # also with some spread, maybe better than hard binomial\n",
    "        # test on binary image, not gray scale\n",
    "        @showprogress for n=1:Ntrain        # speed-up: only find thetaB once\n",
    "            thetaB[:,n] = prob_xgtx_binomial(x_pixel[:,n],b,m,epsilon)\n",
    "        end\n",
    "        @time  for loop=1:Nloops\n",
    "            grad=zeros(X)\n",
    "            for n=1:Ntrain\n",
    "                pc=prob_cgtc(ctilde[n])# second element is prob that c=1\n",
    "                w=zeros(S)\n",
    "                thisgrad=zeros(X)\n",
    "                for s=1:S\n",
    "                    xsample=zeros(X)\n",
    "                    csample=rand(Binomial(1,pc[2])) # sample p(c|ctilde)\n",
    "                    for l=1:X\n",
    "                        xsample[l]=rand(Binomial(1,thetaB[l,n]))\n",
    "                    end                  \n",
    "                    w[s]=sigmoid((2*csample-1)*sum(thetaS.*xsample))\n",
    "                    thisgrad=thisgrad + w[s]*grad_theta(thetaS,csample,xsample)\n",
    "                end\n",
    "                grad=grad + thisgrad./sum(w)\n",
    "            end\n",
    "            \n",
    "            thetaS = thetaS+learning_rate*grad/Ntrain\n",
    "            if loop%update==0\n",
    "                ctestpred=zeros(Int,Ntest)\n",
    "                for n=1:Ntest\n",
    "                    if sigmoid(sum(thetaS.*xtest[:,n])) >0.5\n",
    "                        ctestpred[n]=1\n",
    "                    end    \n",
    "                end\n",
    "                test_accuracy = mean(ctestpred.==ctest)\n",
    "                LLS_train[loop÷update]=loglik(b,thetaS,c,x)\n",
    "                LLS_test[loop÷update]=loglik(b,thetaS,ctest,xtest)\n",
    "                println(\"loop=\", loop,\" Train LL=\", round(LLS_train[loop÷update]; digits=2),\n",
    "                    \" Test LL=\", round(LLS_test[loop÷update]; digits=2), \" Test Accuracy=\",\n",
    "                    round(test_accuracy; digits=3))                \n",
    "            end             \n",
    "#             if loop != 1 && loop > 20\n",
    "#                 if (LLS[loop]-LLS[loop-1]) < 0.1\n",
    "#                     println(\"Loop # \", loop)\n",
    "#                     break\n",
    "#                 end\n",
    "#             end\n",
    "        end\n",
    "        cpredS=zeros(Int,Ntrain)\n",
    "        for n=1:Ntrain\n",
    "            if sigmoid(sum(thetaS.*pixelization(x[:,n],b,0,epsilon,false)[2])) >0.5\n",
    "                cpredS[n]=1\n",
    "            end    \n",
    "        end\n",
    "        train_accuracyS = mean(cpredS.==c)\n",
    "        println(\"spread training accuracy = $(train_accuracyS)\")\n",
    "        ctestpredS=zeros(Int,Ntest)\n",
    "        for n=1:Ntest\n",
    "            if sigmoid(sum(thetaS.*pixelization(xtest[:,n],b,0,epsilon,false)[2])) >0.5\n",
    "                ctestpredS[n]=1\n",
    "            end    \n",
    "        end\n",
    "        test_accuracyS = mean(ctestpredS.==ctest)\n",
    "        println(\"spread test accuracy = $(test_accuracyS)\")\n",
    "        print(\"Train Log-likelihood, \", LLS_train) \n",
    "        print(\"Test Log-likelihood, \", LLS_test) \n",
    "    end\n",
    "end"
   ]
  },
  {
   "cell_type": "code",
   "execution_count": null,
   "metadata": {},
   "outputs": [],
   "source": [
    "# now do spread divergence training\n",
    "\n",
    "# global thetaS=zeros(784)\n",
    "# learning_rate=0.2\n",
    "# Nloops=40\n",
    "# LLS=zeros(Nloops)\n",
    "\n",
    "# @showprogress 1 \"Spread training\"  for loop=1:Nloops\n",
    "#     grad=zeros(784)\n",
    "#     for n=1:Ntrain\n",
    "#         pc=prob_cgtc(ctilde[n])# second element is prob that c=1\n",
    "#         #(mean_xgtx,var_xgtx)= prob_xgtx(xtilde[:,n])\n",
    "#         prob_xgtx!(xtilde[:,n])\n",
    "#         w=zeros(S)\n",
    "#         thisgrad=zeros(X)\n",
    "#         for s=1:S\n",
    "#             csample=rand(Binomial(1,pc[2])) # sample p(c|ctilde)\n",
    "#             xsample=mean_xgtx+sqrt.(var_xgtx).*randn(X,1)\n",
    "#             w[s]=sigmoid((2*csample-1)*sum(thetaS.*xsample))\n",
    "#             thisgrad=thisgrad + w[s]*grad_theta(thetaS,csample,xsample)\n",
    "#         end\n",
    "#         grad=grad + thisgrad./sum(w)\n",
    "#     end\n",
    "#     global thetaS = thetaS+learning_rate*grad/Ntrain\n",
    "#     LLS[loop]=loglik(thetaS,c,x)\n",
    "# end\n",
    "\n",
    "# plot(LLS)"
   ]
  },
  {
   "cell_type": "code",
   "execution_count": null,
   "metadata": {},
   "outputs": [],
   "source": [
    "# # check training data accuracy\n",
    "\n",
    "# cpredS=zeros(Int,Ntrain)\n",
    "# for n=1:Ntrain\n",
    "#     if sigmoid(sum(thetaS.*x[:,n])) >0.5\n",
    "#         cpredS[n]=1\n",
    "#     end    \n",
    "# end\n",
    "\n",
    "# train_accuracyS = mean(cpredS.==c)\n",
    "# println(\"spread training accuracy = $(train_accuracyS)\")\n",
    "\n",
    "\n",
    "# ctestpredS=zeros(Int,Ntest)\n",
    "# for n=1:Ntest\n",
    "#     if sigmoid(sum(thetaS.*xtest[:,n])) >0.5\n",
    "#         ctestpredS[n]=1\n",
    "#     end    \n",
    "# end\n",
    "\n",
    "# test_accuracyS = mean(ctestpredS.==ctest)\n",
    "# println(\"spread test accuracy = $(test_accuracyS)\")"
   ]
  },
  {
   "cell_type": "markdown",
   "metadata": {},
   "source": [
    "# Visualization MNIST digits with different degrees of pixelization\n",
    "## Note that all noised images have the same level of differential privacy"
   ]
  },
  {
   "cell_type": "code",
   "execution_count": 1,
   "metadata": {},
   "outputs": [
    {
     "ename": "UndefVarError",
     "evalue": "UndefVarError: x not defined",
     "output_type": "error",
     "traceback": [
      "UndefVarError: x not defined",
      "",
      "Stacktrace:",
      " [1] top-level scope at In[1]:1"
     ]
    }
   ],
   "source": [
    "# original image of digit 7\n",
    "plot_image(x[:, 1])"
   ]
  },
  {
   "cell_type": "code",
   "execution_count": null,
   "metadata": {
    "scrolled": true
   },
   "outputs": [],
   "source": [
    "# noised image of digit 7, no pixelization\n",
    "plot_image(pixelization(x[:,1],1,4,20)[1])"
   ]
  },
  {
   "cell_type": "code",
   "execution_count": null,
   "metadata": {
    "scrolled": false
   },
   "outputs": [],
   "source": [
    "# unnoised image of digit 7, pixel size 2*2\n",
    "plot_image(pixelization(x[:,1],2,0,1)[1])"
   ]
  },
  {
   "cell_type": "code",
   "execution_count": null,
   "metadata": {},
   "outputs": [],
   "source": [
    "# noised image of digit 7, pixel size 2*2\n",
    "plot_image(pixelization(x[:,1],2,4,20)[1])"
   ]
  },
  {
   "cell_type": "code",
   "execution_count": null,
   "metadata": {},
   "outputs": [],
   "source": [
    "# unnoised image of digit 7, pixel size 4*4\n",
    "plot_image(pixelization(x[:,1],4,0,1)[1])"
   ]
  },
  {
   "cell_type": "code",
   "execution_count": null,
   "metadata": {},
   "outputs": [],
   "source": [
    "# noised image of digit 7, pixel size 4*4\n",
    "plot_image(pixelization(x[:,1],4,4,20)[1])"
   ]
  },
  {
   "cell_type": "code",
   "execution_count": null,
   "metadata": {},
   "outputs": [],
   "source": [
    "# unnoised image of digit 7, pixel size 7*7\n",
    "plot_image(pixelization(x[:,1],7,0,1)[1])"
   ]
  },
  {
   "cell_type": "code",
   "execution_count": null,
   "metadata": {},
   "outputs": [],
   "source": [
    "# noised image of digit 7, pixel size 7*7\n",
    "plot_image(pixelization(x[:,1],7,4,20)[1])"
   ]
  },
  {
   "cell_type": "code",
   "execution_count": null,
   "metadata": {},
   "outputs": [],
   "source": [
    "# unnoised image of digit 7, pixel size 14*14\n",
    "plot_image(pixelization(x[:,1],14,0,1)[1])"
   ]
  },
  {
   "cell_type": "code",
   "execution_count": null,
   "metadata": {},
   "outputs": [],
   "source": [
    "# noised image of digit 7, pixel size 14*14\n",
    "plot_image(pixelization(x[:,1],14,4,20)[1])"
   ]
  },
  {
   "cell_type": "code",
   "execution_count": null,
   "metadata": {},
   "outputs": [],
   "source": [
    "# original image of digit 9\n",
    "plot_image(x[:, 4501])"
   ]
  },
  {
   "cell_type": "code",
   "execution_count": null,
   "metadata": {},
   "outputs": [],
   "source": [
    "# noised image of digit 9, no pixelization\n",
    "plot_image(pixelization(x[:,4501],1,4,20)[1])"
   ]
  },
  {
   "cell_type": "code",
   "execution_count": null,
   "metadata": {},
   "outputs": [],
   "source": [
    "# unnoised image of digit 9, pixel size 2*2\n",
    "plot_image(pixelization(x[:,4501],2,0,1)[1])"
   ]
  },
  {
   "cell_type": "code",
   "execution_count": null,
   "metadata": {},
   "outputs": [],
   "source": [
    "# noised image of digit 9, pixel size 2*2\n",
    "plot_image(pixelization(x[:,4501],2,4,20)[1])"
   ]
  },
  {
   "cell_type": "code",
   "execution_count": null,
   "metadata": {},
   "outputs": [],
   "source": [
    "# unnoised image of digit 9, pixel size 4*4\n",
    "plot_image(pixelization(x[:,4501],4,0,10)[1])"
   ]
  },
  {
   "cell_type": "code",
   "execution_count": null,
   "metadata": {},
   "outputs": [],
   "source": [
    "# noised image of digit 9, pixel size 4*4\n",
    "plot_image(pixelization(x[:,4501],4,4,20)[1])"
   ]
  },
  {
   "cell_type": "code",
   "execution_count": null,
   "metadata": {},
   "outputs": [],
   "source": [
    "# unnoised image of digit 9, pixel size 7*7\n",
    "plot_image(pixelization(x[:,4501],7,0,10)[1])"
   ]
  },
  {
   "cell_type": "code",
   "execution_count": null,
   "metadata": {},
   "outputs": [],
   "source": [
    "# noised image of digit 9, pixel size 7*7\n",
    "plot_image(pixelization(x[:,4501],7,4,20)[1])"
   ]
  },
  {
   "cell_type": "code",
   "execution_count": null,
   "metadata": {},
   "outputs": [],
   "source": [
    "# unnoised image of digit 9, pixel size 14*14\n",
    "plot_image(pixelization(x[:,4501],14,0,10)[1])"
   ]
  },
  {
   "cell_type": "code",
   "execution_count": null,
   "metadata": {},
   "outputs": [],
   "source": [
    "# noised image of digit 9, pixel size 14*14\n",
    "plot_image(pixelization(x[:,4501],14,4,20)[1])"
   ]
  },
  {
   "cell_type": "markdown",
   "metadata": {},
   "source": [
    "# Visualization of whether have bounds"
   ]
  },
  {
   "cell_type": "code",
   "execution_count": 104,
   "metadata": {},
   "outputs": [],
   "source": [
    "no_bounds = pixelization(x[:,1],1,4,1,false)[1]\n",
    "with_bounds = zeros(784)\n",
    "for i=1:784\n",
    "    with_bounds[i] = no_bounds[i]\n",
    "    if no_bounds[i] > 1\n",
    "        with_bounds[i] = 1\n",
    "    end\n",
    "    if no_bounds[i] < 0\n",
    "        with_bounds[i] = 0\n",
    "    end\n",
    "end"
   ]
  },
  {
   "cell_type": "code",
   "execution_count": 110,
   "metadata": {},
   "outputs": [
    {
     "name": "stdout",
     "output_type": "stream",
     "text": [
      "[-4.75464, 4.85929, 1.97289, 1.87423, -6.5681, 3.96475, 0.415341, -2.26707, 12.1905, 6.32462, -4.65902, -5.1601, -3.4902, -1.3713, -0.241191, 1.02491, 2.76642, 2.62158, 1.28349, 10.6777, 8.39552, -0.184395, -3.12493, 16.1774, 1.32576, 8.45967, -12.5251, -0.556334, 10.1303, 0.862476, 0.987333, -1.09489, -0.522932, -1.18815, -1.21406, -4.96184, -0.323693, 1.40283, -0.907609, -0.39121, 0.698132, 1.01539, 2.52478, -2.63586, 0.545802, -0.768386, 2.24182, 0.254252, 2.43736, 3.07282, 0.136325, 7.38093, -2.00607, -2.92581, -4.76234, -3.67606, 5.48466, 0.217718, -0.985706, -15.9722, 2.20542, 2.03904, 0.802684, 1.10685, -9.63921, -3.48061, -1.01665, -9.70238, 0.533464, -2.23635, -5.71698, -3.43168, -3.4337, 2.2897, -0.401571, -0.96519, -5.60915, 1.91294, 2.5746, 6.71542, 3.44021, 10.7308, -1.55011, 1.33758, 8.42241, 7.15592, -0.59966, -1.76265, 21.9692, -12.255, 0.971902, -2.18678, -4.53309, 2.97122, -2.80176, -0.483656, 1.99256, 3.44423, -0.787676, 2.29486, -5.38002, 8.9777, -5.62801, -5.44718, -2.5128, 2.42867, 3.03063, 1.78847, 2.56391, 2.81201, 0.993927, -3.32186, 2.42139, -0.0571139, -3.83718, -1.19751, -1.69865, -4.5737, 3.87213, -8.63387, -3.04841, 2.82716, 2.96085, -1.3967, 0.278175, 1.25881, 0.846825, -2.3459, -1.56689, 2.98358, -6.98604, 2.6417, -4.61635, -0.723404, 9.41549, -3.18853, -2.58691, -3.76089, 12.9125, 7.95053, 2.98318, 5.00447, 1.37608, 5.09021, -5.2644, 0.708156, 2.82912, 0.75861, 4.47734, -1.26304, -1.06296, -4.85462, -1.78155, -8.00401, -0.259857, -24.662, -3.84527, -0.732753, -5.83505, 1.64689, 7.13432, 0.85595, 2.24182, -1.29295, -2.92819, 5.08876, 2.87502, -0.396054, 2.76394, 6.58482, -1.28127, 2.57098, -0.767448, -0.512145, -6.0647, -2.4522, 0.0912099, 8.5279, 14.3099, 24.5645, 3.18337, -5.58612, -2.52397, 1.54158, -1.50953, 0.274503, -2.02828, -1.1818, -4.31583, 9.34727, -5.56272, -5.72085, -0.0146086, -0.137429, 0.0570838, 5.65118, -11.4129, -7.0149, -1.27795, -10.9994, 2.31281, -0.681533, 9.03894, -3.03123, 5.97687, -1.6674, -5.66442, -8.63657, 3.64432, 3.79095, -0.61131, 8.53749, -0.418687, -1.41919, 8.0917, -3.79849, 1.20578, 4.61675, -2.37537, 8.11691, 2.3786, -2.84882, 0.613385, -9.89742, 2.16331, -3.33136, 3.94008, -12.0827, -3.05326, -0.159656, 2.50953, -1.46998, -2.06528, -3.13433, 0.863424, -21.0721, -7.38668, 0.990766, 3.56394, -3.22465, 3.1496, 9.73711, 3.53438, 4.25727, -0.286795, 0.408934, -0.652183, 0.545555, -0.320718, 3.24679, 2.20142, -7.02033, 5.22086, -2.40239, -0.903837, -5.62742, 8.47849, 10.7372, 5.91165, 4.26503, -17.4059, 2.53101, 3.62365, 5.16896, 10.4118, 3.64124, -5.23751, 5.34276, -10.537, 13.6417, -1.79452, -3.75577, 5.10729, -6.47907, -6.63997, -14.2458, 7.51809, -2.81963, -0.559345, -2.72972, 2.17902, 2.36932, 1.59732, 2.35467, 0.199741, -1.12843, 9.06557, -5.34307, 3.81242, 2.84704, -18.4486, -9.50595, 4.7187, -4.43092, 3.04634, 1.03954, -3.46796, -1.64099, -1.03715, -6.4612, -5.20718, 0.823291, 1.92831, -5.0071, -0.181398, 11.0536, 1.73874, 4.61186, 3.06394, -3.34614, 0.626029, -0.155577, 0.738303, -1.29092, 7.7603, -2.92407, 7.72657, -2.41436, 4.20756, 7.36884, -5.08927, 6.28584, 1.59133, -4.75124, 4.75303, -0.387343, 1.77655, -2.27588, -3.76291, -0.153505, 10.9227, -0.332906, -3.46462, -6.86433, -0.947601, -4.04726, 1.59246, 3.39215, 0.234431, 2.32731, 0.487524, -0.0643698, 0.755829, 4.42302, 3.5618, -1.16241, 10.301, -3.81272, 5.50602, -4.13562, -6.48353, 8.27064, 3.26972, 1.36956, 1.73117, 11.8963, 3.72023, -1.46024, 8.65241, -7.01932, -1.09515, 1.03575, 2.49917, -2.28147, 11.9205, 1.81973, 4.30343, 2.42642, -7.28663, 1.85354, 8.02993, -1.22868, 4.88252, 0.0944186, -7.6144, 2.89933, -3.96081, -5.39895, -1.10725, 2.75895, 0.298389, 0.848296, 1.07, -12.6893, 0.656722, 7.97177, -2.16785, -6.08831, -1.56886, 1.26503, -12.1633, 8.50286, -0.270168, 3.35891, 11.3912, -1.30011, 2.80509, 1.11959, -7.94665, -0.630369, -1.12137, -2.40405, -0.742109, -1.39146, -0.928033, -0.977591, -5.35038, 0.103975, -10.1719, -0.0226594, 1.6769, -1.24336, -8.64167, -1.51184, 0.104476, -6.52288, -0.107352, -0.233179, 0.0325079, -1.29331, -0.724296, 15.71, -0.477244, 1.0952, 1.25386, 3.56455, -3.61056, 4.4569, -1.10046, 1.39051, 7.65875, -1.24008, -0.463353, 7.70071, -5.98145, 1.16548, -3.23761, -0.976269, -2.94811, 2.99857, -0.353125, -2.31307, 1.10184, -0.396792, -8.11326, 19.5203, -3.12603, -0.952633, 0.545279, -0.995512, 3.05347, 1.13163, -1.13952, 7.2611, 10.1178, -4.1395, -1.19221, -0.277133, -1.79193, 0.331542, 1.01904, 12.6094, 0.42904, -1.48888, -0.998971, -1.69817, -1.57675, -3.98971, -2.56136, 3.25156, -5.5173, -2.84653, -6.56044, 12.8982, -2.6013, -2.80178, -3.11439, -1.82643, -0.841243, 2.71026, -1.07975, -7.7104, 0.709392, -0.827724, 1.54263, 3.82213, 3.95635, -3.05179, 2.87828, 0.604027, 3.89101, 1.40866, 1.93174, 2.05377, 8.6314, 5.7193, 13.6534, -1.04255, 1.65638, 4.08232, 4.87472, 3.96224, 1.03075, 1.77664, 0.979059, 0.207574, -0.614348, -2.20595, -1.61572, 4.12708, 2.012, -0.686662, -0.788787, 1.4523, -15.9613, 0.598482, 4.3584, 9.71744, 1.78946, -4.60203, 0.313057, -5.22017, -5.1942, -10.9618, 9.32178, 6.23999, 0.511918, 1.97869, 4.27725, 2.24495, 7.46319, 2.82666, 6.1632, -2.65562, -3.2374, -5.08392, -0.79213, -6.15173, 6.7304, 1.14893, -8.36269, -3.32032, -2.54618, 3.22829, -7.0467, 4.50611, -5.01701, 3.76388, 0.521976, -7.43808, -2.33871, -2.76977, -5.57504, 3.35808, 2.00639, 6.33882, -6.2612, 0.941729, 9.14707, -2.5111, 5.38755, 3.99453, -4.35983, 4.32119, 0.86836, 1.44635, -8.94579, -10.3202, 8.27491, 0.303921, -0.327841, -6.17038, 8.33306, 5.93614, -9.2276, -9.61447, -2.81153, -2.33179, 3.57609, 7.49648, -4.7496, 0.0853677, 12.0066, 2.30937, -1.53505, -6.56604, 2.57473, -5.69573, 0.478277, 4.1671, -13.8317, -5.38984, 1.90932, 0.00202631, 4.03255, -8.0413, 7.1485, -0.487455, 1.33588, 1.82783, 17.1105, -2.68976, -0.752871, -2.50251, 5.32228, -0.795645, -0.0234633, -1.55519, -3.48176, 4.91859, -1.96909, -6.57978, 5.17201, 4.41156, 3.20925, -2.30873, 2.70058, -2.13001, -2.64858, -3.41756, -5.96885, -1.88951, 1.52131, 4.45785, 8.22178, 0.398616, -8.29252, -2.26924, -0.659374, 1.35258, 20.1634, 3.74894, -0.728853, -2.09811, -15.9123, 0.251345, -1.06635, -9.99911, 5.70018, 0.343426, 6.39624, -1.23231, -0.936066, -11.4551, 0.721113, -3.39195, -0.27645, -4.00783, 0.742749, 1.17271, -21.7217, -2.79612, 2.99827, -0.186101, 3.13183, -0.623978, 1.98109, 8.12488, -6.01575, 1.79906, -1.59739, -2.17328, -1.11651, 2.69378, -3.30616, 5.37409, -10.8671, 6.73979, -11.1822, 5.59706, -7.67099, -0.59569, 0.541288, 0.267289, -1.27096, -0.383448, -2.24382, -0.391803, -3.48917, -9.89873, -0.329346, -10.3094, -6.87776, -12.718, -2.08994, -1.45686, 0.816817, 0.0941569, -6.36481, -1.21867, 2.64431, 8.18533, -3.20544, -13.7079, -0.08819, -0.352423, 5.29307, -4.60451, 6.00636, 1.84004, -1.60948, -6.49525, -14.9918, -0.963304, 0.538011, 0.0321973, 9.93871, 5.10676, -1.07663, -7.84543, 2.77948, -1.27463, 5.51366, 0.283102, 1.49907, -1.75422, 3.12849, 1.21048, -2.89475, -1.26352, 1.85093, 1.30688, -7.75651, 0.777047, -1.91654, -0.859824, 0.0606214, -7.89486, -5.76532, 0.950671, -3.57683, 1.04202, -1.92137, -1.70456, -0.681643, 4.52618, -5.01982, -5.06708, -9.88539, 3.58959, 2.93566, -3.48231, -0.0204922, -1.67683, 5.9687, -7.00127, 0.544961, -1.54604, 2.4356, 2.1217, 0.54633, -0.949786, 2.87284, -7.3968, -2.21993, -4.32801, 2.79647, -10.0569, -0.144284, -9.10192, -12.2311, -10.0424, 4.03128, 1.91899, -10.2836, 3.09401, -4.20331, 6.05052, -5.7572, -4.3343, -0.0632508, 3.42801, -3.44274, -0.887956, -29.4927, -16.1518, 0.193288, -5.91439, -8.31469, 0.0193733, 3.10449, 4.30999, 4.46852, -5.62816]"
     ]
    }
   ],
   "source": [
    "print(no_bounds)"
   ]
  },
  {
   "cell_type": "code",
   "execution_count": 107,
   "metadata": {},
   "outputs": [
    {
     "data": {
      "image/png": "[encoded data removed]",
      "text/plain": [
       "Figure(PyObject <Figure size 640x480 with 1 Axes>)"
      ]
     },
     "metadata": {},
     "output_type": "display_data"
    }
   ],
   "source": [
    "plot_image(no_bounds)"
   ]
  },
  {
   "cell_type": "code",
   "execution_count": 109,
   "metadata": {},
   "outputs": [
    {
     "data": {
      "image/png": "[encoded data removed]",
      "text/plain": [
       "Figure(PyObject <Figure size 640x480 with 1 Axes>)"
      ]
     },
     "metadata": {},
     "output_type": "display_data"
    }
   ],
   "source": [
    "plot_image(with_bounds)"
   ]
  },
  {
   "cell_type": "markdown",
   "metadata": {},
   "source": [
    "# Original/Truncated/Denoise Image"
   ]
  },
  {
   "cell_type": "code",
   "execution_count": 89,
   "metadata": {},
   "outputs": [
    {
     "name": "stderr",
     "output_type": "stream",
     "text": [
      "\u001b[32mProgress: 100%|█████████████████████████████████████████| Time: 0:00:00\u001b[39m\n"
     ]
    },
    {
     "data": {
      "text/plain": [
       "784"
      ]
     },
     "execution_count": 89,
     "metadata": {},
     "output_type": "execute_result"
    }
   ],
   "source": [
    "b=1;m=4;epsilon=5\n",
    "(ctilde, xtilde, x_pixel)=spread_divergence(c,x,b,m,epsilon,false)\n",
    "thetaB=zeros(size(x_pixel))\n",
    "@showprogress for n=1:Ntrain        # speed-up: only find thetaB once\n",
    "    thetaB[:,n] = prob_xgtx_binomial(x_pixel[:,n],b,m,epsilon)\n",
    "end\n",
    "\n",
    "X = convert(Int64,784/b^2)"
   ]
  },
  {
   "cell_type": "code",
   "execution_count": null,
   "metadata": {},
   "outputs": [],
   "source": []
  },
  {
   "cell_type": "code",
   "execution_count": 90,
   "metadata": {},
   "outputs": [
    {
     "name": "stdout",
     "output_type": "stream",
     "text": [
      "Average MSE between original images and sample denoised images is 0.17130398600725696\n",
      "Average ME between original images and sample denoised images is 0.1886617405295452\n"
     ]
    }
   ],
   "source": [
    "S = 2\n",
    "MSEs=zeros(S,Ntrain)\n",
    "MEs=zeros(S,Ntrain)\n",
    "xsample=zeros(X,S,Ntrain)\n",
    "for n=1:Ntrain\n",
    "    for s=1:S\n",
    "        for l=1:X\n",
    "            xsample[l,s,n]=rand(Binomial(1,thetaB[l,n]))\n",
    "        end\n",
    "        MSEs[s,n]=MSE(x[:,n],xsample[:,s,n])\n",
    "        MEs[s,n]=ME(x[:,n],xsample[:,s,n])\n",
    "    end          \n",
    "end\n",
    "println(\"Average MSE between original images and sample denoised images is \", mean(MSEs))\n",
    "println(\"Average ME between original images and sample denoised images is \", mean(MEs))\n",
    "\n"
   ]
  },
  {
   "cell_type": "code",
   "execution_count": 91,
   "metadata": {},
   "outputs": [
    {
     "name": "stdout",
     "output_type": "stream",
     "text": [
      "Average MSE between original images and truncated noised images is 0.2231198904247923\n",
      "Average ME between original images and truncated noised images is 0.29157508951562106\n"
     ]
    }
   ],
   "source": [
    "MSEs=zeros(Ntrain)\n",
    "MEs=zeros(Ntrain)\n",
    "for n=1:Ntrain\n",
    "    MSEs[n]=MSE(x[:,n],truncate(xtilde[:,n]))\n",
    "    MEs[n]=ME(x[:,n],truncate(xtilde[:,n]))\n",
    "end\n",
    "\n",
    "\n",
    "println(\"Average MSE between original images and truncated noised images is \", mean(MSEs))\n",
    "println(\"Average ME between original images and truncated noised images is \", mean(MEs))"
   ]
  },
  {
   "cell_type": "code",
   "execution_count": 93,
   "metadata": {},
   "outputs": [
    {
     "data": {
      "text/plain": [
       "110"
      ]
     },
     "execution_count": 93,
     "metadata": {},
     "output_type": "execute_result"
    }
   ],
   "source": [
    "counter1=0\n",
    "for n=1:784\n",
    "    if xsample[n,2,1]==1\n",
    "        counter1+=1\n",
    "    end\n",
    "end\n",
    "counter1"
   ]
  },
  {
   "cell_type": "code",
   "execution_count": 94,
   "metadata": {},
   "outputs": [
    {
     "data": {
      "image/png": "[encoded data removed]",
      "text/plain": [
       "Figure(PyObject <Figure size 640x480 with 1 Axes>)"
      ]
     },
     "metadata": {},
     "output_type": "display_data"
    },
    {
     "name": "stderr",
     "output_type": "stream",
     "text": [
      "┌ Warning: `getindex(o::PyObject, s::Symbol)` is deprecated in favor of dot overloading (`getproperty`) so elements should now be accessed as e.g. `o.s` instead of `o[:s]`.\n",
      "│   caller = plot_image(::Array{Float64,1}) at In[88]:11\n",
      "└ @ Main .\\In[88]:11\n"
     ]
    }
   ],
   "source": [
    "plot_image(x[:,n])"
   ]
  },
  {
   "cell_type": "code",
   "execution_count": 95,
   "metadata": {},
   "outputs": [
    {
     "data": {
      "image/png": "[encoded data removed]",
      "text/plain": [
       "Figure(PyObject <Figure size 640x480 with 1 Axes>)"
      ]
     },
     "metadata": {},
     "output_type": "display_data"
    }
   ],
   "source": [
    "plot_image(xtilde[:,n])"
   ]
  },
  {
   "cell_type": "markdown",
   "metadata": {},
   "source": [
    "## Truncated Images"
   ]
  },
  {
   "cell_type": "code",
   "execution_count": 96,
   "metadata": {},
   "outputs": [
    {
     "data": {
      "image/png": "[encoded data removed]",
      "text/plain": [
       "Figure(PyObject <Figure size 640x480 with 1 Axes>)"
      ]
     },
     "metadata": {},
     "output_type": "display_data"
    }
   ],
   "source": [
    "plot_image(truncate(xtilde[:,n]))"
   ]
  },
  {
   "cell_type": "markdown",
   "metadata": {},
   "source": [
    "## Sample Images"
   ]
  },
  {
   "cell_type": "code",
   "execution_count": 97,
   "metadata": {},
   "outputs": [
    {
     "data": {
      "image/png": "[encoded data removed]",
      "text/plain": [
       "Figure(PyObject <Figure size 640x480 with 1 Axes>)"
      ]
     },
     "metadata": {},
     "output_type": "display_data"
    }
   ],
   "source": [
    "plot_image(xsample[:,1,1])"
   ]
  },
  {
   "cell_type": "code",
   "execution_count": 98,
   "metadata": {},
   "outputs": [
    {
     "data": {
      "image/png": "[encoded data removed]",
      "text/plain": [
       "Figure(PyObject <Figure size 640x480 with 1 Axes>)"
      ]
     },
     "metadata": {},
     "output_type": "display_data"
    }
   ],
   "source": [
    "plot_image(xsample[:,2,2])"
   ]
  }
 ],
 "metadata": {
  "kernelspec": {
   "display_name": "Julia 1.1.1",
   "language": "julia",
   "name": "julia-1.1"
  },
  "language_info": {
   "file_extension": ".jl",
   "mimetype": "application/julia",
   "name": "julia",
   "version": "1.1.1"
  }
 },
 "nbformat": 4,
 "nbformat_minor": 2
}
